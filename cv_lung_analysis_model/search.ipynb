{
 "cells": [
  {
   "cell_type": "code",
   "execution_count": 1,
   "metadata": {},
   "outputs": [],
   "source": [
    "import os\n",
    "import numpy as np\n",
    "os.environ['TF_CPP_MIN_LOG_LEVEL'] = '2'\n",
    "\n",
    "import tensorflow as tf\n",
    "from tensorflow import keras\n",
    "from tensorflow.keras import layers\n",
    "tf.random.set_seed(1)\n",
    "\n",
    "\n",
    "inputs = keras.Input(shape=(128, 128, 3), name=\"img\")\n",
    "x = layers.Conv2D(128, 3, activation=\"relu\")(inputs)\n",
    "x = layers.Conv2D(256, 3, activation=\"relu\")(x)\n",
    "block_1_output = layers.MaxPooling2D(3)(x)\n",
    "\n",
    "x = layers.Conv2D(256, 3, activation=\"relu\", padding=\"same\")(block_1_output)\n",
    "x = layers.Conv2D(256, 3, activation=\"relu\", padding=\"same\")(x)\n",
    "block_2_output = layers.add([x, block_1_output])\n",
    "\n",
    "x = layers.Conv2D(256, 3, activation=\"relu\", padding=\"same\")(block_2_output)\n",
    "x = layers.Conv2D(256, 3, activation=\"relu\", padding=\"same\")(x)\n",
    "block_3_output = layers.add([x, block_2_output])\n",
    "\n",
    "x = layers.Conv2D(256, 3, activation=\"relu\")(block_3_output)\n",
    "x = layers.GlobalAveragePooling2D()(x)\n",
    "x = layers.Dense(1024, activation=\"relu\")(x)\n",
    "x = layers.Dropout(0.5)(x)\n",
    "outputs = layers.Dense(4, activation='softmax')(x)\n",
    "\n",
    "model = keras.Model(inputs, outputs, name=\"toy_resnet\")\n",
    "\n",
    "model.compile(optimizer='adam',\n",
    "             loss='categorical_crossentropy',\n",
    "             metrics=['accuracy'])\n"
   ]
  },
  {
   "cell_type": "code",
   "execution_count": 2,
   "metadata": {},
   "outputs": [
    {
     "name": "stdout",
     "output_type": "stream",
     "text": [
      "Model: \"toy_resnet\"\n",
      "__________________________________________________________________________________________________\n",
      " Layer (type)                   Output Shape         Param #     Connected to                     \n",
      "==================================================================================================\n",
      " img (InputLayer)               [(None, 128, 128, 3  0           []                               \n",
      "                                )]                                                                \n",
      "                                                                                                  \n",
      " conv2d (Conv2D)                (None, 126, 126, 12  3584        ['img[0][0]']                    \n",
      "                                8)                                                                \n",
      "                                                                                                  \n",
      " conv2d_1 (Conv2D)              (None, 124, 124, 25  295168      ['conv2d[0][0]']                 \n",
      "                                6)                                                                \n",
      "                                                                                                  \n",
      " max_pooling2d (MaxPooling2D)   (None, 41, 41, 256)  0           ['conv2d_1[0][0]']               \n",
      "                                                                                                  \n",
      " conv2d_2 (Conv2D)              (None, 41, 41, 256)  590080      ['max_pooling2d[0][0]']          \n",
      "                                                                                                  \n",
      " conv2d_3 (Conv2D)              (None, 41, 41, 256)  590080      ['conv2d_2[0][0]']               \n",
      "                                                                                                  \n",
      " add (Add)                      (None, 41, 41, 256)  0           ['conv2d_3[0][0]',               \n",
      "                                                                  'max_pooling2d[0][0]']          \n",
      "                                                                                                  \n",
      " conv2d_4 (Conv2D)              (None, 41, 41, 256)  590080      ['add[0][0]']                    \n",
      "                                                                                                  \n",
      " conv2d_5 (Conv2D)              (None, 41, 41, 256)  590080      ['conv2d_4[0][0]']               \n",
      "                                                                                                  \n",
      " add_1 (Add)                    (None, 41, 41, 256)  0           ['conv2d_5[0][0]',               \n",
      "                                                                  'add[0][0]']                    \n",
      "                                                                                                  \n",
      " conv2d_6 (Conv2D)              (None, 39, 39, 256)  590080      ['add_1[0][0]']                  \n",
      "                                                                                                  \n",
      " global_average_pooling2d (Glob  (None, 256)         0           ['conv2d_6[0][0]']               \n",
      " alAveragePooling2D)                                                                              \n",
      "                                                                                                  \n",
      " dense (Dense)                  (None, 1024)         263168      ['global_average_pooling2d[0][0]'\n",
      "                                                                 ]                                \n",
      "                                                                                                  \n",
      " dropout (Dropout)              (None, 1024)         0           ['dense[0][0]']                  \n",
      "                                                                                                  \n",
      " dense_1 (Dense)                (None, 4)            4100        ['dropout[0][0]']                \n",
      "                                                                                                  \n",
      "==================================================================================================\n",
      "Total params: 3,516,420\n",
      "Trainable params: 3,516,420\n",
      "Non-trainable params: 0\n",
      "__________________________________________________________________________________________________\n"
     ]
    }
   ],
   "source": [
    "model.summary()"
   ]
  },
  {
   "cell_type": "code",
   "execution_count": 3,
   "metadata": {},
   "outputs": [],
   "source": [
    "import numpy as np\n",
    "x_train = np.load('x_train.npy')[:-1]\n",
    "y_train = np.load('y_train.npy')[:-1]\n",
    "x_test = np.load('x_valid.npy')\n",
    "y_test = np.load('y_valid.npy')\n",
    "\n",
    "x_train = x_train / 255\n",
    "x_test = x_test / 255\n",
    "\n",
    "y_train = keras.utils.to_categorical(y_train, 4)\n",
    "y_test = keras.utils.to_categorical(y_test, 4)"
   ]
  },
  {
   "cell_type": "code",
   "execution_count": 4,
   "metadata": {},
   "outputs": [
    {
     "name": "stdout",
     "output_type": "stream",
     "text": [
      "Epoch 1/15\n",
      "14/14 [==============================] - 426s 31s/step - loss: 1.3193 - accuracy: 0.3885 - val_loss: 2.2653 - val_accuracy: 0.0000e+00\n",
      "Epoch 2/15\n",
      "14/14 [==============================] - 423s 30s/step - loss: 1.2090 - accuracy: 0.3517 - val_loss: 2.5016 - val_accuracy: 0.0000e+00\n",
      "Epoch 3/15\n",
      "14/14 [==============================] - 423s 30s/step - loss: 1.1277 - accuracy: 0.4417 - val_loss: 1.9624 - val_accuracy: 0.0000e+00\n",
      "Epoch 4/15\n",
      "14/14 [==============================] - 423s 30s/step - loss: 1.0559 - accuracy: 0.5992 - val_loss: 2.3283 - val_accuracy: 0.0000e+00\n",
      "Epoch 5/15\n",
      "14/14 [==============================] - 423s 30s/step - loss: 0.9284 - accuracy: 0.6176 - val_loss: 3.2187 - val_accuracy: 0.0000e+00\n",
      "Epoch 6/15\n",
      "14/14 [==============================] - 427s 31s/step - loss: 0.8080 - accuracy: 0.6360 - val_loss: 2.5404 - val_accuracy: 0.0000e+00\n",
      "Epoch 7/15\n",
      "14/14 [==============================] - 424s 30s/step - loss: 0.8145 - accuracy: 0.6155 - val_loss: 2.4433 - val_accuracy: 0.0000e+00\n",
      "Epoch 8/15\n",
      "14/14 [==============================] - 423s 30s/step - loss: 0.7935 - accuracy: 0.6319 - val_loss: 2.6938 - val_accuracy: 0.0000e+00\n",
      "Epoch 9/15\n",
      "14/14 [==============================] - 423s 30s/step - loss: 0.7771 - accuracy: 0.6953 - val_loss: 2.7389 - val_accuracy: 0.0000e+00\n",
      "Epoch 10/15\n",
      "14/14 [==============================] - 424s 30s/step - loss: 0.7693 - accuracy: 0.6442 - val_loss: 2.2607 - val_accuracy: 0.0000e+00\n",
      "Epoch 11/15\n",
      "14/14 [==============================] - 424s 30s/step - loss: 0.7424 - accuracy: 0.7076 - val_loss: 2.2762 - val_accuracy: 0.0000e+00\n",
      "Epoch 12/15\n",
      "14/14 [==============================] - 423s 30s/step - loss: 0.7561 - accuracy: 0.7137 - val_loss: 2.9278 - val_accuracy: 0.0000e+00\n",
      "Epoch 13/15\n",
      "14/14 [==============================] - 426s 31s/step - loss: 0.7097 - accuracy: 0.7260 - val_loss: 3.0055 - val_accuracy: 0.0000e+00\n",
      "Epoch 14/15\n",
      "14/14 [==============================] - 425s 31s/step - loss: 0.7041 - accuracy: 0.7096 - val_loss: 2.6062 - val_accuracy: 0.0000e+00\n",
      "Epoch 15/15\n",
      "14/14 [==============================] - 423s 30s/step - loss: 0.6812 - accuracy: 0.7219 - val_loss: 2.4671 - val_accuracy: 0.0000e+00\n",
      "3/3 [==============================] - 25s 7s/step - loss: 1.1013 - accuracy: 0.4583\n",
      "[1.1012564897537231, 0.4583333432674408]\n"
     ]
    }
   ],
   "source": [
    "model.fit(x_train, y_train, batch_size=36, epochs=15, validation_split=0.2)"
   ]
  },
  {
   "cell_type": "code",
   "execution_count": 5,
   "metadata": {},
   "outputs": [
    {
     "name": "stdout",
     "output_type": "stream",
     "text": [
      "3/3 [==============================] - 25s 7s/step - loss: 1.1013 - accuracy: 0.4583\n",
      "[1.1012564897537231, 0.4583333432674408]\n"
     ]
    }
   ],
   "source": [
    "print(model.evaluate(x_test, y_test))"
   ]
  },
  {
   "cell_type": "code",
   "execution_count": 6,
   "metadata": {},
   "outputs": [
    {
     "name": "stderr",
     "output_type": "stream",
     "text": [
      "WARNING:absl:Found untraced functions such as _jit_compiled_convolution_op, _jit_compiled_convolution_op, _jit_compiled_convolution_op, _jit_compiled_convolution_op, _jit_compiled_convolution_op while saving (showing 5 of 7). These functions will not be directly callable after loading.\n"
     ]
    },
    {
     "name": "stdout",
     "output_type": "stream",
     "text": [
      "INFO:tensorflow:Assets written to: lungs_model\\assets\n"
     ]
    },
    {
     "name": "stderr",
     "output_type": "stream",
     "text": [
      "INFO:tensorflow:Assets written to: lungs_model\\assets\n"
     ]
    }
   ],
   "source": [
    "model.save('lungs_model')"
   ]
  }
 ],
 "metadata": {
  "kernelspec": {
   "display_name": "machinelearning",
   "language": "python",
   "name": "python3"
  },
  "language_info": {
   "codemirror_mode": {
    "name": "ipython",
    "version": 3
   },
   "file_extension": ".py",
   "mimetype": "text/x-python",
   "name": "python",
   "nbconvert_exporter": "python",
   "pygments_lexer": "ipython3",
   "version": "3.10.8"
  },
  "orig_nbformat": 4
 },
 "nbformat": 4,
 "nbformat_minor": 2
}
