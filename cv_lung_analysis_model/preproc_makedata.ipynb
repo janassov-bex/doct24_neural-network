{
 "cells": [
  {
   "cell_type": "code",
   "execution_count": 62,
   "metadata": {},
   "outputs": [],
   "source": [
    "import cv2\n",
    "import os\n",
    "import numpy as np"
   ]
  },
  {
   "cell_type": "code",
   "execution_count": 2,
   "metadata": {},
   "outputs": [
    {
     "data": {
      "text/plain": [
       "{'adenocarcinoma_left.lower.lobe_T2_N0_M0_Ib': 0,\n",
       " 'large.cell.carcinoma_left.hilum_T2_N2_M0_IIIa': 1,\n",
       " 'normal': 2,\n",
       " 'squamous.cell.carcinoma_left.hilum_T1_N2_M0_IIIa': 3}"
      ]
     },
     "execution_count": 2,
     "metadata": {},
     "output_type": "execute_result"
    }
   ],
   "source": [
    "path = os.getcwd()\n",
    "train = os.listdir(path+'\\\\train')\n",
    "valid = os.listdir(path+'\\\\valid')\n",
    "classes = {i:number for number, i in enumerate(train)}\n",
    "classes #номера классов"
   ]
  },
  {
   "cell_type": "code",
   "execution_count": 63,
   "metadata": {},
   "outputs": [
    {
     "name": "stdout",
     "output_type": "stream",
     "text": [
      "Фото всего: 613\n"
     ]
    }
   ],
   "source": [
    "size = len(os.listdir(path+'\\\\train\\\\'+train[0]))\n",
    "size += len(os.listdir(path+'\\\\train\\\\'+train[1]))\n",
    "size += len(os.listdir(path+'\\\\train\\\\'+train[2]))\n",
    "size += len(os.listdir(path+'\\\\train\\\\'+train[3]))\n",
    "print(f'Фото всего: {size}')"
   ]
  },
  {
   "attachments": {},
   "cell_type": "markdown",
   "metadata": {},
   "source": [
    "Создание тренировочной части"
   ]
  },
  {
   "cell_type": "code",
   "execution_count": 64,
   "metadata": {},
   "outputs": [
    {
     "name": "stderr",
     "output_type": "stream",
     "text": [
      "100%|██████████| 4/4 [00:08<00:00,  2.09s/it]\n"
     ]
    }
   ],
   "source": [
    "counter = 0\n",
    "x_train= np.zeros([1, 128, 128, 3])#Выбранна установка единого разрешения 128x128, тут просто символично указан размер\n",
    "y_train = np.zeros([1, 1])\n",
    "from tqdm import tqdm\n",
    "for dir in tqdm(range(0, 4)):\n",
    "    photos = os.listdir(path+'\\\\train\\\\'+train[dir])\n",
    "    for photo in photos:\n",
    "        packer = cv2.imread('train/'+train[dir]+'/'+photo)\n",
    "        packer = cv2.resize(packer, (128, 128))\n",
    "        packer = packer[np.newaxis, :]\n",
    "        if counter == 0:\n",
    "            y_train = np.array([[dir]])\n",
    "            x_train = packer\n",
    "            counter += 1            \n",
    "        else:\n",
    "            x_train = np.concatenate([x_train, packer], axis=0)\n",
    "            y_train = np.concatenate([y_train, np.array([[dir]])], axis=0)\n",
    "    "
   ]
  },
  {
   "cell_type": "code",
   "execution_count": 66,
   "metadata": {},
   "outputs": [
    {
     "data": {
      "text/plain": [
       "(613, 128, 128, 3)"
      ]
     },
     "execution_count": 66,
     "metadata": {},
     "output_type": "execute_result"
    }
   ],
   "source": [
    "x_train.shape #проверка размера"
   ]
  },
  {
   "cell_type": "code",
   "execution_count": 67,
   "metadata": {},
   "outputs": [
    {
     "data": {
      "text/plain": [
       "(613, 1)"
      ]
     },
     "execution_count": 67,
     "metadata": {},
     "output_type": "execute_result"
    }
   ],
   "source": [
    "y_train.shape #проверка размера"
   ]
  },
  {
   "cell_type": "code",
   "execution_count": 68,
   "metadata": {},
   "outputs": [],
   "source": [
    "# сохранение\n",
    "with open('x_train.npy', 'wb') as f:\n",
    "    np.save(f, x_train)\n",
    "\n",
    "with open('y_train.npy', 'wb') as f:\n",
    "    np.save(f, y_train)"
   ]
  },
  {
   "attachments": {},
   "cell_type": "markdown",
   "metadata": {},
   "source": [
    "Создание валидационной части"
   ]
  },
  {
   "cell_type": "code",
   "execution_count": 69,
   "metadata": {},
   "outputs": [
    {
     "name": "stderr",
     "output_type": "stream",
     "text": [
      "100%|██████████| 4/4 [00:00<00:00,  5.28it/s]\n"
     ]
    }
   ],
   "source": [
    "#предпочитаю использовать ctrl+c ctrl+v вместо функций в таких маленьких задачах\n",
    "counter = 0\n",
    "x_valid= np.zeros([1, 128, 128, 3])\n",
    "y_valid = np.zeros([1, 1])\n",
    "from tqdm import tqdm\n",
    "for dir in tqdm(range(0, 4)):\n",
    "    photos = os.listdir(path+'\\\\valid\\\\'+valid[dir])\n",
    "    for photo in photos:\n",
    "        packer = cv2.imread('valid/'+valid[dir]+'/'+photo)\n",
    "        packer = cv2.resize(packer, (128, 128))\n",
    "        packer = packer[np.newaxis, :]\n",
    "        if counter == 0:\n",
    "            y_valid = np.array([[dir]])\n",
    "            x_valid = packer\n",
    "            counter += 1            \n",
    "        else:\n",
    "            x_valid = np.concatenate([x_valid, packer], axis=0)\n",
    "            y_valid = np.concatenate([y_valid, np.array([[dir]])], axis=0)"
   ]
  },
  {
   "cell_type": "code",
   "execution_count": 70,
   "metadata": {},
   "outputs": [
    {
     "data": {
      "text/plain": [
       "(72, 128, 128, 3)"
      ]
     },
     "execution_count": 70,
     "metadata": {},
     "output_type": "execute_result"
    }
   ],
   "source": [
    "x_valid.shape #проверка размера"
   ]
  },
  {
   "cell_type": "code",
   "execution_count": 71,
   "metadata": {},
   "outputs": [
    {
     "data": {
      "text/plain": [
       "(72, 1)"
      ]
     },
     "execution_count": 71,
     "metadata": {},
     "output_type": "execute_result"
    }
   ],
   "source": [
    "y_valid.shape #проверка размера"
   ]
  },
  {
   "cell_type": "code",
   "execution_count": 72,
   "metadata": {},
   "outputs": [],
   "source": [
    "# сохранение\n",
    "with open('x_valid.npy', 'wb') as f:\n",
    "    np.save(f, x_valid)\n",
    "\n",
    "with open('y_valid.npy', 'wb') as f:\n",
    "    np.save(f, y_valid)"
   ]
  }
 ],
 "metadata": {
  "kernelspec": {
   "display_name": "machinelearning",
   "language": "python",
   "name": "python3"
  },
  "language_info": {
   "codemirror_mode": {
    "name": "ipython",
    "version": 3
   },
   "file_extension": ".py",
   "mimetype": "text/x-python",
   "name": "python",
   "nbconvert_exporter": "python",
   "pygments_lexer": "ipython3",
   "version": "3.9.16"
  },
  "orig_nbformat": 4
 },
 "nbformat": 4,
 "nbformat_minor": 2
}
