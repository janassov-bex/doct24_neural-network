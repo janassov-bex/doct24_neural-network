{
 "cells": [
  {
   "cell_type": "code",
<<<<<<< HEAD
   "execution_count": 3,
=======
   "execution_count": 1,
>>>>>>> 3bad16e8471f9a106c276e91e42b5f4b4d25b44c
   "metadata": {},
   "outputs": [],
   "source": [
    "import pandas as pd\n",
    "import numpy as np\n",
    "from sklearn.model_selection import train_test_split"
   ]
  },
  {
   "cell_type": "code",
   "execution_count": 4,
   "metadata": {},
   "outputs": [],
   "source": [
    "df = pd.read_csv(\"evgeni_set.csv\")\n",
    "df['age'] = df['age']/110 #нормализация"
   ]
  },
  {
   "cell_type": "code",
<<<<<<< HEAD
   "execution_count": 5,
=======
   "execution_count": 3,
>>>>>>> 3bad16e8471f9a106c276e91e42b5f4b4d25b44c
   "metadata": {},
   "outputs": [],
   "source": [
    "#Меня не устраивает что  в train_test_split может в тестовую выборку попасть 0 инфарктов или все 100\n",
    "#поэтому разделю вручную и соеденю после деления обратно\n",
    "df_heartattack_x = df[df['minf']==1].iloc[:, 1:]\n",
    "df_heartattack_y = df[df['minf']==1].iloc[:, 0]\n",
    "df_no_heartattack_x = df[df['minf']==0].iloc[:, 1:]\n",
    "df_no_heartattack_y = df[df['minf']==0].iloc[:, 0]"
   ]
  },
  {
   "cell_type": "code",
<<<<<<< HEAD
   "execution_count": 6,
=======
   "execution_count": 4,
>>>>>>> 3bad16e8471f9a106c276e91e42b5f4b4d25b44c
   "metadata": {},
   "outputs": [],
   "source": [
    "df_heartattack_x_train, df_heartattack_x_test, df_heartattack_y_train, df_heartattack_y_test = train_test_split(df_heartattack_x, df_heartattack_y, test_size=0.2)\n",
    "df_no_heartattack_x_train, df_no_heartattack_x_test, df_no_heartattack_y_train, df_no_heartattack_y_test = train_test_split(df_no_heartattack_x, df_no_heartattack_y, test_size=0.2)"
   ]
  },
  {
   "cell_type": "code",
<<<<<<< HEAD
   "execution_count": 7,
=======
   "execution_count": 5,
>>>>>>> 3bad16e8471f9a106c276e91e42b5f4b4d25b44c
   "metadata": {},
   "outputs": [
    {
     "name": "stdout",
     "output_type": "stream",
     "text": [
      "Данные склеены правильно\n"
     ]
    }
   ],
   "source": [
    "x_train = pd.concat((df_heartattack_x_train, df_no_heartattack_x_train), axis=0)\n",
    "y_train = pd.concat((df_heartattack_y_train, df_no_heartattack_y_train), axis=0)\n",
    "x_test = pd.concat((df_heartattack_x_test, df_no_heartattack_x_test), axis=0)\n",
    "y_test = pd.concat((df_heartattack_y_test, df_no_heartattack_y_test), axis=0)\n",
    "\n",
    "#проверка соответствия id после склейки\n",
    "if all(y_test.index==x_test.index) and all(y_train.index==x_train.index):\n",
    "    print('Данные склеены правильно')"
   ]
  },
  {
   "cell_type": "code",
   "execution_count": 2,
   "metadata": {},
   "outputs": [
    {
     "ename": "NameError",
     "evalue": "name 'np' is not defined",
     "output_type": "error",
     "traceback": [
      "\u001b[1;31m---------------------------------------------------------------------------\u001b[0m",
      "\u001b[1;31mNameError\u001b[0m                                 Traceback (most recent call last)",
      "\u001b[1;32m~\\AppData\\Local\\Temp\\ipykernel_2628\\3294426680.py\u001b[0m in \u001b[0;36m<module>\u001b[1;34m\u001b[0m\n\u001b[0;32m      8\u001b[0m \u001b[1;31m#все возможные комбинации параметров\u001b[0m\u001b[1;33m\u001b[0m\u001b[1;33m\u001b[0m\u001b[0m\n\u001b[0;32m      9\u001b[0m \u001b[0ma\u001b[0m \u001b[1;33m=\u001b[0m \u001b[1;33m[\u001b[0m\u001b[0miter_n_estimators\u001b[0m\u001b[1;33m,\u001b[0m \u001b[0miter_max_depth\u001b[0m\u001b[1;33m]\u001b[0m\u001b[1;33m\u001b[0m\u001b[1;33m\u001b[0m\u001b[0m\n\u001b[1;32m---> 10\u001b[1;33m \u001b[0miters\u001b[0m \u001b[1;33m=\u001b[0m \u001b[1;33m[\u001b[0m\u001b[0mlist\u001b[0m\u001b[1;33m(\u001b[0m\u001b[0mx\u001b[0m\u001b[1;33m)\u001b[0m \u001b[1;32mfor\u001b[0m \u001b[0mx\u001b[0m \u001b[1;32min\u001b[0m \u001b[0mnp\u001b[0m\u001b[1;33m.\u001b[0m\u001b[0marray\u001b[0m\u001b[1;33m(\u001b[0m\u001b[0mnp\u001b[0m\u001b[1;33m.\u001b[0m\u001b[0mmeshgrid\u001b[0m\u001b[1;33m(\u001b[0m\u001b[1;33m*\u001b[0m\u001b[0ma\u001b[0m\u001b[1;33m)\u001b[0m\u001b[1;33m)\u001b[0m\u001b[1;33m.\u001b[0m\u001b[0mT\u001b[0m\u001b[1;33m.\u001b[0m\u001b[0mreshape\u001b[0m\u001b[1;33m(\u001b[0m\u001b[1;33m-\u001b[0m\u001b[1;36m1\u001b[0m\u001b[1;33m,\u001b[0m\u001b[0mlen\u001b[0m\u001b[1;33m(\u001b[0m\u001b[0ma\u001b[0m\u001b[1;33m)\u001b[0m\u001b[1;33m)\u001b[0m\u001b[1;33m]\u001b[0m\u001b[1;31m#все возможные комбинации параметров\u001b[0m\u001b[1;33m\u001b[0m\u001b[1;33m\u001b[0m\u001b[0m\n\u001b[0m\u001b[0;32m     11\u001b[0m \u001b[1;33m\u001b[0m\u001b[0m\n\u001b[0;32m     12\u001b[0m results = {'iter_n_estimators':[], 'iter_max_depth':[],\n",
      "\u001b[1;31mNameError\u001b[0m: name 'np' is not defined"
     ]
    }
   ],
   "source": [
    "from catboost import CatBoostClassifier\n",
    "from sklearn.metrics import recall_score, f1_score, precision_score\n",
    "from tqdm import tqdm\n",
    "\n",
    "iter_max_depth = list(range(6, 14))\n",
    "iter_n_estimators = list(range(100, 800, 50))\n",
    "\n",
    "#все возможные комбинации параметров\n",
    "a = [iter_n_estimators, iter_max_depth]\n",
    "iters = [list(x) for x in np.array(np.meshgrid(*a)).T.reshape(-1,len(a))]#все возможные комбинации параметров\n",
    "\n",
    "results = {'iter_n_estimators':[], 'iter_max_depth':[],\n",
    "            'train_recall_score':[], 'train_f1_score':[], 'train_precision_score':[],\n",
    "            'test_recall_score':[], 'test_f1_score':[], 'test_precision_score':[]}\n",
    "for i in tqdm(iters):\n",
    "        model = CatBoostClassifier(n_estimators=i[0], depth=i[1], learning_rate=1, loss_function='Logloss', verbose=False)\n",
    "        model.fit(x_train, y_train)\n",
    "        test_y_pred = model.predict(x_test)\n",
    "        train_y_pred = model.predict(x_train)\n",
    "        results['iter_n_estimators'].append(i[0])\n",
    "        results['iter_max_depth'].append(i[1])\n",
    "        results['train_recall_score'].append(recall_score(y_train, train_y_pred))\n",
    "        results['train_f1_score'].append(f1_score(y_train, train_y_pred))\n",
    "        results['train_precision_score'].append(precision_score(y_train, train_y_pred))\n",
    "        results['test_recall_score'].append(recall_score(y_test, test_y_pred))\n",
    "        results['test_f1_score'].append(f1_score(y_test, test_y_pred))\n",
    "        results['test_precision_score'].append(precision_score(y_test, test_y_pred))"
   ]
  },
  {
   "cell_type": "code",
   "execution_count": 7,
   "metadata": {},
   "outputs": [
    {
     "data": {
      "text/html": [
       "<div>\n",
       "<style scoped>\n",
       "    .dataframe tbody tr th:only-of-type {\n",
       "        vertical-align: middle;\n",
       "    }\n",
       "\n",
       "    .dataframe tbody tr th {\n",
       "        vertical-align: top;\n",
       "    }\n",
       "\n",
       "    .dataframe thead th {\n",
       "        text-align: right;\n",
       "    }\n",
       "</style>\n",
       "<table border=\"1\" class=\"dataframe\">\n",
       "  <thead>\n",
       "    <tr style=\"text-align: right;\">\n",
       "      <th></th>\n",
       "      <th>iter_n_estimators</th>\n",
       "      <th>iter_max_depth</th>\n",
       "      <th>train_recall_score</th>\n",
       "      <th>train_f1_score</th>\n",
       "      <th>train_precision_score</th>\n",
       "      <th>test_recall_score</th>\n",
       "      <th>test_f1_score</th>\n",
       "      <th>test_precision_score</th>\n",
       "    </tr>\n",
       "  </thead>\n",
       "  <tbody>\n",
       "    <tr>\n",
       "      <th>0</th>\n",
       "      <td>100</td>\n",
       "      <td>6</td>\n",
       "      <td>0.583333</td>\n",
       "      <td>0.715328</td>\n",
       "      <td>0.924528</td>\n",
       "      <td>0.666667</td>\n",
       "      <td>0.736842</td>\n",
       "      <td>0.823529</td>\n",
       "    </tr>\n",
       "    <tr>\n",
       "      <th>1</th>\n",
       "      <td>100</td>\n",
       "      <td>7</td>\n",
       "      <td>0.583333</td>\n",
       "      <td>0.715328</td>\n",
       "      <td>0.924528</td>\n",
       "      <td>0.666667</td>\n",
       "      <td>0.736842</td>\n",
       "      <td>0.823529</td>\n",
       "    </tr>\n",
       "    <tr>\n",
       "      <th>2</th>\n",
       "      <td>100</td>\n",
       "      <td>8</td>\n",
       "      <td>0.583333</td>\n",
       "      <td>0.715328</td>\n",
       "      <td>0.924528</td>\n",
       "      <td>0.666667</td>\n",
       "      <td>0.736842</td>\n",
       "      <td>0.823529</td>\n",
       "    </tr>\n",
       "    <tr>\n",
       "      <th>3</th>\n",
       "      <td>100</td>\n",
       "      <td>9</td>\n",
       "      <td>0.583333</td>\n",
       "      <td>0.715328</td>\n",
       "      <td>0.924528</td>\n",
       "      <td>0.666667</td>\n",
       "      <td>0.736842</td>\n",
       "      <td>0.823529</td>\n",
       "    </tr>\n",
       "    <tr>\n",
       "      <th>4</th>\n",
       "      <td>100</td>\n",
       "      <td>10</td>\n",
       "      <td>0.583333</td>\n",
       "      <td>0.715328</td>\n",
       "      <td>0.924528</td>\n",
       "      <td>0.666667</td>\n",
       "      <td>0.736842</td>\n",
       "      <td>0.823529</td>\n",
       "    </tr>\n",
       "    <tr>\n",
       "      <th>...</th>\n",
       "      <td>...</td>\n",
       "      <td>...</td>\n",
       "      <td>...</td>\n",
       "      <td>...</td>\n",
       "      <td>...</td>\n",
       "      <td>...</td>\n",
       "      <td>...</td>\n",
       "      <td>...</td>\n",
       "    </tr>\n",
       "    <tr>\n",
       "      <th>107</th>\n",
       "      <td>750</td>\n",
       "      <td>9</td>\n",
       "      <td>0.583333</td>\n",
       "      <td>0.715328</td>\n",
       "      <td>0.924528</td>\n",
       "      <td>0.666667</td>\n",
       "      <td>0.736842</td>\n",
       "      <td>0.823529</td>\n",
       "    </tr>\n",
       "    <tr>\n",
       "      <th>108</th>\n",
       "      <td>750</td>\n",
       "      <td>10</td>\n",
       "      <td>0.583333</td>\n",
       "      <td>0.715328</td>\n",
       "      <td>0.924528</td>\n",
       "      <td>0.666667</td>\n",
       "      <td>0.736842</td>\n",
       "      <td>0.823529</td>\n",
       "    </tr>\n",
       "    <tr>\n",
       "      <th>109</th>\n",
       "      <td>750</td>\n",
       "      <td>11</td>\n",
       "      <td>0.583333</td>\n",
       "      <td>0.715328</td>\n",
       "      <td>0.924528</td>\n",
       "      <td>0.666667</td>\n",
       "      <td>0.736842</td>\n",
       "      <td>0.823529</td>\n",
       "    </tr>\n",
       "    <tr>\n",
       "      <th>110</th>\n",
       "      <td>750</td>\n",
       "      <td>12</td>\n",
       "      <td>0.583333</td>\n",
       "      <td>0.715328</td>\n",
       "      <td>0.924528</td>\n",
       "      <td>0.666667</td>\n",
       "      <td>0.736842</td>\n",
       "      <td>0.823529</td>\n",
       "    </tr>\n",
       "    <tr>\n",
       "      <th>111</th>\n",
       "      <td>750</td>\n",
       "      <td>13</td>\n",
       "      <td>0.583333</td>\n",
       "      <td>0.715328</td>\n",
       "      <td>0.924528</td>\n",
       "      <td>0.666667</td>\n",
       "      <td>0.736842</td>\n",
       "      <td>0.823529</td>\n",
       "    </tr>\n",
       "  </tbody>\n",
       "</table>\n",
       "<p>112 rows × 8 columns</p>\n",
       "</div>"
      ],
      "text/plain": [
       "     iter_n_estimators  iter_max_depth  train_recall_score  train_f1_score  \\\n",
       "0                  100               6            0.583333        0.715328   \n",
       "1                  100               7            0.583333        0.715328   \n",
       "2                  100               8            0.583333        0.715328   \n",
       "3                  100               9            0.583333        0.715328   \n",
       "4                  100              10            0.583333        0.715328   \n",
       "..                 ...             ...                 ...             ...   \n",
       "107                750               9            0.583333        0.715328   \n",
       "108                750              10            0.583333        0.715328   \n",
       "109                750              11            0.583333        0.715328   \n",
       "110                750              12            0.583333        0.715328   \n",
       "111                750              13            0.583333        0.715328   \n",
       "\n",
       "     train_precision_score  test_recall_score  test_f1_score  \\\n",
       "0                 0.924528           0.666667       0.736842   \n",
       "1                 0.924528           0.666667       0.736842   \n",
       "2                 0.924528           0.666667       0.736842   \n",
       "3                 0.924528           0.666667       0.736842   \n",
       "4                 0.924528           0.666667       0.736842   \n",
       "..                     ...                ...            ...   \n",
       "107               0.924528           0.666667       0.736842   \n",
       "108               0.924528           0.666667       0.736842   \n",
       "109               0.924528           0.666667       0.736842   \n",
       "110               0.924528           0.666667       0.736842   \n",
       "111               0.924528           0.666667       0.736842   \n",
       "\n",
       "     test_precision_score  \n",
       "0                0.823529  \n",
       "1                0.823529  \n",
       "2                0.823529  \n",
       "3                0.823529  \n",
       "4                0.823529  \n",
       "..                    ...  \n",
       "107              0.823529  \n",
       "108              0.823529  \n",
       "109              0.823529  \n",
       "110              0.823529  \n",
       "111              0.823529  \n",
       "\n",
       "[112 rows x 8 columns]"
      ]
     },
     "execution_count": 7,
     "metadata": {},
     "output_type": "execute_result"
    }
   ],
   "source": [
    "df_results=pd.DataFrame(results)\n",
    "df_results"
   ]
  },
  {
   "cell_type": "code",
   "execution_count": 8,
   "metadata": {},
   "outputs": [
    {
     "data": {
      "text/html": [
       "<div>\n",
       "<style scoped>\n",
       "    .dataframe tbody tr th:only-of-type {\n",
       "        vertical-align: middle;\n",
       "    }\n",
       "\n",
       "    .dataframe tbody tr th {\n",
       "        vertical-align: top;\n",
       "    }\n",
       "\n",
       "    .dataframe thead th {\n",
       "        text-align: right;\n",
       "    }\n",
       "</style>\n",
       "<table border=\"1\" class=\"dataframe\">\n",
       "  <thead>\n",
       "    <tr style=\"text-align: right;\">\n",
       "      <th></th>\n",
       "      <th>iter_n_estimators</th>\n",
       "      <th>iter_max_depth</th>\n",
       "      <th>train_recall_score</th>\n",
       "      <th>train_f1_score</th>\n",
       "      <th>train_precision_score</th>\n",
       "      <th>test_recall_score</th>\n",
       "      <th>test_f1_score</th>\n",
       "      <th>test_precision_score</th>\n",
       "    </tr>\n",
       "  </thead>\n",
       "  <tbody>\n",
       "    <tr>\n",
       "      <th>0</th>\n",
       "      <td>100</td>\n",
       "      <td>6</td>\n",
       "      <td>0.583333</td>\n",
       "      <td>0.715328</td>\n",
       "      <td>0.924528</td>\n",
       "      <td>0.666667</td>\n",
       "      <td>0.736842</td>\n",
       "      <td>0.823529</td>\n",
       "    </tr>\n",
       "    <tr>\n",
       "      <th>1</th>\n",
       "      <td>100</td>\n",
       "      <td>7</td>\n",
       "      <td>0.583333</td>\n",
       "      <td>0.715328</td>\n",
       "      <td>0.924528</td>\n",
       "      <td>0.666667</td>\n",
       "      <td>0.736842</td>\n",
       "      <td>0.823529</td>\n",
       "    </tr>\n",
       "    <tr>\n",
       "      <th>2</th>\n",
       "      <td>100</td>\n",
       "      <td>8</td>\n",
       "      <td>0.583333</td>\n",
       "      <td>0.715328</td>\n",
       "      <td>0.924528</td>\n",
       "      <td>0.666667</td>\n",
       "      <td>0.736842</td>\n",
       "      <td>0.823529</td>\n",
       "    </tr>\n",
       "    <tr>\n",
       "      <th>3</th>\n",
       "      <td>100</td>\n",
       "      <td>9</td>\n",
       "      <td>0.583333</td>\n",
       "      <td>0.715328</td>\n",
       "      <td>0.924528</td>\n",
       "      <td>0.666667</td>\n",
       "      <td>0.736842</td>\n",
       "      <td>0.823529</td>\n",
       "    </tr>\n",
       "    <tr>\n",
       "      <th>4</th>\n",
       "      <td>100</td>\n",
       "      <td>10</td>\n",
       "      <td>0.583333</td>\n",
       "      <td>0.715328</td>\n",
       "      <td>0.924528</td>\n",
       "      <td>0.666667</td>\n",
       "      <td>0.736842</td>\n",
       "      <td>0.823529</td>\n",
       "    </tr>\n",
       "    <tr>\n",
       "      <th>...</th>\n",
       "      <td>...</td>\n",
       "      <td>...</td>\n",
       "      <td>...</td>\n",
       "      <td>...</td>\n",
       "      <td>...</td>\n",
       "      <td>...</td>\n",
       "      <td>...</td>\n",
       "      <td>...</td>\n",
       "    </tr>\n",
       "    <tr>\n",
       "      <th>107</th>\n",
       "      <td>750</td>\n",
       "      <td>9</td>\n",
       "      <td>0.583333</td>\n",
       "      <td>0.715328</td>\n",
       "      <td>0.924528</td>\n",
       "      <td>0.666667</td>\n",
       "      <td>0.736842</td>\n",
       "      <td>0.823529</td>\n",
       "    </tr>\n",
       "    <tr>\n",
       "      <th>108</th>\n",
       "      <td>750</td>\n",
       "      <td>10</td>\n",
       "      <td>0.583333</td>\n",
       "      <td>0.715328</td>\n",
       "      <td>0.924528</td>\n",
       "      <td>0.666667</td>\n",
       "      <td>0.736842</td>\n",
       "      <td>0.823529</td>\n",
       "    </tr>\n",
       "    <tr>\n",
       "      <th>109</th>\n",
       "      <td>750</td>\n",
       "      <td>11</td>\n",
       "      <td>0.583333</td>\n",
       "      <td>0.715328</td>\n",
       "      <td>0.924528</td>\n",
       "      <td>0.666667</td>\n",
       "      <td>0.736842</td>\n",
       "      <td>0.823529</td>\n",
       "    </tr>\n",
       "    <tr>\n",
       "      <th>110</th>\n",
       "      <td>750</td>\n",
       "      <td>12</td>\n",
       "      <td>0.583333</td>\n",
       "      <td>0.715328</td>\n",
       "      <td>0.924528</td>\n",
       "      <td>0.666667</td>\n",
       "      <td>0.736842</td>\n",
       "      <td>0.823529</td>\n",
       "    </tr>\n",
       "    <tr>\n",
       "      <th>111</th>\n",
       "      <td>750</td>\n",
       "      <td>13</td>\n",
       "      <td>0.583333</td>\n",
       "      <td>0.715328</td>\n",
       "      <td>0.924528</td>\n",
       "      <td>0.666667</td>\n",
       "      <td>0.736842</td>\n",
       "      <td>0.823529</td>\n",
       "    </tr>\n",
       "  </tbody>\n",
       "</table>\n",
       "<p>112 rows × 8 columns</p>\n",
       "</div>"
      ],
      "text/plain": [
       "     iter_n_estimators  iter_max_depth  train_recall_score  train_f1_score  \\\n",
       "0                  100               6            0.583333        0.715328   \n",
       "1                  100               7            0.583333        0.715328   \n",
       "2                  100               8            0.583333        0.715328   \n",
       "3                  100               9            0.583333        0.715328   \n",
       "4                  100              10            0.583333        0.715328   \n",
       "..                 ...             ...                 ...             ...   \n",
       "107                750               9            0.583333        0.715328   \n",
       "108                750              10            0.583333        0.715328   \n",
       "109                750              11            0.583333        0.715328   \n",
       "110                750              12            0.583333        0.715328   \n",
       "111                750              13            0.583333        0.715328   \n",
       "\n",
       "     train_precision_score  test_recall_score  test_f1_score  \\\n",
       "0                 0.924528           0.666667       0.736842   \n",
       "1                 0.924528           0.666667       0.736842   \n",
       "2                 0.924528           0.666667       0.736842   \n",
       "3                 0.924528           0.666667       0.736842   \n",
       "4                 0.924528           0.666667       0.736842   \n",
       "..                     ...                ...            ...   \n",
       "107               0.924528           0.666667       0.736842   \n",
       "108               0.924528           0.666667       0.736842   \n",
       "109               0.924528           0.666667       0.736842   \n",
       "110               0.924528           0.666667       0.736842   \n",
       "111               0.924528           0.666667       0.736842   \n",
       "\n",
       "     test_precision_score  \n",
       "0                0.823529  \n",
       "1                0.823529  \n",
       "2                0.823529  \n",
       "3                0.823529  \n",
       "4                0.823529  \n",
       "..                    ...  \n",
       "107              0.823529  \n",
       "108              0.823529  \n",
       "109              0.823529  \n",
       "110              0.823529  \n",
       "111              0.823529  \n",
       "\n",
       "[112 rows x 8 columns]"
      ]
     },
     "execution_count": 8,
     "metadata": {},
     "output_type": "execute_result"
    }
   ],
   "source": [
    "df_results[df_results['test_recall_score']==df_results['test_recall_score'].max()]"
   ]
  },
  {
   "cell_type": "code",
   "execution_count": 9,
   "metadata": {},
   "outputs": [
    {
     "data": {
      "text/plain": [
       "iter_n_estimators        100.000000\n",
       "iter_max_depth             6.000000\n",
       "train_recall_score         0.583333\n",
       "train_f1_score             0.715328\n",
       "train_precision_score      0.924528\n",
       "test_recall_score          0.666667\n",
       "test_f1_score              0.736842\n",
       "test_precision_score       0.823529\n",
       "Name: 0, dtype: float64"
      ]
     },
     "execution_count": 9,
     "metadata": {},
     "output_type": "execute_result"
    }
   ],
   "source": [
    "df_results.iloc[0]"
   ]
  },
  {
   "cell_type": "code",
<<<<<<< HEAD
   "execution_count": 34,
   "metadata": {},
   "outputs": [
    {
     "data": {
      "text/plain": [
       "array([[786,   3],\n",
       "       [  7,  14]], dtype=int64)"
      ]
     },
     "execution_count": 34,
     "metadata": {},
     "output_type": "execute_result"
    }
   ],
   "source": [
    "model = CatBoostClassifier(n_estimators=100, depth=6, learning_rate=1, loss_function='Logloss', verbose=False)\n",
    "model.fit(x_train, y_train)\n",
    "y_pred = model.predict(x_test)\n",
    "from sklearn.metrics import confusion_matrix\n",
    "confusion_matrix(y_test, y_pred)"
=======
   "execution_count": 16,
   "metadata": {},
   "outputs": [
    {
     "name": "stdout",
     "output_type": "stream",
     "text": [
      "[[787   2]\n",
      " [  9  12]] \n",
      " roc_auc_score 0.9908564186130726\n",
      " rec: 0.5714285714285714\n",
      " prec: 0.8571428571428571\n",
      " f1: 0.6857142857142857\n",
      "\n"
     ]
    },
    {
     "data": {
      "image/png": "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",
      "text/plain": [
       "<Figure size 500x500 with 1 Axes>"
      ]
     },
     "metadata": {},
     "output_type": "display_data"
    }
   ],
   "source": [
    "from catboost import CatBoostClassifier\n",
    "from sklearn.metrics import recall_score, f1_score, precision_score, roc_auc_score\n",
    "model = CatBoostClassifier(n_estimators=40, depth=5, learning_rate=1, loss_function='Logloss', verbose=False)\n",
    "model.fit(x_train, y_train)\n",
    "y_pred = model.predict(x_test)\n",
    "y_proba = model.predict_proba(x_test)\n",
    "y_proba = y_proba[:, 1]\n",
    "from sklearn.metrics import confusion_matrix\n",
    "print(confusion_matrix(y_test, y_pred), '\\n', \n",
    "f'roc_auc_score {roc_auc_score(y_test, y_proba)}\\n', \n",
    "f'rec: {recall_score(y_test, y_pred)}\\n',\n",
    "f'prec: {precision_score(y_test, y_pred)}\\n',\n",
    "f'f1: {f1_score(y_test, y_pred)}\\n',\n",
    ")\n",
    "\n",
    "import matplotlib.pyplot as plt\n",
    "from sklearn.metrics import roc_curve\n",
    "fpr, tpr, thresholds = roc_curve(y_test, y_proba, pos_label=1)\n",
    "plt.rcParams['figure.figsize'] = 5, 5\n",
    "plt.plot(fpr, tpr)\n",
    "plt.plot([0, 1], [0, 1], color='grey', linestyle='dashed')\n",
    "plt.xlabel('False Positive Rate')\n",
    "plt.ylabel('True Positive Rate')\n",
    "plt.title('ROC curve Версия датасета 1')\n",
    "plt.show()"
   ]
  },
  {
   "cell_type": "code",
   "execution_count": 18,
   "metadata": {},
   "outputs": [
    {
     "name": "stdout",
     "output_type": "stream",
     "text": [
      "[[3147    5]\n",
      " [  33   51]] \n",
      " roc_auc_score 0.9928843364757071\n",
      " rec: 0.6071428571428571\n",
      " prec: 0.9107142857142857\n",
      " f1: 0.7285714285714285\n",
      "\n"
     ]
    },
    {
     "data": {
      "image/png": "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",
      "text/plain": [
       "<Figure size 500x500 with 1 Axes>"
      ]
     },
     "metadata": {},
     "output_type": "display_data"
    }
   ],
   "source": [
    "#результаты по тренировочным\n",
    "y_pred = model.predict(x_train)\n",
    "y_proba = model.predict_proba(x_train)\n",
    "y_proba = y_proba[:, 1]\n",
    "print(confusion_matrix(y_train, y_pred), '\\n', \n",
    "f'roc_auc_score {roc_auc_score(y_train, y_proba)}\\n', \n",
    "f'rec: {recall_score(y_train, y_pred)}\\n',\n",
    "f'prec: {precision_score(y_train, y_pred)}\\n',\n",
    "f'f1: {f1_score(y_train, y_pred)}\\n',\n",
    ")\n",
    "\n",
    "from sklearn.metrics import roc_curve\n",
    "fpr, tpr, thresholds = roc_curve(y_train, y_proba, pos_label=1)\n",
    "plt.rcParams['figure.figsize'] = 5, 5\n",
    "plt.plot(fpr, tpr)\n",
    "plt.plot([0, 1], [0, 1], color='grey', linestyle='dashed')\n",
    "plt.xlabel('False Positive Rate')\n",
    "plt.ylabel('True Positive Rate')\n",
    "plt.title('ROC curve версия датасета 1 train')\n",
    "plt.show()"
>>>>>>> 3bad16e8471f9a106c276e91e42b5f4b4d25b44c
   ]
  },
  {
   "attachments": {},
   "cell_type": "markdown",
   "metadata": {},
   "source": [
    "Подбор порога"
   ]
  },
  {
   "cell_type": "code",
<<<<<<< HEAD
   "execution_count": 46,
=======
   "execution_count": 13,
>>>>>>> 3bad16e8471f9a106c276e91e42b5f4b4d25b44c
   "metadata": {},
   "outputs": [
    {
     "name": "stderr",
     "output_type": "stream",
     "text": [
<<<<<<< HEAD
      " 98%|█████████▊| 249/254 [00:01<00:00, 167.27it/s]e:\\Anaconda\\lib\\site-packages\\sklearn\\metrics\\_classification.py:1318: UndefinedMetricWarning: Precision is ill-defined and being set to 0.0 due to no predicted samples. Use `zero_division` parameter to control this behavior.\n",
      "  _warn_prf(average, modifier, msg_start, len(result))\n",
      "100%|██████████| 254/254 [00:01<00:00, 165.06it/s]\n"
=======
      " 98%|█████████▊| 235/239 [00:02<00:00, 118.16it/s]e:\\Anaconda\\lib\\site-packages\\sklearn\\metrics\\_classification.py:1318: UndefinedMetricWarning: Precision is ill-defined and being set to 0.0 due to no predicted samples. Use `zero_division` parameter to control this behavior.\n",
      "  _warn_prf(average, modifier, msg_start, len(result))\n",
      "100%|██████████| 239/239 [00:02<00:00, 113.22it/s]\n"
>>>>>>> 3bad16e8471f9a106c276e91e42b5f4b4d25b44c
     ]
    }
   ],
   "source": [
    "from tqdm import tqdm\n",
    "\n",
    "prediction = model.predict_proba(x_test)\n",
    "threshold_results = {'threshold':[], 'test_recall_score':[], 'test_f1_score':[], 'test_precision_score':[]}\n",
    "iters = prediction[:, 1].copy()\n",
    "iters.sort()\n",
    "iters = np.unique(iters)\n",
    "\n",
    "for i in tqdm(iters[:300]):\n",
    "    predict_mine = []\n",
    "    for i2 in prediction:\n",
    "        if i2[1]>i:\n",
    "            predict_mine.append(1)\n",
    "        else:\n",
    "            predict_mine.append(0)\n",
    "            \n",
    "    threshold_results['threshold'].append(i)\n",
    "    threshold_results['test_recall_score'].append(recall_score(y_test, predict_mine))\n",
    "    threshold_results['test_f1_score'].append(f1_score(y_test, predict_mine))\n",
    "    threshold_results['test_precision_score'].append(precision_score(y_test, predict_mine))"
   ]
  },
  {
   "cell_type": "code",
<<<<<<< HEAD
   "execution_count": 47,
=======
   "execution_count": 14,
>>>>>>> 3bad16e8471f9a106c276e91e42b5f4b4d25b44c
   "metadata": {},
   "outputs": [
    {
     "data": {
      "text/html": [
       "<div>\n",
       "<style scoped>\n",
       "    .dataframe tbody tr th:only-of-type {\n",
       "        vertical-align: middle;\n",
       "    }\n",
       "\n",
       "    .dataframe tbody tr th {\n",
       "        vertical-align: top;\n",
       "    }\n",
       "\n",
       "    .dataframe thead th {\n",
       "        text-align: right;\n",
       "    }\n",
       "</style>\n",
       "<table border=\"1\" class=\"dataframe\">\n",
       "  <thead>\n",
       "    <tr style=\"text-align: right;\">\n",
       "      <th></th>\n",
       "      <th>threshold</th>\n",
       "      <th>test_recall_score</th>\n",
       "      <th>test_f1_score</th>\n",
       "      <th>test_precision_score</th>\n",
       "    </tr>\n",
       "  </thead>\n",
       "  <tbody>\n",
       "    <tr>\n",
       "      <th>0</th>\n",
<<<<<<< HEAD
       "      <td>0.000008</td>\n",
       "      <td>1.000000</td>\n",
       "      <td>0.050602</td>\n",
       "      <td>0.025958</td>\n",
       "    </tr>\n",
       "    <tr>\n",
       "      <th>1</th>\n",
       "      <td>0.000008</td>\n",
       "      <td>1.000000</td>\n",
       "      <td>0.050663</td>\n",
       "      <td>0.025990</td>\n",
       "    </tr>\n",
       "    <tr>\n",
       "      <th>2</th>\n",
       "      <td>0.000008</td>\n",
       "      <td>1.000000</td>\n",
       "      <td>0.050971</td>\n",
       "      <td>0.026152</td>\n",
       "    </tr>\n",
       "    <tr>\n",
       "      <th>3</th>\n",
       "      <td>0.000008</td>\n",
       "      <td>1.000000</td>\n",
       "      <td>0.051534</td>\n",
       "      <td>0.026448</td>\n",
       "    </tr>\n",
       "    <tr>\n",
       "      <th>4</th>\n",
       "      <td>0.000009</td>\n",
       "      <td>1.000000</td>\n",
       "      <td>0.051597</td>\n",
       "      <td>0.026482</td>\n",
=======
       "      <td>0.000012</td>\n",
       "      <td>1.000000</td>\n",
       "      <td>0.050847</td>\n",
       "      <td>0.026087</td>\n",
       "    </tr>\n",
       "    <tr>\n",
       "      <th>1</th>\n",
       "      <td>0.000013</td>\n",
       "      <td>1.000000</td>\n",
       "      <td>0.051282</td>\n",
       "      <td>0.026316</td>\n",
       "    </tr>\n",
       "    <tr>\n",
       "      <th>2</th>\n",
       "      <td>0.000013</td>\n",
       "      <td>1.000000</td>\n",
       "      <td>0.051408</td>\n",
       "      <td>0.026382</td>\n",
       "    </tr>\n",
       "    <tr>\n",
       "      <th>3</th>\n",
       "      <td>0.000014</td>\n",
       "      <td>1.000000</td>\n",
       "      <td>0.051471</td>\n",
       "      <td>0.026415</td>\n",
       "    </tr>\n",
       "    <tr>\n",
       "      <th>4</th>\n",
       "      <td>0.000015</td>\n",
       "      <td>1.000000</td>\n",
       "      <td>0.052369</td>\n",
       "      <td>0.026889</td>\n",
>>>>>>> 3bad16e8471f9a106c276e91e42b5f4b4d25b44c
       "    </tr>\n",
       "    <tr>\n",
       "      <th>...</th>\n",
       "      <td>...</td>\n",
       "      <td>...</td>\n",
       "      <td>...</td>\n",
       "      <td>...</td>\n",
       "    </tr>\n",
       "    <tr>\n",
<<<<<<< HEAD
       "      <th>249</th>\n",
       "      <td>0.961559</td>\n",
       "      <td>0.428571</td>\n",
       "      <td>0.600000</td>\n",
       "      <td>1.000000</td>\n",
       "    </tr>\n",
       "    <tr>\n",
       "      <th>250</th>\n",
       "      <td>0.963420</td>\n",
=======
       "      <th>234</th>\n",
       "      <td>0.954023</td>\n",
       "      <td>0.380952</td>\n",
       "      <td>0.551724</td>\n",
       "      <td>1.000000</td>\n",
       "    </tr>\n",
       "    <tr>\n",
       "      <th>235</th>\n",
       "      <td>0.954127</td>\n",
>>>>>>> 3bad16e8471f9a106c276e91e42b5f4b4d25b44c
       "      <td>0.285714</td>\n",
       "      <td>0.444444</td>\n",
       "      <td>1.000000</td>\n",
       "    </tr>\n",
       "    <tr>\n",
<<<<<<< HEAD
       "      <th>251</th>\n",
       "      <td>0.964133</td>\n",
       "      <td>0.238095</td>\n",
       "      <td>0.384615</td>\n",
       "      <td>1.000000</td>\n",
       "    </tr>\n",
       "    <tr>\n",
       "      <th>252</th>\n",
       "      <td>0.964341</td>\n",
       "      <td>0.095238</td>\n",
       "      <td>0.173913</td>\n",
       "      <td>1.000000</td>\n",
       "    </tr>\n",
       "    <tr>\n",
       "      <th>253</th>\n",
       "      <td>0.979545</td>\n",
=======
       "      <th>236</th>\n",
       "      <td>0.971964</td>\n",
       "      <td>0.190476</td>\n",
       "      <td>0.320000</td>\n",
       "      <td>1.000000</td>\n",
       "    </tr>\n",
       "    <tr>\n",
       "      <th>237</th>\n",
       "      <td>0.972759</td>\n",
       "      <td>0.047619</td>\n",
       "      <td>0.090909</td>\n",
       "      <td>1.000000</td>\n",
       "    </tr>\n",
       "    <tr>\n",
       "      <th>238</th>\n",
       "      <td>0.974953</td>\n",
>>>>>>> 3bad16e8471f9a106c276e91e42b5f4b4d25b44c
       "      <td>0.000000</td>\n",
       "      <td>0.000000</td>\n",
       "      <td>0.000000</td>\n",
       "    </tr>\n",
       "  </tbody>\n",
       "</table>\n",
<<<<<<< HEAD
       "<p>254 rows × 4 columns</p>\n",
=======
       "<p>239 rows × 4 columns</p>\n",
>>>>>>> 3bad16e8471f9a106c276e91e42b5f4b4d25b44c
       "</div>"
      ],
      "text/plain": [
       "     threshold  test_recall_score  test_f1_score  test_precision_score\n",
<<<<<<< HEAD
       "0     0.000008           1.000000       0.050602              0.025958\n",
       "1     0.000008           1.000000       0.050663              0.025990\n",
       "2     0.000008           1.000000       0.050971              0.026152\n",
       "3     0.000008           1.000000       0.051534              0.026448\n",
       "4     0.000009           1.000000       0.051597              0.026482\n",
       "..         ...                ...            ...                   ...\n",
       "249   0.961559           0.428571       0.600000              1.000000\n",
       "250   0.963420           0.285714       0.444444              1.000000\n",
       "251   0.964133           0.238095       0.384615              1.000000\n",
       "252   0.964341           0.095238       0.173913              1.000000\n",
       "253   0.979545           0.000000       0.000000              0.000000\n",
       "\n",
       "[254 rows x 4 columns]"
      ]
     },
     "execution_count": 47,
=======
       "0     0.000012           1.000000       0.050847              0.026087\n",
       "1     0.000013           1.000000       0.051282              0.026316\n",
       "2     0.000013           1.000000       0.051408              0.026382\n",
       "3     0.000014           1.000000       0.051471              0.026415\n",
       "4     0.000015           1.000000       0.052369              0.026889\n",
       "..         ...                ...            ...                   ...\n",
       "234   0.954023           0.380952       0.551724              1.000000\n",
       "235   0.954127           0.285714       0.444444              1.000000\n",
       "236   0.971964           0.190476       0.320000              1.000000\n",
       "237   0.972759           0.047619       0.090909              1.000000\n",
       "238   0.974953           0.000000       0.000000              0.000000\n",
       "\n",
       "[239 rows x 4 columns]"
      ]
     },
     "execution_count": 14,
>>>>>>> 3bad16e8471f9a106c276e91e42b5f4b4d25b44c
     "metadata": {},
     "output_type": "execute_result"
    }
   ],
   "source": [
    "df_threshold_results = pd.DataFrame(threshold_results)\n",
    "df_threshold_results"
   ]
  },
  {
   "cell_type": "code",
<<<<<<< HEAD
   "execution_count": 51,
=======
   "execution_count": 15,
>>>>>>> 3bad16e8471f9a106c276e91e42b5f4b4d25b44c
   "metadata": {},
   "outputs": [
    {
     "data": {
      "text/plain": [
       "Text(0, 0.5, 'метрика')"
      ]
     },
<<<<<<< HEAD
     "execution_count": 51,
=======
     "execution_count": 15,
>>>>>>> 3bad16e8471f9a106c276e91e42b5f4b4d25b44c
     "metadata": {},
     "output_type": "execute_result"
    },
    {
     "data": {
<<<<<<< HEAD
      "image/png": "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",
=======
      "image/png": "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",
>>>>>>> 3bad16e8471f9a106c276e91e42b5f4b4d25b44c
      "text/plain": [
       "<Figure size 640x480 with 1 Axes>"
      ]
     },
     "metadata": {},
     "output_type": "display_data"
    }
   ],
   "source": [
    "import matplotlib.pyplot as plt\n",
    "plt.plot(df_threshold_results['threshold'], df_threshold_results['test_precision_score'], label='precision')\n",
    "plt.plot(df_threshold_results['threshold'], df_threshold_results['test_recall_score'], label='recal')\n",
    "plt.grid()\n",
    "plt.legend()\n",
    "plt.title('catbost')\n",
    "plt.xlabel('порог')\n",
    "plt.ylabel('метрика')"
   ]
  },
  {
   "cell_type": "code",
<<<<<<< HEAD
   "execution_count": 66,
=======
   "execution_count": 21,
>>>>>>> 3bad16e8471f9a106c276e91e42b5f4b4d25b44c
   "metadata": {},
   "outputs": [
    {
     "data": {
      "text/plain": [
<<<<<<< HEAD
       "threshold               0.214418\n",
       "test_recall_score       0.761905\n",
       "test_f1_score           0.780488\n",
       "test_precision_score    0.800000\n",
       "Name: 245, dtype: float64"
      ]
     },
     "execution_count": 66,
=======
       "threshold               0.233245\n",
       "test_recall_score       0.809524\n",
       "test_f1_score           0.850000\n",
       "test_precision_score    0.894737\n",
       "Name: 230, dtype: float64"
      ]
     },
     "execution_count": 21,
>>>>>>> 3bad16e8471f9a106c276e91e42b5f4b4d25b44c
     "metadata": {},
     "output_type": "execute_result"
    }
   ],
   "source": [
<<<<<<< HEAD
    "df_threshold_results.iloc[245]#вручную искал"
=======
    "df_threshold_results.iloc[230]#вручную искал"
   ]
  },
  {
   "cell_type": "code",
   "execution_count": 36,
   "metadata": {},
   "outputs": [
    {
     "name": "stdout",
     "output_type": "stream",
     "text": [
      "[[769  20]\n",
      " [  3  18]]\n",
      "recall: 0.8571428571428571\n",
      "precision: 0.47368421052631576\n",
      "accuracy_score: 0.971604938271605\n",
      "Доля обектов отнесеных к классу 1 от тестовой выборки: 5%\n"
     ]
    },
    {
     "name": "stderr",
     "output_type": "stream",
     "text": [
      "e:\\Anaconda\\lib\\site-packages\\sklearn\\neighbors\\_classification.py:228: FutureWarning: Unlike other reduction functions (e.g. `skew`, `kurtosis`), the default behavior of `mode` typically preserves the axis it acts along. In SciPy 1.11.0, this behavior will change: the default value of `keepdims` will become False, the `axis` over which the statistic is taken will be eliminated, and the value None will no longer be accepted. Set `keepdims` to True or False to avoid this warning.\n",
      "  mode, _ = stats.mode(_y[neigh_ind, k], axis=1)\n"
     ]
    }
   ],
   "source": [
    "from sklearn.neighbors import KNeighborsClassifier\n",
    "from sklearn.metrics import accuracy_score\n",
    "model = KNeighborsClassifier(n_neighbors=4)#вручную либо есть  n_neighbors=2 с rec 0.8 и prec 0.51\n",
    "model.fit(x_train, y_train)\n",
    "y_pred = model.predict(x_test)\n",
    "matrix = confusion_matrix(y_test, y_pred)\n",
    "print(matrix)\n",
    "print(\"recall: \"+str(recall_score(y_test, y_pred)))\n",
    "print(\"precision: \"+str(precision_score(y_test, y_pred)))\n",
    "print(\"accuracy_score: \"+str(accuracy_score(y_test, y_pred)))\n",
    "print(\"Доля обектов отнесеных к классу 1 от тестовой выборки: \"+str(round((sum(matrix[:, 1])/x_test.shape[0])*100))+'%')"
   ]
  },
  {
   "attachments": {},
   "cell_type": "markdown",
   "metadata": {},
   "source": [
    "Кросвалидация нормализованых данных"
   ]
  },
  {
   "cell_type": "code",
   "execution_count": 6,
   "metadata": {},
   "outputs": [],
   "source": [
    "from sklearn.model_selection import cross_validate\n",
    "from catboost import CatBoostClassifier\n",
    "scoring = ['precision_macro', 'recall_macro']\n",
    "clf = CatBoostClassifier(n_estimators=40, depth=5, learning_rate=1, loss_function='Logloss', verbose=False)\n",
    "scores = cross_validate(clf, df.iloc[:, 1:], df.iloc[:, 0], scoring=scoring)"
   ]
  },
  {
   "cell_type": "code",
   "execution_count": 7,
   "metadata": {},
   "outputs": [
    {
     "data": {
      "text/plain": [
       "{'fit_time': array([0.96897101, 0.26123357, 0.3108983 , 0.22330284, 0.30663276]),\n",
       " 'score_time': array([0.1008184 , 0.00399876, 0.00399685, 0.00399804, 0.0039978 ]),\n",
       " 'test_precision_macro': array([0.8844697 , 0.99373434, 0.99373434, 0.99373434, 0.99373434]),\n",
       " 'test_recall_macro': array([0.83079848, 0.76190476, 0.76190476, 0.76190476, 0.76190476])}"
      ]
     },
     "execution_count": 7,
     "metadata": {},
     "output_type": "execute_result"
    }
   ],
   "source": [
    "scores"
   ]
  },
  {
   "cell_type": "code",
   "execution_count": 8,
   "metadata": {},
   "outputs": [
    {
     "data": {
      "text/plain": [
       "0.7756835053413"
      ]
     },
     "execution_count": 8,
     "metadata": {},
     "output_type": "execute_result"
    }
   ],
   "source": [
    "scores['test_recall_macro'].mean()"
   ]
  },
  {
   "cell_type": "code",
   "execution_count": 9,
   "metadata": {},
   "outputs": [
    {
     "data": {
      "text/plain": [
       "0.9718814080656184"
      ]
     },
     "execution_count": 9,
     "metadata": {},
     "output_type": "execute_result"
    }
   ],
   "source": [
    "scores['test_precision_macro'].mean()"
   ]
  },
  {
   "attachments": {},
   "cell_type": "markdown",
   "metadata": {},
   "source": [
    "Кроссвалидация не нормализованных данных"
   ]
  },
  {
   "cell_type": "code",
   "execution_count": 3,
   "metadata": {},
   "outputs": [],
   "source": [
    "df = pd.read_csv(\"evgeni_set.csv\")\n",
    "scoring = ['precision_macro', 'recall_macro']\n",
    "clf = CatBoostClassifier(n_estimators=40, depth=5, learning_rate=1, loss_function='Logloss', verbose=False)\n",
    "scores = cross_validate(clf, df.iloc[:, 1:], df.iloc[:, 0], scoring=scoring)"
   ]
  },
  {
   "cell_type": "code",
   "execution_count": 5,
   "metadata": {},
   "outputs": [
    {
     "data": {
      "text/plain": [
       "0.7756835053413"
      ]
     },
     "execution_count": 5,
     "metadata": {},
     "output_type": "execute_result"
    }
   ],
   "source": [
    "scores['test_recall_macro'].mean()"
   ]
  },
  {
   "cell_type": "code",
   "execution_count": 4,
   "metadata": {},
   "outputs": [
    {
     "data": {
      "text/plain": [
       "0.9718814080656184"
      ]
     },
     "execution_count": 4,
     "metadata": {},
     "output_type": "execute_result"
    }
   ],
   "source": [
    "scores['test_precision_macro'].mean()"
   ]
  },
  {
   "attachments": {},
   "cell_type": "markdown",
   "metadata": {},
   "source": [
    "Собственно разницы нет потомучто нормализация и масштабирование важны для линейных моделей, а для деревянных и бустингов она что есть, что ее нет"
   ]
  },
  {
   "cell_type": "code",
   "execution_count": 9,
   "metadata": {},
   "outputs": [],
   "source": [
    "#Сохраню конечную модель\n",
    "model = CatBoostClassifier(n_estimators=40, depth=5, learning_rate=1, loss_function='Logloss', verbose=False)\n",
    "model.fit(df.iloc[:, 1:], df.iloc[:, 0])\n",
    "\n",
    "import pickle\n",
    "pickle.dump(model, open('catboost_model.sav', 'wb'))"
>>>>>>> 3bad16e8471f9a106c276e91e42b5f4b4d25b44c
   ]
  }
 ],
 "metadata": {
  "kernelspec": {
   "display_name": "base",
   "language": "python",
   "name": "python3"
  },
  "language_info": {
   "codemirror_mode": {
    "name": "ipython",
    "version": 3
   },
   "file_extension": ".py",
   "mimetype": "text/x-python",
   "name": "python",
   "nbconvert_exporter": "python",
   "pygments_lexer": "ipython3",
   "version": "3.9.13"
  },
  "orig_nbformat": 4
 },
 "nbformat": 4,
 "nbformat_minor": 2
}
