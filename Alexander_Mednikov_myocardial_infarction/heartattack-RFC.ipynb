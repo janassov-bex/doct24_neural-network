{
 "cells": [
  {
   "cell_type": "code",
   "execution_count": 2,
   "metadata": {},
   "outputs": [],
   "source": [
    "import pandas as pd\n",
    "import numpy as np\n",
    "from sklearn.model_selection import train_test_split"
   ]
  },
  {
   "cell_type": "code",
   "execution_count": 3,
   "metadata": {},
   "outputs": [],
   "source": [
    "df = pd.read_csv(\"evgeni_set.csv\")\n",
    "df['age'] = df['age']/110 #нормализация"
   ]
  },
  {
   "cell_type": "code",
   "execution_count": 4,
   "metadata": {},
   "outputs": [],
   "source": [
    "#Меня не устраивает что  в train_test_split может в тестовую выборку попасть 0 инфарктов или все 100\n",
    "#поэтому разделю вручную и соеденю после деления обратно\n",
    "df_heartattack_x = df[df['minf']==1].iloc[:, 1:]\n",
    "df_heartattack_y = df[df['minf']==1].iloc[:, 0]\n",
    "df_no_heartattack_x = df[df['minf']==0].iloc[:, 1:]\n",
    "df_no_heartattack_y = df[df['minf']==0].iloc[:, 0]"
   ]
  },
  {
   "cell_type": "code",
   "execution_count": 5,
   "metadata": {},
   "outputs": [],
   "source": [
    "df_heartattack_x_train, df_heartattack_x_test, df_heartattack_y_train, df_heartattack_y_test = train_test_split(df_heartattack_x, df_heartattack_y, test_size=0.2)\n",
    "df_no_heartattack_x_train, df_no_heartattack_x_test, df_no_heartattack_y_train, df_no_heartattack_y_test = train_test_split(df_no_heartattack_x, df_no_heartattack_y, test_size=0.2)"
   ]
  },
  {
   "cell_type": "code",
   "execution_count": 6,
   "metadata": {},
   "outputs": [
    {
     "name": "stdout",
     "output_type": "stream",
     "text": [
      "Данные склеены правильно\n"
     ]
    }
   ],
   "source": [
    "x_train = pd.concat((df_heartattack_x_train, df_no_heartattack_x_train), axis=0)\n",
    "y_train = pd.concat((df_heartattack_y_train, df_no_heartattack_y_train), axis=0)\n",
    "x_test = pd.concat((df_heartattack_x_test, df_no_heartattack_x_test), axis=0)\n",
    "y_test = pd.concat((df_heartattack_y_test, df_no_heartattack_y_test), axis=0)\n",
    "\n",
    "#проверка соответствия id после склейки\n",
    "if all(y_test.index==x_test.index) and all(y_train.index==x_train.index):\n",
    "    print('Данные склеены правильно')"
   ]
  },
  {
   "attachments": {},
   "cell_type": "markdown",
   "metadata": {},
   "source": [
    "1.Случайные деревья"
   ]
  },
  {
   "cell_type": "code",
   "execution_count": 7,
   "metadata": {},
   "outputs": [],
   "source": [
    "from sklearn.ensemble import RandomForestClassifier\n",
    "from sklearn.metrics import recall_score, f1_score, precision_score\n",
    "assumption = round(np.sqrt(x_train.shape[0]))\n",
    "iter_n_estimators = list(range(100, 900, 50))\n",
    "iter_max_features = list(range(5, 9))\n",
    "iter_max_depth = list(range(5, 14))\n",
    "\n",
    "#все возможные комбинации параметров\n",
    "a = [iter_n_estimators, iter_max_features, iter_max_depth]\n",
    "iters = [list(x) for x in np.array(np.meshgrid(*a)).T.reshape(-1,len(a))]#все возможные комбинации параметров"
   ]
  },
  {
   "cell_type": "code",
   "execution_count": 8,
   "metadata": {},
   "outputs": [
    {
     "name": "stdout",
     "output_type": "stream",
     "text": [
      "Wall time: 12min 32s\n"
     ]
    }
   ],
   "source": [
    "%%time\n",
    "results = {'iter_n_estimators':[], 'iter_max_features':[], 'iter_max_depth':[],\n",
    "            'train_recall_score':[], 'train_f1_score':[], 'train_precision_score':[],\n",
    "            'test_recall_score':[], 'test_f1_score':[], 'test_precision_score':[]}\n",
    "for i in iters:\n",
    "    try:\n",
    "        results['iter_n_estimators'].append(i[0])\n",
    "        results['iter_max_features'].append(i[1])\n",
    "        results['iter_max_depth'].append(i[2])\n",
    "        model = RandomForestClassifier(max_depth=i[2], max_features=i[1], n_estimators=i[0])\n",
    "        model.fit(x_train, y_train)\n",
    "        test_y_pred = model.predict(x_test)\n",
    "        train_y_pred = model.predict(x_train)\n",
    "        results['train_recall_score'].append(recall_score(y_train, train_y_pred))\n",
    "        results['train_f1_score'].append(f1_score(y_train, train_y_pred))\n",
    "        results['train_precision_score'].append(precision_score(y_train, train_y_pred))\n",
    "        results['test_recall_score'].append(recall_score(y_test, test_y_pred))\n",
    "        results['test_f1_score'].append(f1_score(y_test, test_y_pred))\n",
    "        results['test_precision_score'].append(precision_score(y_test, test_y_pred))\n",
    "    except:\n",
    "        print(i)\n",
    "        continue"
   ]
  },
  {
   "cell_type": "code",
   "execution_count": 9,
   "metadata": {},
   "outputs": [
    {
     "data": {
      "text/html": [
       "<div>\n",
       "<style scoped>\n",
       "    .dataframe tbody tr th:only-of-type {\n",
       "        vertical-align: middle;\n",
       "    }\n",
       "\n",
       "    .dataframe tbody tr th {\n",
       "        vertical-align: top;\n",
       "    }\n",
       "\n",
       "    .dataframe thead th {\n",
       "        text-align: right;\n",
       "    }\n",
       "</style>\n",
       "<table border=\"1\" class=\"dataframe\">\n",
       "  <thead>\n",
       "    <tr style=\"text-align: right;\">\n",
       "      <th></th>\n",
       "      <th>iter_n_estimators</th>\n",
       "      <th>iter_max_features</th>\n",
       "      <th>iter_max_depth</th>\n",
       "      <th>train_recall_score</th>\n",
       "      <th>train_f1_score</th>\n",
       "      <th>train_precision_score</th>\n",
       "      <th>test_recall_score</th>\n",
       "      <th>test_f1_score</th>\n",
       "      <th>test_precision_score</th>\n",
       "    </tr>\n",
       "  </thead>\n",
       "  <tbody>\n",
       "    <tr>\n",
       "      <th>0</th>\n",
       "      <td>100</td>\n",
       "      <td>5</td>\n",
       "      <td>5</td>\n",
       "      <td>0.226190</td>\n",
       "      <td>0.368932</td>\n",
       "      <td>1.000000</td>\n",
       "      <td>0.095238</td>\n",
       "      <td>0.173913</td>\n",
       "      <td>1.000000</td>\n",
       "    </tr>\n",
       "    <tr>\n",
       "      <th>1</th>\n",
       "      <td>100</td>\n",
       "      <td>6</td>\n",
       "      <td>5</td>\n",
       "      <td>0.297619</td>\n",
       "      <td>0.446429</td>\n",
       "      <td>0.892857</td>\n",
       "      <td>0.142857</td>\n",
       "      <td>0.214286</td>\n",
       "      <td>0.428571</td>\n",
       "    </tr>\n",
       "    <tr>\n",
       "      <th>2</th>\n",
       "      <td>100</td>\n",
       "      <td>7</td>\n",
       "      <td>5</td>\n",
       "      <td>0.297619</td>\n",
       "      <td>0.446429</td>\n",
       "      <td>0.892857</td>\n",
       "      <td>0.142857</td>\n",
       "      <td>0.214286</td>\n",
       "      <td>0.428571</td>\n",
       "    </tr>\n",
       "    <tr>\n",
       "      <th>3</th>\n",
       "      <td>100</td>\n",
       "      <td>8</td>\n",
       "      <td>5</td>\n",
       "      <td>0.440476</td>\n",
       "      <td>0.596774</td>\n",
       "      <td>0.925000</td>\n",
       "      <td>0.238095</td>\n",
       "      <td>0.333333</td>\n",
       "      <td>0.555556</td>\n",
       "    </tr>\n",
       "    <tr>\n",
       "      <th>4</th>\n",
       "      <td>150</td>\n",
       "      <td>5</td>\n",
       "      <td>5</td>\n",
       "      <td>0.142857</td>\n",
       "      <td>0.250000</td>\n",
       "      <td>1.000000</td>\n",
       "      <td>0.095238</td>\n",
       "      <td>0.173913</td>\n",
       "      <td>1.000000</td>\n",
       "    </tr>\n",
       "    <tr>\n",
       "      <th>...</th>\n",
       "      <td>...</td>\n",
       "      <td>...</td>\n",
       "      <td>...</td>\n",
       "      <td>...</td>\n",
       "      <td>...</td>\n",
       "      <td>...</td>\n",
       "      <td>...</td>\n",
       "      <td>...</td>\n",
       "      <td>...</td>\n",
       "    </tr>\n",
       "    <tr>\n",
       "      <th>571</th>\n",
       "      <td>800</td>\n",
       "      <td>8</td>\n",
       "      <td>13</td>\n",
       "      <td>0.726190</td>\n",
       "      <td>0.802632</td>\n",
       "      <td>0.897059</td>\n",
       "      <td>0.428571</td>\n",
       "      <td>0.486486</td>\n",
       "      <td>0.562500</td>\n",
       "    </tr>\n",
       "    <tr>\n",
       "      <th>572</th>\n",
       "      <td>850</td>\n",
       "      <td>5</td>\n",
       "      <td>13</td>\n",
       "      <td>0.726190</td>\n",
       "      <td>0.802632</td>\n",
       "      <td>0.897059</td>\n",
       "      <td>0.428571</td>\n",
       "      <td>0.486486</td>\n",
       "      <td>0.562500</td>\n",
       "    </tr>\n",
       "    <tr>\n",
       "      <th>573</th>\n",
       "      <td>850</td>\n",
       "      <td>6</td>\n",
       "      <td>13</td>\n",
       "      <td>0.726190</td>\n",
       "      <td>0.802632</td>\n",
       "      <td>0.897059</td>\n",
       "      <td>0.428571</td>\n",
       "      <td>0.486486</td>\n",
       "      <td>0.562500</td>\n",
       "    </tr>\n",
       "    <tr>\n",
       "      <th>574</th>\n",
       "      <td>850</td>\n",
       "      <td>7</td>\n",
       "      <td>13</td>\n",
       "      <td>0.726190</td>\n",
       "      <td>0.802632</td>\n",
       "      <td>0.897059</td>\n",
       "      <td>0.428571</td>\n",
       "      <td>0.486486</td>\n",
       "      <td>0.562500</td>\n",
       "    </tr>\n",
       "    <tr>\n",
       "      <th>575</th>\n",
       "      <td>850</td>\n",
       "      <td>8</td>\n",
       "      <td>13</td>\n",
       "      <td>0.726190</td>\n",
       "      <td>0.802632</td>\n",
       "      <td>0.897059</td>\n",
       "      <td>0.428571</td>\n",
       "      <td>0.486486</td>\n",
       "      <td>0.562500</td>\n",
       "    </tr>\n",
       "  </tbody>\n",
       "</table>\n",
       "<p>576 rows × 9 columns</p>\n",
       "</div>"
      ],
      "text/plain": [
       "     iter_n_estimators  iter_max_features  iter_max_depth  train_recall_score  \\\n",
       "0                  100                  5               5            0.226190   \n",
       "1                  100                  6               5            0.297619   \n",
       "2                  100                  7               5            0.297619   \n",
       "3                  100                  8               5            0.440476   \n",
       "4                  150                  5               5            0.142857   \n",
       "..                 ...                ...             ...                 ...   \n",
       "571                800                  8              13            0.726190   \n",
       "572                850                  5              13            0.726190   \n",
       "573                850                  6              13            0.726190   \n",
       "574                850                  7              13            0.726190   \n",
       "575                850                  8              13            0.726190   \n",
       "\n",
       "     train_f1_score  train_precision_score  test_recall_score  test_f1_score  \\\n",
       "0          0.368932               1.000000           0.095238       0.173913   \n",
       "1          0.446429               0.892857           0.142857       0.214286   \n",
       "2          0.446429               0.892857           0.142857       0.214286   \n",
       "3          0.596774               0.925000           0.238095       0.333333   \n",
       "4          0.250000               1.000000           0.095238       0.173913   \n",
       "..              ...                    ...                ...            ...   \n",
       "571        0.802632               0.897059           0.428571       0.486486   \n",
       "572        0.802632               0.897059           0.428571       0.486486   \n",
       "573        0.802632               0.897059           0.428571       0.486486   \n",
       "574        0.802632               0.897059           0.428571       0.486486   \n",
       "575        0.802632               0.897059           0.428571       0.486486   \n",
       "\n",
       "     test_precision_score  \n",
       "0                1.000000  \n",
       "1                0.428571  \n",
       "2                0.428571  \n",
       "3                0.555556  \n",
       "4                1.000000  \n",
       "..                    ...  \n",
       "571              0.562500  \n",
       "572              0.562500  \n",
       "573              0.562500  \n",
       "574              0.562500  \n",
       "575              0.562500  \n",
       "\n",
       "[576 rows x 9 columns]"
      ]
     },
     "execution_count": 9,
     "metadata": {},
     "output_type": "execute_result"
    }
   ],
   "source": [
    "df_results=pd.DataFrame(results)\n",
    "df_results"
   ]
  },
  {
   "cell_type": "code",
   "execution_count": 10,
   "metadata": {},
   "outputs": [
    {
     "data": {
      "text/plain": [
       "Text(0.5, 1.0, 'f1_score')"
      ]
     },
     "execution_count": 10,
     "metadata": {},
     "output_type": "execute_result"
    },
    {
     "data": {
      "image/png": "[encoded data removed]",
      "text/plain": [
       "<Figure size 640x480 with 1 Axes>"
      ]
     },
     "metadata": {},
     "output_type": "display_data"
    }
   ],
   "source": [
    "from matplotlib import pyplot as plt\n",
    "plt.scatter(df_results.index, df_results['train_f1_score'], label='tran')\n",
    "plt.scatter(df_results.index, df_results['test_f1_score'], label='test')\n",
    "plt.legend()\n",
    "plt.xlabel('номер параметров')\n",
    "plt.ylabel('значение метрики')\n",
    "plt.title('f1_score')"
   ]
  },
  {
   "cell_type": "code",
   "execution_count": 11,
   "metadata": {},
   "outputs": [
    {
     "data": {
      "text/plain": [
       "Text(0.5, 1.0, 'precision')"
      ]
     },
     "execution_count": 11,
     "metadata": {},
     "output_type": "execute_result"
    },
    {
     "data": {
      "image/png": "[encoded data removed]",
      "text/plain": [
       "<Figure size 640x480 with 1 Axes>"
      ]
     },
     "metadata": {},
     "output_type": "display_data"
    }
   ],
   "source": [
    "plt.scatter(df_results.index, df_results['train_precision_score'], label='tran')\n",
    "plt.scatter(df_results.index, df_results['test_precision_score'], label='test')\n",
    "plt.legend()\n",
    "plt.xlabel('номер параметров')\n",
    "plt.ylabel('значение метрики')\n",
    "plt.title('precision')"
   ]
  },
  {
   "cell_type": "code",
   "execution_count": 12,
   "metadata": {},
   "outputs": [
    {
     "data": {
      "text/plain": [
       "Text(0.5, 1.0, 'recall_score')"
      ]
     },
     "execution_count": 12,
     "metadata": {},
     "output_type": "execute_result"
    },
    {
     "data": {
      "image/png": "[encoded data removed]",
      "text/plain": [
       "<Figure size 640x480 with 1 Axes>"
      ]
     },
     "metadata": {},
     "output_type": "display_data"
    }
   ],
   "source": [
    "plt.scatter(df_results.index, df_results['train_recall_score'], label='tran')\n",
    "plt.scatter(df_results.index, df_results['test_recall_score'], label='test')\n",
    "plt.legend()\n",
    "plt.xlabel('номер параметров')\n",
    "plt.ylabel('значение метрики')\n",
    "plt.title('recall_score')"
   ]
  },
  {
   "cell_type": "code",
   "execution_count": 13,
   "metadata": {},
   "outputs": [],
   "source": [
    "model = RandomForestClassifier(max_depth=7, max_features=7, n_estimators=1100)\n",
    "model = RandomForestClassifier(max_depth=7, max_features=7, n_estimators=1100)"
   ]
  },
  {
   "cell_type": "code",
   "execution_count": 14,
   "metadata": {},
   "outputs": [
    {
     "data": {
      "text/plain": [
       "0.42857142857142855"
      ]
     },
     "execution_count": 14,
     "metadata": {},
     "output_type": "execute_result"
    }
   ],
   "source": [
    "df_results['test_recall_score'].max()"
   ]
  },
  {
   "cell_type": "code",
   "execution_count": 15,
   "metadata": {},
   "outputs": [
    {
     "data": {
      "text/plain": [
       "iter_n_estimators        150.000000\n",
       "iter_max_features          5.000000\n",
       "iter_max_depth             9.000000\n",
       "train_recall_score         0.726190\n",
       "train_f1_score             0.802632\n",
       "train_precision_score      0.897059\n",
       "test_recall_score          0.428571\n",
       "test_f1_score              0.486486\n",
       "test_precision_score       0.562500\n",
       "Name: 260, dtype: float64"
      ]
     },
     "execution_count": 15,
     "metadata": {},
     "output_type": "execute_result"
    }
   ],
   "source": [
    "df_results.iloc[260]"
   ]
  },
  {
   "cell_type": "code",
   "execution_count": 16,
   "metadata": {},
   "outputs": [
    {
     "data": {
      "text/plain": [
       "array([[782,   7],\n",
       "       [ 12,   9]], dtype=int64)"
      ]
     },
     "execution_count": 16,
     "metadata": {},
     "output_type": "execute_result"
    }
   ],
   "source": [
    "model = RandomForestClassifier(max_depth=9, max_features=5,n_estimators=150)\n",
    "model.fit(x_train, y_train)\n",
    "y_pred = model.predict(x_test)\n",
    "from sklearn.metrics import confusion_matrix\n",
    "confusion_matrix(y_test, y_pred)"
   ]
  }
 ],
 "metadata": {
  "kernelspec": {
   "display_name": "base",
   "language": "python",
   "name": "python3"
  },
  "language_info": {
   "codemirror_mode": {
    "name": "ipython",
    "version": 3
   },
   "file_extension": ".py",
   "mimetype": "text/x-python",
   "name": "python",
   "nbconvert_exporter": "python",
   "pygments_lexer": "ipython3",
   "version": "3.9.13"
  },
  "orig_nbformat": 4
 },
 "nbformat": 4,
 "nbformat_minor": 2
}
