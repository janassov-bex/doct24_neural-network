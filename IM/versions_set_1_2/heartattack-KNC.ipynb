{
 "cells": [
  {
   "cell_type": "code",
   "execution_count": 1,
   "metadata": {},
   "outputs": [],
   "source": [
    "import pandas as pd\n",
    "import numpy as np\n",
    "from sklearn.model_selection import train_test_split\n",
    "from sklearn.metrics import recall_score, f1_score, precision_score"
   ]
  },
  {
   "cell_type": "code",
   "execution_count": 2,
   "metadata": {},
   "outputs": [],
   "source": [
    "df = pd.read_csv(\"evgeni_set.csv\")\n",
    "df['age'] = df['age']/110 #нормализация"
   ]
  },
  {
   "cell_type": "code",
   "execution_count": 3,
   "metadata": {},
   "outputs": [],
   "source": [
    "#Меня не устраивает что  в train_test_split может в тестовую выборку попасть 0 инфарктов или все 100\n",
    "#поэтому разделю вручную и соеденю после деления обратно\n",
    "df_heartattack_x = df[df['minf']==1].iloc[:, 1:]\n",
    "df_heartattack_y = df[df['minf']==1].iloc[:, 0]\n",
    "df_no_heartattack_x = df[df['minf']==0].iloc[:, 1:]\n",
    "df_no_heartattack_y = df[df['minf']==0].iloc[:, 0]"
   ]
  },
  {
   "cell_type": "code",
   "execution_count": 4,
   "metadata": {},
   "outputs": [],
   "source": [
    "df_heartattack_x_train, df_heartattack_x_test, df_heartattack_y_train, df_heartattack_y_test = train_test_split(df_heartattack_x, df_heartattack_y, test_size=0.2)\n",
    "df_no_heartattack_x_train, df_no_heartattack_x_test, df_no_heartattack_y_train, df_no_heartattack_y_test = train_test_split(df_no_heartattack_x, df_no_heartattack_y, test_size=0.2)"
   ]
  },
  {
   "cell_type": "code",
   "execution_count": 5,
   "metadata": {},
   "outputs": [
    {
     "name": "stdout",
     "output_type": "stream",
     "text": [
      "Данные склеены правильно\n"
     ]
    }
   ],
   "source": [
    "x_train = pd.concat((df_heartattack_x_train, df_no_heartattack_x_train), axis=0)\n",
    "y_train = pd.concat((df_heartattack_y_train, df_no_heartattack_y_train), axis=0)\n",
    "x_test = pd.concat((df_heartattack_x_test, df_no_heartattack_x_test), axis=0)\n",
    "y_test = pd.concat((df_heartattack_y_test, df_no_heartattack_y_test), axis=0)\n",
    "\n",
    "#проверка соответствия id после склейки\n",
    "if all(y_test.index==x_test.index) and all(y_train.index==x_train.index):\n",
    "    print('Данные склеены правильно')"
   ]
  },
  {
   "attachments": {},
   "cell_type": "markdown",
   "metadata": {},
   "source": [
    "KNN"
   ]
  },
  {
   "cell_type": "code",
   "execution_count": 17,
   "metadata": {},
   "outputs": [
    {
     "name": "stdout",
     "output_type": "stream",
     "text": [
      "[[761  28]\n",
      " [  0  21]]\n",
      "recall: 1.0\n",
      "precision: 0.42857142857142855\n",
      "accuracy_score: 0.9654320987654321\n",
      "Доля обектов отнесеных к классу 1 от тестовой выборки: 6%\n"
     ]
    },
    {
     "name": "stderr",
     "output_type": "stream",
     "text": [
      "e:\\Anaconda\\lib\\site-packages\\sklearn\\neighbors\\_classification.py:228: FutureWarning: Unlike other reduction functions (e.g. `skew`, `kurtosis`), the default behavior of `mode` typically preserves the axis it acts along. In SciPy 1.11.0, this behavior will change: the default value of `keepdims` will become False, the `axis` over which the statistic is taken will be eliminated, and the value None will no longer be accepted. Set `keepdims` to True or False to avoid this warning.\n",
      "  mode, _ = stats.mode(_y[neigh_ind, k], axis=1)\n"
     ]
    }
   ],
   "source": [
    "from sklearn.neighbors import KNeighborsClassifier\n",
    "model = KNeighborsClassifier(n_neighbors=4, algorithm='ball_tree')\n",
    "model.fit(x_train, y_train)\n",
    "y_pred = model.predict(x_test)\n",
    "matrix = confusion_matrix(y_test, y_pred)\n",
    "print(matrix)\n",
    "print(\"recall: \"+str(recall_score(y_test, y_pred)))\n",
    "print(\"precision: \"+str(precision_score(y_test, y_pred)))\n",
    "print(\"accuracy_score: \"+str(accuracy_score(y_test, y_pred)))\n",
    "print(\"Доля обектов отнесеных к классу 1 от тестовой выборки: \"+str(round((sum(matrix[:, 1])/x_test.shape[0])*100))+'%')"
   ]
  },
  {
   "cell_type": "code",
   "execution_count": null,
   "metadata": {},
   "outputs": [],
   "source": [
    "y_pred = model.predict(x_train)\n",
    "matrix = confusion_matrix(y_train, y_pred)\n",
    "print(matrix)\n",
    "print(\"recall: \"+str(recall_score(y_train, y_pred)))\n",
    "print(\"precision: \"+str(precision_score(y_train, y_pred)))\n",
    "print(\"accuracy_score: \"+str(accuracy_score(y_train, y_pred)))\n",
    "print(\"Доля обектов отнесеных к классу 1 от тестовой выборки: \"+str(round((sum(matrix[:, 1])/x_test.shape[0])*100))+'%')\n"
   ]
  },
  {
   "cell_type": "code",
   "execution_count": 7,
   "metadata": {},
   "outputs": [
    {
     "data": {
      "text/plain": [
       "array([], dtype=float64)"
      ]
     },
     "execution_count": 7,
     "metadata": {},
     "output_type": "execute_result"
    }
   ],
   "source": [
    "model.predict_proba(x_test)[(model.predict_proba(x_test)!=0)&(model.predict_proba(x_test)!=1)]"
   ]
  },
  {
   "cell_type": "code",
   "execution_count": 8,
   "metadata": {},
   "outputs": [],
   "source": [
    "import pickle\n",
    "pickle.dump(model, open('knn_model.sav', 'wb'))"
   ]
  },
  {
   "cell_type": "code",
   "execution_count": 21,
   "metadata": {},
   "outputs": [
    {
     "name": "stderr",
     "output_type": "stream",
     "text": [
      "e:\\Anaconda\\lib\\site-packages\\sklearn\\neighbors\\_classification.py:228: FutureWarning: Unlike other reduction functions (e.g. `skew`, `kurtosis`), the default behavior of `mode` typically preserves the axis it acts along. In SciPy 1.11.0, this behavior will change: the default value of `keepdims` will become False, the `axis` over which the statistic is taken will be eliminated, and the value None will no longer be accepted. Set `keepdims` to True or False to avoid this warning.\n",
      "  mode, _ = stats.mode(_y[neigh_ind, k], axis=1)\n"
     ]
    },
    {
     "data": {
      "text/plain": [
       "array([1, 1], dtype=int64)"
      ]
     },
     "execution_count": 21,
     "metadata": {},
     "output_type": "execute_result"
    }
   ],
   "source": [
    "model.predict(x_test.iloc[0:2])"
   ]
  },
  {
   "cell_type": "code",
   "execution_count": 25,
   "metadata": {},
   "outputs": [
    {
     "data": {
      "text/plain": [
       "[age                     0.645455\n",
       " man                     1.000000\n",
       " female                  0.000000\n",
       " SmokingAlcoholism       0.000000\n",
       " Fatness                 1.000000\n",
       " Diabetes                0.000000\n",
       " Hyperlipidemia          0.000000\n",
       " PhysicalInactivity      1.000000\n",
       " ArterialHypertension    1.000000\n",
       " Name: 3877, dtype: float64]"
      ]
     },
     "execution_count": 25,
     "metadata": {},
     "output_type": "execute_result"
    }
   ],
   "source": []
  },
  {
   "cell_type": "code",
   "execution_count": 30,
   "metadata": {},
   "outputs": [
    {
     "name": "stderr",
     "output_type": "stream",
     "text": [
      "e:\\Anaconda\\lib\\site-packages\\sklearn\\base.py:450: UserWarning: X does not have valid feature names, but KNeighborsClassifier was fitted with feature names\n",
      "  warnings.warn(\n"
     ]
    },
    {
     "data": {
      "text/plain": [
       "array([[0., 1.]])"
      ]
     },
     "execution_count": 30,
     "metadata": {},
     "output_type": "execute_result"
    }
   ],
   "source": [
    "model.predict_proba([[0.645455, 1, 0, 0, 1, 0, 0, 1, 1]])"
   ]
  },
  {
   "cell_type": "code",
   "execution_count": 37,
   "metadata": {},
   "outputs": [],
   "source": [
    "with open('knn_model.sav', 'rb') as fp:\n",
    "   clf = pickle.load(fp)"
   ]
  },
  {
   "cell_type": "code",
   "execution_count": 38,
   "metadata": {},
   "outputs": [
    {
     "name": "stderr",
     "output_type": "stream",
     "text": [
      "e:\\Anaconda\\lib\\site-packages\\sklearn\\base.py:450: UserWarning: X does not have valid feature names, but KNeighborsClassifier was fitted with feature names\n",
      "  warnings.warn(\n"
     ]
    },
    {
     "data": {
      "text/plain": [
       "array([[0., 1.]])"
      ]
     },
     "execution_count": 38,
     "metadata": {},
     "output_type": "execute_result"
    }
   ],
   "source": [
    "clf.predict_proba([[0.645455, 1, 0, 0, 1, 0, 0, 1, 1]])"
   ]
  }
 ],
 "metadata": {
  "kernelspec": {
   "display_name": "base",
   "language": "python",
   "name": "python3"
  },
  "language_info": {
   "codemirror_mode": {
    "name": "ipython",
    "version": 3
   },
   "file_extension": ".py",
   "mimetype": "text/x-python",
   "name": "python",
   "nbconvert_exporter": "python",
   "pygments_lexer": "ipython3",
   "version": "3.9.13"
  },
  "orig_nbformat": 4
 },
 "nbformat": 4,
 "nbformat_minor": 2
}
