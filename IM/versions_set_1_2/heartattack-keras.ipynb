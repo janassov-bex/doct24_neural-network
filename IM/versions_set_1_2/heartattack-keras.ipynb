{
 "cells": [
  {
   "cell_type": "code",
   "execution_count": 1,
   "metadata": {},
   "outputs": [],
   "source": [
    "import pandas as pd\n",
    "import numpy as np\n",
    "from sklearn.model_selection import train_test_split\n",
    "from sklearn.metrics import recall_score, f1_score, precision_score, confusion_matrix, accuracy_score"
   ]
  },
  {
   "cell_type": "code",
   "execution_count": 54,
   "metadata": {},
   "outputs": [],
   "source": [
    "df = pd.read_csv(\"evgeni_set.csv\")\n",
    "df['age'] = df['age']/110 #нормализация\n",
    "\n",
    "#Меня не устраивает что  в train_test_split может в тестовую выборку попасть 0 инфарктов или все 100\n",
    "#поэтому разделю вручную и соеденю после деления обратно\n",
    "df_heartattack_x = df[df['minf']==1].iloc[:, 1:]\n",
    "df_heartattack_y = df[df['minf']==1].iloc[:, 0]\n",
    "df_no_heartattack_x = df[df['minf']==0].iloc[:, 1:]\n",
    "df_no_heartattack_y = df[df['minf']==0].iloc[:, 0]\n",
    "\n",
    "df_heartattack_x_train, df_heartattack_x_test, df_heartattack_y_train, df_heartattack_y_test = train_test_split(df_heartattack_x, df_heartattack_y, test_size=0.2)\n",
    "df_no_heartattack_x_train, df_no_heartattack_x_test, df_no_heartattack_y_train, df_no_heartattack_y_test = train_test_split(df_no_heartattack_x, df_no_heartattack_y, test_size=0.2)\n",
    "\n",
    "x_train = pd.concat((df_heartattack_x_train, df_no_heartattack_x_train), axis=0)\n",
    "y_train = pd.concat((df_heartattack_y_train, df_no_heartattack_y_train), axis=0)\n",
    "x_test = pd.concat((df_heartattack_x_test, df_no_heartattack_x_test), axis=0)\n",
    "y_test = pd.concat((df_heartattack_y_test, df_no_heartattack_y_test), axis=0)"
   ]
  },
  {
   "cell_type": "code",
   "execution_count": null,
   "metadata": {},
   "outputs": [],
   "source": [
    "from sklearn.neighbors import KNeighborsClassifier\n",
    "model = KNeighborsClassifier(n_neighbors=2, algorithm='ball_tree')\n",
    "model.fit(x_train, y_train)\n",
    "y_pred = model.predict(x_test)\n",
    "matrix = confusion_matrix(y_test, y_pred)\n",
    "print(matrix)\n",
    "print(\"recall: \"+str(recall_score(y_test, y_pred)))\n",
    "print(\"precision: \"+str(precision_score(y_test, y_pred)))\n",
    "print(\"accuracy_score: \"+str(accuracy_score(y_test, y_pred)))\n",
    "print(\"Доля обектов отнесеных к классу 1 от тестовой выборки: \"+str(round((sum(matrix[:, 1])/x_test.shape[0])*100))+'%')"
   ]
  },
  {
   "cell_type": "code",
   "execution_count": 72,
   "metadata": {},
   "outputs": [],
   "source": [
    "from tensorflow.keras.layers import Dense\n",
    "from tensorflow.keras import Sequential\n",
    "from tensorflow.keras.optimizers import Adam"
   ]
  },
  {
   "cell_type": "code",
   "execution_count": 153,
   "metadata": {},
   "outputs": [],
   "source": [
    "#перебровал много вариантов методом тыка, нейросеть предпочитает все относить либо к единице либо к нулю\n",
    "model = Sequential()\n",
    "model.add(Dense(125, activation='exponential'))\n",
    "model.add(Dense(64, activation='exponential'))\n",
    "model.add(Dense(30, activation='exponential'))\n",
    "model.add(Dense(1, activation='exponential'))\n",
    "\n",
    "model.compile(loss='categorical_crossentropy', metrics=['accuracy'], optimizer=Adam(0.0002))"
   ]
  },
  {
   "cell_type": "code",
   "execution_count": 154,
   "metadata": {},
   "outputs": [
    {
     "name": "stdout",
     "output_type": "stream",
     "text": [
      "Epoch 1/10\n",
      "116/116 [==============================] - 1s 2ms/step - loss: nan - accuracy: 0.9740\n",
      "Epoch 2/10\n",
      "116/116 [==============================] - 0s 2ms/step - loss: nan - accuracy: 0.9740\n",
      "Epoch 3/10\n",
      "116/116 [==============================] - 0s 2ms/step - loss: nan - accuracy: 0.9740\n",
      "Epoch 4/10\n",
      "116/116 [==============================] - 0s 2ms/step - loss: nan - accuracy: 0.9740\n",
      "Epoch 5/10\n",
      "116/116 [==============================] - 0s 2ms/step - loss: nan - accuracy: 0.9740\n",
      "Epoch 6/10\n",
      "116/116 [==============================] - 0s 2ms/step - loss: nan - accuracy: 0.9740\n",
      "Epoch 7/10\n",
      "116/116 [==============================] - 0s 2ms/step - loss: nan - accuracy: 0.9740\n",
      "Epoch 8/10\n",
      "116/116 [==============================] - 0s 2ms/step - loss: nan - accuracy: 0.9740\n",
      "Epoch 9/10\n",
      "116/116 [==============================] - 0s 2ms/step - loss: nan - accuracy: 0.9740\n",
      "Epoch 10/10\n",
      "116/116 [==============================] - 0s 2ms/step - loss: nan - accuracy: 0.9740\n"
     ]
    },
    {
     "data": {
      "text/plain": [
       "<keras.callbacks.History at 0x273331db040>"
      ]
     },
     "execution_count": 154,
     "metadata": {},
     "output_type": "execute_result"
    }
   ],
   "source": [
    "model.fit(x_train, y_train, batch_size=28, epochs=10)"
   ]
  },
  {
   "cell_type": "code",
   "execution_count": 155,
   "metadata": {},
   "outputs": [
    {
     "name": "stdout",
     "output_type": "stream",
     "text": [
      "26/26 [==============================] - 0s 2ms/step\n"
     ]
    }
   ],
   "source": [
    "y_pred = model.predict(x_test)\n",
    "predict_mine = []\n",
    "for i2 in y_pred:\n",
    "    if i2[0]>min(y_pred):\n",
    "        predict_mine.append(1)\n",
    "    else:\n",
    "        predict_mine.append(0)"
   ]
  },
  {
   "cell_type": "code",
   "execution_count": 156,
   "metadata": {},
   "outputs": [
    {
     "name": "stdout",
     "output_type": "stream",
     "text": [
      "[[789   0]\n",
      " [ 21   0]]\n",
      "recall: 0.0\n",
      "precision: 0.0\n",
      "accuracy_score: 0.9740740740740741\n"
     ]
    },
    {
     "name": "stderr",
     "output_type": "stream",
     "text": [
      "e:\\Anaconda\\envs\\machinelearning\\lib\\site-packages\\sklearn\\metrics\\_classification.py:1344: UndefinedMetricWarning: Precision is ill-defined and being set to 0.0 due to no predicted samples. Use `zero_division` parameter to control this behavior.\n",
      "  _warn_prf(average, modifier, msg_start, len(result))\n"
     ]
    }
   ],
   "source": [
    "y_pred = predict_mine\n",
    "print(confusion_matrix(y_test, y_pred))\n",
    "print(\"recall: \"+str(recall_score(y_test, y_pred)))\n",
    "print(\"precision: \"+str(precision_score(y_test, y_pred)))\n",
    "print(\"accuracy_score: \"+str(accuracy_score(y_test, y_pred)))"
   ]
  }
 ],
 "metadata": {
  "kernelspec": {
   "display_name": "base",
   "language": "python",
   "name": "python3"
  },
  "language_info": {
   "codemirror_mode": {
    "name": "ipython",
    "version": 3
   },
   "file_extension": ".py",
   "mimetype": "text/x-python",
   "name": "python",
   "nbconvert_exporter": "python",
   "pygments_lexer": "ipython3",
   "version": "3.10.8"
  },
  "orig_nbformat": 4
 },
 "nbformat": 4,
 "nbformat_minor": 2
}
