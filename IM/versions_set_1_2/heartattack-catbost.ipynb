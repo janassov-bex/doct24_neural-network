{
 "cells": [
  {
   "cell_type": "code",
   "execution_count": 1,
   "metadata": {},
   "outputs": [],
   "source": [
    "import pandas as pd\n",
    "import numpy as np\n",
    "from sklearn.model_selection import train_test_split"
   ]
  },
  {
   "cell_type": "code",
   "execution_count": 2,
   "metadata": {},
   "outputs": [],
   "source": [
    "df = pd.read_csv(\"evgeni_set.csv\")\n",
    "df['age'] = df['age']/110 #нормализация"
   ]
  },
  {
   "cell_type": "code",
   "execution_count": 3,
   "metadata": {},
   "outputs": [],
   "source": [
    "#Меня не устраивает что  в train_test_split может в тестовую выборку попасть 0 инфарктов или все 100\n",
    "#поэтому разделю вручную и соеденю после деления обратно\n",
    "df_heartattack_x = df[df['minf']==1].iloc[:, 1:]\n",
    "df_heartattack_y = df[df['minf']==1].iloc[:, 0]\n",
    "df_no_heartattack_x = df[df['minf']==0].iloc[:, 1:]\n",
    "df_no_heartattack_y = df[df['minf']==0].iloc[:, 0]"
   ]
  },
  {
   "cell_type": "code",
   "execution_count": 4,
   "metadata": {},
   "outputs": [],
   "source": [
    "df_heartattack_x_train, df_heartattack_x_test, df_heartattack_y_train, df_heartattack_y_test = train_test_split(df_heartattack_x, df_heartattack_y, test_size=0.2)\n",
    "df_no_heartattack_x_train, df_no_heartattack_x_test, df_no_heartattack_y_train, df_no_heartattack_y_test = train_test_split(df_no_heartattack_x, df_no_heartattack_y, test_size=0.2)"
   ]
  },
  {
   "cell_type": "code",
   "execution_count": 5,
   "metadata": {},
   "outputs": [
    {
     "name": "stdout",
     "output_type": "stream",
     "text": [
      "Данные склеены правильно\n"
     ]
    }
   ],
   "source": [
    "x_train = pd.concat((df_heartattack_x_train, df_no_heartattack_x_train), axis=0)\n",
    "y_train = pd.concat((df_heartattack_y_train, df_no_heartattack_y_train), axis=0)\n",
    "x_test = pd.concat((df_heartattack_x_test, df_no_heartattack_x_test), axis=0)\n",
    "y_test = pd.concat((df_heartattack_y_test, df_no_heartattack_y_test), axis=0)\n",
    "\n",
    "#проверка соответствия id после склейки\n",
    "if all(y_test.index==x_test.index) and all(y_train.index==x_train.index):\n",
    "    print('Данные склеены правильно')"
   ]
  },
  {
   "cell_type": "code",
   "execution_count": 2,
   "metadata": {},
   "outputs": [
    {
     "ename": "NameError",
     "evalue": "name 'np' is not defined",
     "output_type": "error",
     "traceback": [
      "\u001b[1;31m---------------------------------------------------------------------------\u001b[0m",
      "\u001b[1;31mNameError\u001b[0m                                 Traceback (most recent call last)",
      "\u001b[1;32m~\\AppData\\Local\\Temp\\ipykernel_2628\\3294426680.py\u001b[0m in \u001b[0;36m<module>\u001b[1;34m\u001b[0m\n\u001b[0;32m      8\u001b[0m \u001b[1;31m#все возможные комбинации параметров\u001b[0m\u001b[1;33m\u001b[0m\u001b[1;33m\u001b[0m\u001b[0m\n\u001b[0;32m      9\u001b[0m \u001b[0ma\u001b[0m \u001b[1;33m=\u001b[0m \u001b[1;33m[\u001b[0m\u001b[0miter_n_estimators\u001b[0m\u001b[1;33m,\u001b[0m \u001b[0miter_max_depth\u001b[0m\u001b[1;33m]\u001b[0m\u001b[1;33m\u001b[0m\u001b[1;33m\u001b[0m\u001b[0m\n\u001b[1;32m---> 10\u001b[1;33m \u001b[0miters\u001b[0m \u001b[1;33m=\u001b[0m \u001b[1;33m[\u001b[0m\u001b[0mlist\u001b[0m\u001b[1;33m(\u001b[0m\u001b[0mx\u001b[0m\u001b[1;33m)\u001b[0m \u001b[1;32mfor\u001b[0m \u001b[0mx\u001b[0m \u001b[1;32min\u001b[0m \u001b[0mnp\u001b[0m\u001b[1;33m.\u001b[0m\u001b[0marray\u001b[0m\u001b[1;33m(\u001b[0m\u001b[0mnp\u001b[0m\u001b[1;33m.\u001b[0m\u001b[0mmeshgrid\u001b[0m\u001b[1;33m(\u001b[0m\u001b[1;33m*\u001b[0m\u001b[0ma\u001b[0m\u001b[1;33m)\u001b[0m\u001b[1;33m)\u001b[0m\u001b[1;33m.\u001b[0m\u001b[0mT\u001b[0m\u001b[1;33m.\u001b[0m\u001b[0mreshape\u001b[0m\u001b[1;33m(\u001b[0m\u001b[1;33m-\u001b[0m\u001b[1;36m1\u001b[0m\u001b[1;33m,\u001b[0m\u001b[0mlen\u001b[0m\u001b[1;33m(\u001b[0m\u001b[0ma\u001b[0m\u001b[1;33m)\u001b[0m\u001b[1;33m)\u001b[0m\u001b[1;33m]\u001b[0m\u001b[1;31m#все возможные комбинации параметров\u001b[0m\u001b[1;33m\u001b[0m\u001b[1;33m\u001b[0m\u001b[0m\n\u001b[0m\u001b[0;32m     11\u001b[0m \u001b[1;33m\u001b[0m\u001b[0m\n\u001b[0;32m     12\u001b[0m results = {'iter_n_estimators':[], 'iter_max_depth':[],\n",
      "\u001b[1;31mNameError\u001b[0m: name 'np' is not defined"
     ]
    }
   ],
   "source": [
    "from catboost import CatBoostClassifier\n",
    "from sklearn.metrics import recall_score, f1_score, precision_score\n",
    "from tqdm import tqdm\n",
    "\n",
    "iter_max_depth = list(range(6, 14))\n",
    "iter_n_estimators = list(range(100, 800, 50))\n",
    "\n",
    "#все возможные комбинации параметров\n",
    "a = [iter_n_estimators, iter_max_depth]\n",
    "iters = [list(x) for x in np.array(np.meshgrid(*a)).T.reshape(-1,len(a))]#все возможные комбинации параметров\n",
    "\n",
    "results = {'iter_n_estimators':[], 'iter_max_depth':[],\n",
    "            'train_recall_score':[], 'train_f1_score':[], 'train_precision_score':[],\n",
    "            'test_recall_score':[], 'test_f1_score':[], 'test_precision_score':[]}\n",
    "for i in tqdm(iters):\n",
    "        model = CatBoostClassifier(n_estimators=i[0], depth=i[1], learning_rate=1, loss_function='Logloss', verbose=False)\n",
    "        model.fit(x_train, y_train)\n",
    "        test_y_pred = model.predict(x_test)\n",
    "        train_y_pred = model.predict(x_train)\n",
    "        results['iter_n_estimators'].append(i[0])\n",
    "        results['iter_max_depth'].append(i[1])\n",
    "        results['train_recall_score'].append(recall_score(y_train, train_y_pred))\n",
    "        results['train_f1_score'].append(f1_score(y_train, train_y_pred))\n",
    "        results['train_precision_score'].append(precision_score(y_train, train_y_pred))\n",
    "        results['test_recall_score'].append(recall_score(y_test, test_y_pred))\n",
    "        results['test_f1_score'].append(f1_score(y_test, test_y_pred))\n",
    "        results['test_precision_score'].append(precision_score(y_test, test_y_pred))"
   ]
  },
  {
   "cell_type": "code",
   "execution_count": 7,
   "metadata": {},
   "outputs": [
    {
     "data": {
      "text/html": [
       "<div>\n",
       "<style scoped>\n",
       "    .dataframe tbody tr th:only-of-type {\n",
       "        vertical-align: middle;\n",
       "    }\n",
       "\n",
       "    .dataframe tbody tr th {\n",
       "        vertical-align: top;\n",
       "    }\n",
       "\n",
       "    .dataframe thead th {\n",
       "        text-align: right;\n",
       "    }\n",
       "</style>\n",
       "<table border=\"1\" class=\"dataframe\">\n",
       "  <thead>\n",
       "    <tr style=\"text-align: right;\">\n",
       "      <th></th>\n",
       "      <th>iter_n_estimators</th>\n",
       "      <th>iter_max_depth</th>\n",
       "      <th>train_recall_score</th>\n",
       "      <th>train_f1_score</th>\n",
       "      <th>train_precision_score</th>\n",
       "      <th>test_recall_score</th>\n",
       "      <th>test_f1_score</th>\n",
       "      <th>test_precision_score</th>\n",
       "    </tr>\n",
       "  </thead>\n",
       "  <tbody>\n",
       "    <tr>\n",
       "      <th>0</th>\n",
       "      <td>100</td>\n",
       "      <td>6</td>\n",
       "      <td>0.583333</td>\n",
       "      <td>0.715328</td>\n",
       "      <td>0.924528</td>\n",
       "      <td>0.666667</td>\n",
       "      <td>0.736842</td>\n",
       "      <td>0.823529</td>\n",
       "    </tr>\n",
       "    <tr>\n",
       "      <th>1</th>\n",
       "      <td>100</td>\n",
       "      <td>7</td>\n",
       "      <td>0.583333</td>\n",
       "      <td>0.715328</td>\n",
       "      <td>0.924528</td>\n",
       "      <td>0.666667</td>\n",
       "      <td>0.736842</td>\n",
       "      <td>0.823529</td>\n",
       "    </tr>\n",
       "    <tr>\n",
       "      <th>2</th>\n",
       "      <td>100</td>\n",
       "      <td>8</td>\n",
       "      <td>0.583333</td>\n",
       "      <td>0.715328</td>\n",
       "      <td>0.924528</td>\n",
       "      <td>0.666667</td>\n",
       "      <td>0.736842</td>\n",
       "      <td>0.823529</td>\n",
       "    </tr>\n",
       "    <tr>\n",
       "      <th>3</th>\n",
       "      <td>100</td>\n",
       "      <td>9</td>\n",
       "      <td>0.583333</td>\n",
       "      <td>0.715328</td>\n",
       "      <td>0.924528</td>\n",
       "      <td>0.666667</td>\n",
       "      <td>0.736842</td>\n",
       "      <td>0.823529</td>\n",
       "    </tr>\n",
       "    <tr>\n",
       "      <th>4</th>\n",
       "      <td>100</td>\n",
       "      <td>10</td>\n",
       "      <td>0.583333</td>\n",
       "      <td>0.715328</td>\n",
       "      <td>0.924528</td>\n",
       "      <td>0.666667</td>\n",
       "      <td>0.736842</td>\n",
       "      <td>0.823529</td>\n",
       "    </tr>\n",
       "    <tr>\n",
       "      <th>...</th>\n",
       "      <td>...</td>\n",
       "      <td>...</td>\n",
       "      <td>...</td>\n",
       "      <td>...</td>\n",
       "      <td>...</td>\n",
       "      <td>...</td>\n",
       "      <td>...</td>\n",
       "      <td>...</td>\n",
       "    </tr>\n",
       "    <tr>\n",
       "      <th>107</th>\n",
       "      <td>750</td>\n",
       "      <td>9</td>\n",
       "      <td>0.583333</td>\n",
       "      <td>0.715328</td>\n",
       "      <td>0.924528</td>\n",
       "      <td>0.666667</td>\n",
       "      <td>0.736842</td>\n",
       "      <td>0.823529</td>\n",
       "    </tr>\n",
       "    <tr>\n",
       "      <th>108</th>\n",
       "      <td>750</td>\n",
       "      <td>10</td>\n",
       "      <td>0.583333</td>\n",
       "      <td>0.715328</td>\n",
       "      <td>0.924528</td>\n",
       "      <td>0.666667</td>\n",
       "      <td>0.736842</td>\n",
       "      <td>0.823529</td>\n",
       "    </tr>\n",
       "    <tr>\n",
       "      <th>109</th>\n",
       "      <td>750</td>\n",
       "      <td>11</td>\n",
       "      <td>0.583333</td>\n",
       "      <td>0.715328</td>\n",
       "      <td>0.924528</td>\n",
       "      <td>0.666667</td>\n",
       "      <td>0.736842</td>\n",
       "      <td>0.823529</td>\n",
       "    </tr>\n",
       "    <tr>\n",
       "      <th>110</th>\n",
       "      <td>750</td>\n",
       "      <td>12</td>\n",
       "      <td>0.583333</td>\n",
       "      <td>0.715328</td>\n",
       "      <td>0.924528</td>\n",
       "      <td>0.666667</td>\n",
       "      <td>0.736842</td>\n",
       "      <td>0.823529</td>\n",
       "    </tr>\n",
       "    <tr>\n",
       "      <th>111</th>\n",
       "      <td>750</td>\n",
       "      <td>13</td>\n",
       "      <td>0.583333</td>\n",
       "      <td>0.715328</td>\n",
       "      <td>0.924528</td>\n",
       "      <td>0.666667</td>\n",
       "      <td>0.736842</td>\n",
       "      <td>0.823529</td>\n",
       "    </tr>\n",
       "  </tbody>\n",
       "</table>\n",
       "<p>112 rows × 8 columns</p>\n",
       "</div>"
      ],
      "text/plain": [
       "     iter_n_estimators  iter_max_depth  train_recall_score  train_f1_score  \\\n",
       "0                  100               6            0.583333        0.715328   \n",
       "1                  100               7            0.583333        0.715328   \n",
       "2                  100               8            0.583333        0.715328   \n",
       "3                  100               9            0.583333        0.715328   \n",
       "4                  100              10            0.583333        0.715328   \n",
       "..                 ...             ...                 ...             ...   \n",
       "107                750               9            0.583333        0.715328   \n",
       "108                750              10            0.583333        0.715328   \n",
       "109                750              11            0.583333        0.715328   \n",
       "110                750              12            0.583333        0.715328   \n",
       "111                750              13            0.583333        0.715328   \n",
       "\n",
       "     train_precision_score  test_recall_score  test_f1_score  \\\n",
       "0                 0.924528           0.666667       0.736842   \n",
       "1                 0.924528           0.666667       0.736842   \n",
       "2                 0.924528           0.666667       0.736842   \n",
       "3                 0.924528           0.666667       0.736842   \n",
       "4                 0.924528           0.666667       0.736842   \n",
       "..                     ...                ...            ...   \n",
       "107               0.924528           0.666667       0.736842   \n",
       "108               0.924528           0.666667       0.736842   \n",
       "109               0.924528           0.666667       0.736842   \n",
       "110               0.924528           0.666667       0.736842   \n",
       "111               0.924528           0.666667       0.736842   \n",
       "\n",
       "     test_precision_score  \n",
       "0                0.823529  \n",
       "1                0.823529  \n",
       "2                0.823529  \n",
       "3                0.823529  \n",
       "4                0.823529  \n",
       "..                    ...  \n",
       "107              0.823529  \n",
       "108              0.823529  \n",
       "109              0.823529  \n",
       "110              0.823529  \n",
       "111              0.823529  \n",
       "\n",
       "[112 rows x 8 columns]"
      ]
     },
     "execution_count": 7,
     "metadata": {},
     "output_type": "execute_result"
    }
   ],
   "source": [
    "df_results=pd.DataFrame(results)\n",
    "df_results"
   ]
  },
  {
   "cell_type": "code",
   "execution_count": 8,
   "metadata": {},
   "outputs": [
    {
     "data": {
      "text/html": [
       "<div>\n",
       "<style scoped>\n",
       "    .dataframe tbody tr th:only-of-type {\n",
       "        vertical-align: middle;\n",
       "    }\n",
       "\n",
       "    .dataframe tbody tr th {\n",
       "        vertical-align: top;\n",
       "    }\n",
       "\n",
       "    .dataframe thead th {\n",
       "        text-align: right;\n",
       "    }\n",
       "</style>\n",
       "<table border=\"1\" class=\"dataframe\">\n",
       "  <thead>\n",
       "    <tr style=\"text-align: right;\">\n",
       "      <th></th>\n",
       "      <th>iter_n_estimators</th>\n",
       "      <th>iter_max_depth</th>\n",
       "      <th>train_recall_score</th>\n",
       "      <th>train_f1_score</th>\n",
       "      <th>train_precision_score</th>\n",
       "      <th>test_recall_score</th>\n",
       "      <th>test_f1_score</th>\n",
       "      <th>test_precision_score</th>\n",
       "    </tr>\n",
       "  </thead>\n",
       "  <tbody>\n",
       "    <tr>\n",
       "      <th>0</th>\n",
       "      <td>100</td>\n",
       "      <td>6</td>\n",
       "      <td>0.583333</td>\n",
       "      <td>0.715328</td>\n",
       "      <td>0.924528</td>\n",
       "      <td>0.666667</td>\n",
       "      <td>0.736842</td>\n",
       "      <td>0.823529</td>\n",
       "    </tr>\n",
       "    <tr>\n",
       "      <th>1</th>\n",
       "      <td>100</td>\n",
       "      <td>7</td>\n",
       "      <td>0.583333</td>\n",
       "      <td>0.715328</td>\n",
       "      <td>0.924528</td>\n",
       "      <td>0.666667</td>\n",
       "      <td>0.736842</td>\n",
       "      <td>0.823529</td>\n",
       "    </tr>\n",
       "    <tr>\n",
       "      <th>2</th>\n",
       "      <td>100</td>\n",
       "      <td>8</td>\n",
       "      <td>0.583333</td>\n",
       "      <td>0.715328</td>\n",
       "      <td>0.924528</td>\n",
       "      <td>0.666667</td>\n",
       "      <td>0.736842</td>\n",
       "      <td>0.823529</td>\n",
       "    </tr>\n",
       "    <tr>\n",
       "      <th>3</th>\n",
       "      <td>100</td>\n",
       "      <td>9</td>\n",
       "      <td>0.583333</td>\n",
       "      <td>0.715328</td>\n",
       "      <td>0.924528</td>\n",
       "      <td>0.666667</td>\n",
       "      <td>0.736842</td>\n",
       "      <td>0.823529</td>\n",
       "    </tr>\n",
       "    <tr>\n",
       "      <th>4</th>\n",
       "      <td>100</td>\n",
       "      <td>10</td>\n",
       "      <td>0.583333</td>\n",
       "      <td>0.715328</td>\n",
       "      <td>0.924528</td>\n",
       "      <td>0.666667</td>\n",
       "      <td>0.736842</td>\n",
       "      <td>0.823529</td>\n",
       "    </tr>\n",
       "    <tr>\n",
       "      <th>...</th>\n",
       "      <td>...</td>\n",
       "      <td>...</td>\n",
       "      <td>...</td>\n",
       "      <td>...</td>\n",
       "      <td>...</td>\n",
       "      <td>...</td>\n",
       "      <td>...</td>\n",
       "      <td>...</td>\n",
       "    </tr>\n",
       "    <tr>\n",
       "      <th>107</th>\n",
       "      <td>750</td>\n",
       "      <td>9</td>\n",
       "      <td>0.583333</td>\n",
       "      <td>0.715328</td>\n",
       "      <td>0.924528</td>\n",
       "      <td>0.666667</td>\n",
       "      <td>0.736842</td>\n",
       "      <td>0.823529</td>\n",
       "    </tr>\n",
       "    <tr>\n",
       "      <th>108</th>\n",
       "      <td>750</td>\n",
       "      <td>10</td>\n",
       "      <td>0.583333</td>\n",
       "      <td>0.715328</td>\n",
       "      <td>0.924528</td>\n",
       "      <td>0.666667</td>\n",
       "      <td>0.736842</td>\n",
       "      <td>0.823529</td>\n",
       "    </tr>\n",
       "    <tr>\n",
       "      <th>109</th>\n",
       "      <td>750</td>\n",
       "      <td>11</td>\n",
       "      <td>0.583333</td>\n",
       "      <td>0.715328</td>\n",
       "      <td>0.924528</td>\n",
       "      <td>0.666667</td>\n",
       "      <td>0.736842</td>\n",
       "      <td>0.823529</td>\n",
       "    </tr>\n",
       "    <tr>\n",
       "      <th>110</th>\n",
       "      <td>750</td>\n",
       "      <td>12</td>\n",
       "      <td>0.583333</td>\n",
       "      <td>0.715328</td>\n",
       "      <td>0.924528</td>\n",
       "      <td>0.666667</td>\n",
       "      <td>0.736842</td>\n",
       "      <td>0.823529</td>\n",
       "    </tr>\n",
       "    <tr>\n",
       "      <th>111</th>\n",
       "      <td>750</td>\n",
       "      <td>13</td>\n",
       "      <td>0.583333</td>\n",
       "      <td>0.715328</td>\n",
       "      <td>0.924528</td>\n",
       "      <td>0.666667</td>\n",
       "      <td>0.736842</td>\n",
       "      <td>0.823529</td>\n",
       "    </tr>\n",
       "  </tbody>\n",
       "</table>\n",
       "<p>112 rows × 8 columns</p>\n",
       "</div>"
      ],
      "text/plain": [
       "     iter_n_estimators  iter_max_depth  train_recall_score  train_f1_score  \\\n",
       "0                  100               6            0.583333        0.715328   \n",
       "1                  100               7            0.583333        0.715328   \n",
       "2                  100               8            0.583333        0.715328   \n",
       "3                  100               9            0.583333        0.715328   \n",
       "4                  100              10            0.583333        0.715328   \n",
       "..                 ...             ...                 ...             ...   \n",
       "107                750               9            0.583333        0.715328   \n",
       "108                750              10            0.583333        0.715328   \n",
       "109                750              11            0.583333        0.715328   \n",
       "110                750              12            0.583333        0.715328   \n",
       "111                750              13            0.583333        0.715328   \n",
       "\n",
       "     train_precision_score  test_recall_score  test_f1_score  \\\n",
       "0                 0.924528           0.666667       0.736842   \n",
       "1                 0.924528           0.666667       0.736842   \n",
       "2                 0.924528           0.666667       0.736842   \n",
       "3                 0.924528           0.666667       0.736842   \n",
       "4                 0.924528           0.666667       0.736842   \n",
       "..                     ...                ...            ...   \n",
       "107               0.924528           0.666667       0.736842   \n",
       "108               0.924528           0.666667       0.736842   \n",
       "109               0.924528           0.666667       0.736842   \n",
       "110               0.924528           0.666667       0.736842   \n",
       "111               0.924528           0.666667       0.736842   \n",
       "\n",
       "     test_precision_score  \n",
       "0                0.823529  \n",
       "1                0.823529  \n",
       "2                0.823529  \n",
       "3                0.823529  \n",
       "4                0.823529  \n",
       "..                    ...  \n",
       "107              0.823529  \n",
       "108              0.823529  \n",
       "109              0.823529  \n",
       "110              0.823529  \n",
       "111              0.823529  \n",
       "\n",
       "[112 rows x 8 columns]"
      ]
     },
     "execution_count": 8,
     "metadata": {},
     "output_type": "execute_result"
    }
   ],
   "source": [
    "df_results[df_results['test_recall_score']==df_results['test_recall_score'].max()]"
   ]
  },
  {
   "cell_type": "code",
   "execution_count": 9,
   "metadata": {},
   "outputs": [
    {
     "data": {
      "text/plain": [
       "iter_n_estimators        100.000000\n",
       "iter_max_depth             6.000000\n",
       "train_recall_score         0.583333\n",
       "train_f1_score             0.715328\n",
       "train_precision_score      0.924528\n",
       "test_recall_score          0.666667\n",
       "test_f1_score              0.736842\n",
       "test_precision_score       0.823529\n",
       "Name: 0, dtype: float64"
      ]
     },
     "execution_count": 9,
     "metadata": {},
     "output_type": "execute_result"
    }
   ],
   "source": [
    "df_results.iloc[0]"
   ]
  },
  {
   "cell_type": "code",
   "execution_count": 19,
   "metadata": {},
   "outputs": [
    {
     "name": "stdout",
     "output_type": "stream",
     "text": [
      "[[789   0]\n",
      " [  8  13]] \n",
      " roc_auc_score 0.9932102118413906\n",
      " rec: 0.6190476190476191\n",
      " prec: 1.0\n",
      " f1: 0.7647058823529412\n",
      "\n"
     ]
    },
    {
     "data": {
      "image/png": "[encoded data removed]",
      "text/plain": [
       "<Figure size 500x500 with 1 Axes>"
      ]
     },
     "metadata": {},
     "output_type": "display_data"
    }
   ],
   "source": [
    "from catboost import CatBoostClassifier\n",
    "from sklearn.metrics import recall_score, f1_score, precision_score, roc_auc_score\n",
    "model = CatBoostClassifier(n_estimators=40, depth=5, learning_rate=1, loss_function='Logloss', verbose=False)\n",
    "model.fit(x_train, y_train)\n",
    "y_pred = model.predict(x_test)\n",
    "y_proba = model.predict_proba(x_test)\n",
    "y_proba = y_proba[:, 1]\n",
    "from sklearn.metrics import confusion_matrix\n",
    "print(confusion_matrix(y_test, y_pred), '\\n', \n",
    "f'roc_auc_score {roc_auc_score(y_test, y_proba)}\\n', \n",
    "f'rec: {recall_score(y_test, y_pred)}\\n',\n",
    "f'prec: {precision_score(y_test, y_pred)}\\n',\n",
    "f'f1: {f1_score(y_test, y_pred)}\\n',\n",
    ")\n",
    "\n",
    "import matplotlib.pyplot as plt\n",
    "from sklearn.metrics import roc_curve\n",
    "fpr, tpr, thresholds = roc_curve(y_test, y_proba, pos_label=1)\n",
    "plt.rcParams['figure.figsize'] = 5, 5\n",
    "plt.plot(fpr, tpr)\n",
    "plt.plot([0, 1], [0, 1], color='grey', linestyle='dashed')\n",
    "plt.xlabel('False Positive Rate')\n",
    "plt.ylabel('True Positive Rate')\n",
    "plt.title('ROC curve Версия датасета 1')\n",
    "plt.show()"
   ]
  },
  {
   "cell_type": "code",
   "execution_count": 47,
   "metadata": {},
   "outputs": [
    {
     "name": "stdout",
     "output_type": "stream",
     "text": [
      "[[3152    0]\n",
      " [  41   43]] \n",
      " roc_auc_score 0.9920534203529127\n",
      " rec: 0.5119047619047619\n",
      " prec: 1.0\n",
      " f1: 0.6771653543307087\n",
      "\n"
     ]
    },
    {
     "data": {
      "image/png": "[encoded data removed]",
      "text/plain": [
       "<Figure size 500x500 with 1 Axes>"
      ]
     },
     "metadata": {},
     "output_type": "display_data"
    }
   ],
   "source": [
    "#результаты по тренировочным\n",
    "y_pred = model.predict(x_train)\n",
    "y_proba = model.predict_proba(x_train)\n",
    "y_proba = y_proba[:, 1]\n",
    "print(confusion_matrix(y_train, y_pred), '\\n', \n",
    "f'roc_auc_score {roc_auc_score(y_train, y_proba)}\\n', \n",
    "f'rec: {recall_score(y_train, y_pred)}\\n',\n",
    "f'prec: {precision_score(y_train, y_pred)}\\n',\n",
    "f'f1: {f1_score(y_train, y_pred)}\\n',\n",
    ")\n",
    "\n",
    "from sklearn.metrics import roc_curve\n",
    "fpr, tpr, thresholds = roc_curve(y_train, y_proba, pos_label=1)\n",
    "plt.rcParams['figure.figsize'] = 5, 5\n",
    "plt.plot(fpr, tpr)\n",
    "plt.plot([0, 1], [0, 1], color='grey', linestyle='dashed')\n",
    "plt.xlabel('False Positive Rate')\n",
    "plt.ylabel('True Positive Rate')\n",
    "plt.title('ROC curve версия датасета 1 train')\n",
    "plt.show()"
   ]
  },
  {
   "attachments": {},
   "cell_type": "markdown",
   "metadata": {},
   "source": [
    "Подбор порога"
   ]
  },
  {
   "cell_type": "code",
   "execution_count": 20,
   "metadata": {},
   "outputs": [
    {
     "name": "stderr",
     "output_type": "stream",
     "text": [
      " 98%|█████████▊| 250/255 [00:02<00:00, 115.22it/s]e:\\Anaconda\\lib\\site-packages\\sklearn\\metrics\\_classification.py:1318: UndefinedMetricWarning: Precision is ill-defined and being set to 0.0 due to no predicted samples. Use `zero_division` parameter to control this behavior.\n",
      "  _warn_prf(average, modifier, msg_start, len(result))\n",
      "100%|██████████| 255/255 [00:02<00:00, 110.70it/s]\n"
     ]
    }
   ],
   "source": [
    "from tqdm import tqdm\n",
    "\n",
    "prediction = model.predict_proba(x_test)\n",
    "threshold_results = {'threshold':[], 'test_recall_score':[], 'test_f1_score':[], 'test_precision_score':[]}\n",
    "iters = prediction[:, 1].copy()\n",
    "iters.sort()\n",
    "iters = np.unique(iters)\n",
    "\n",
    "for i in tqdm(iters[:300]):\n",
    "    predict_mine = []\n",
    "    for i2 in prediction:\n",
    "        if i2[1]>i:\n",
    "            predict_mine.append(1)\n",
    "        else:\n",
    "            predict_mine.append(0)\n",
    "            \n",
    "    threshold_results['threshold'].append(i)\n",
    "    threshold_results['test_recall_score'].append(recall_score(y_test, predict_mine))\n",
    "    threshold_results['test_f1_score'].append(f1_score(y_test, predict_mine))\n",
    "    threshold_results['test_precision_score'].append(precision_score(y_test, predict_mine))"
   ]
  },
  {
   "cell_type": "code",
   "execution_count": 21,
   "metadata": {},
   "outputs": [
    {
     "data": {
      "text/html": [
       "<div>\n",
       "<style scoped>\n",
       "    .dataframe tbody tr th:only-of-type {\n",
       "        vertical-align: middle;\n",
       "    }\n",
       "\n",
       "    .dataframe tbody tr th {\n",
       "        vertical-align: top;\n",
       "    }\n",
       "\n",
       "    .dataframe thead th {\n",
       "        text-align: right;\n",
       "    }\n",
       "</style>\n",
       "<table border=\"1\" class=\"dataframe\">\n",
       "  <thead>\n",
       "    <tr style=\"text-align: right;\">\n",
       "      <th></th>\n",
       "      <th>threshold</th>\n",
       "      <th>test_recall_score</th>\n",
       "      <th>test_f1_score</th>\n",
       "      <th>test_precision_score</th>\n",
       "    </tr>\n",
       "  </thead>\n",
       "  <tbody>\n",
       "    <tr>\n",
       "      <th>0</th>\n",
       "      <td>0.000074</td>\n",
       "      <td>1.000000</td>\n",
       "      <td>0.051033</td>\n",
       "      <td>0.026185</td>\n",
       "    </tr>\n",
       "    <tr>\n",
       "      <th>1</th>\n",
       "      <td>0.000075</td>\n",
       "      <td>1.000000</td>\n",
       "      <td>0.051095</td>\n",
       "      <td>0.026217</td>\n",
       "    </tr>\n",
       "    <tr>\n",
       "      <th>2</th>\n",
       "      <td>0.000078</td>\n",
       "      <td>1.000000</td>\n",
       "      <td>0.051345</td>\n",
       "      <td>0.026349</td>\n",
       "    </tr>\n",
       "    <tr>\n",
       "      <th>3</th>\n",
       "      <td>0.000078</td>\n",
       "      <td>1.000000</td>\n",
       "      <td>0.051534</td>\n",
       "      <td>0.026448</td>\n",
       "    </tr>\n",
       "    <tr>\n",
       "      <th>4</th>\n",
       "      <td>0.000083</td>\n",
       "      <td>1.000000</td>\n",
       "      <td>0.051597</td>\n",
       "      <td>0.026482</td>\n",
       "    </tr>\n",
       "    <tr>\n",
       "      <th>...</th>\n",
       "      <td>...</td>\n",
       "      <td>...</td>\n",
       "      <td>...</td>\n",
       "      <td>...</td>\n",
       "    </tr>\n",
       "    <tr>\n",
       "      <th>250</th>\n",
       "      <td>0.834333</td>\n",
       "      <td>0.238095</td>\n",
       "      <td>0.384615</td>\n",
       "      <td>1.000000</td>\n",
       "    </tr>\n",
       "    <tr>\n",
       "      <th>251</th>\n",
       "      <td>0.857709</td>\n",
       "      <td>0.190476</td>\n",
       "      <td>0.320000</td>\n",
       "      <td>1.000000</td>\n",
       "    </tr>\n",
       "    <tr>\n",
       "      <th>252</th>\n",
       "      <td>0.869005</td>\n",
       "      <td>0.142857</td>\n",
       "      <td>0.250000</td>\n",
       "      <td>1.000000</td>\n",
       "    </tr>\n",
       "    <tr>\n",
       "      <th>253</th>\n",
       "      <td>0.869891</td>\n",
       "      <td>0.095238</td>\n",
       "      <td>0.173913</td>\n",
       "      <td>1.000000</td>\n",
       "    </tr>\n",
       "    <tr>\n",
       "      <th>254</th>\n",
       "      <td>0.896068</td>\n",
       "      <td>0.000000</td>\n",
       "      <td>0.000000</td>\n",
       "      <td>0.000000</td>\n",
       "    </tr>\n",
       "  </tbody>\n",
       "</table>\n",
       "<p>255 rows × 4 columns</p>\n",
       "</div>"
      ],
      "text/plain": [
       "     threshold  test_recall_score  test_f1_score  test_precision_score\n",
       "0     0.000074           1.000000       0.051033              0.026185\n",
       "1     0.000075           1.000000       0.051095              0.026217\n",
       "2     0.000078           1.000000       0.051345              0.026349\n",
       "3     0.000078           1.000000       0.051534              0.026448\n",
       "4     0.000083           1.000000       0.051597              0.026482\n",
       "..         ...                ...            ...                   ...\n",
       "250   0.834333           0.238095       0.384615              1.000000\n",
       "251   0.857709           0.190476       0.320000              1.000000\n",
       "252   0.869005           0.142857       0.250000              1.000000\n",
       "253   0.869891           0.095238       0.173913              1.000000\n",
       "254   0.896068           0.000000       0.000000              0.000000\n",
       "\n",
       "[255 rows x 4 columns]"
      ]
     },
     "execution_count": 21,
     "metadata": {},
     "output_type": "execute_result"
    }
   ],
   "source": [
    "df_threshold_results = pd.DataFrame(threshold_results)\n",
    "df_threshold_results"
   ]
  },
  {
   "cell_type": "code",
   "execution_count": 22,
   "metadata": {},
   "outputs": [
    {
     "data": {
      "text/plain": [
       "Text(0, 0.5, 'метрика')"
      ]
     },
     "execution_count": 22,
     "metadata": {},
     "output_type": "execute_result"
    },
    {
     "data": {
      "image/png": "[encoded data removed]",
      "text/plain": [
       "<Figure size 500x500 with 1 Axes>"
      ]
     },
     "metadata": {},
     "output_type": "display_data"
    }
   ],
   "source": [
    "import matplotlib.pyplot as plt\n",
    "plt.plot(df_threshold_results['threshold'], df_threshold_results['test_precision_score'], label='precision')\n",
    "plt.plot(df_threshold_results['threshold'], df_threshold_results['test_recall_score'], label='recal')\n",
    "plt.grid()\n",
    "plt.legend()\n",
    "plt.title('catbost')\n",
    "plt.xlabel('порог')\n",
    "plt.ylabel('метрика')"
   ]
  },
  {
   "cell_type": "code",
   "execution_count": 52,
   "metadata": {},
   "outputs": [
    {
     "data": {
      "text/html": [
       "<div>\n",
       "<style scoped>\n",
       "    .dataframe tbody tr th:only-of-type {\n",
       "        vertical-align: middle;\n",
       "    }\n",
       "\n",
       "    .dataframe tbody tr th {\n",
       "        vertical-align: top;\n",
       "    }\n",
       "\n",
       "    .dataframe thead th {\n",
       "        text-align: right;\n",
       "    }\n",
       "</style>\n",
       "<table border=\"1\" class=\"dataframe\">\n",
       "  <thead>\n",
       "    <tr style=\"text-align: right;\">\n",
       "      <th></th>\n",
       "      <th>threshold</th>\n",
       "      <th>test_recall_score</th>\n",
       "      <th>test_f1_score</th>\n",
       "      <th>test_precision_score</th>\n",
       "    </tr>\n",
       "  </thead>\n",
       "  <tbody>\n",
       "    <tr>\n",
       "      <th>245</th>\n",
       "      <td>0.219462</td>\n",
       "      <td>0.761905</td>\n",
       "      <td>0.842105</td>\n",
       "      <td>0.941176</td>\n",
       "    </tr>\n",
       "  </tbody>\n",
       "</table>\n",
       "</div>"
      ],
      "text/plain": [
       "     threshold  test_recall_score  test_f1_score  test_precision_score\n",
       "245   0.219462           0.761905       0.842105              0.941176"
      ]
     },
     "execution_count": 52,
     "metadata": {},
     "output_type": "execute_result"
    }
   ],
   "source": [
    "df_threshold_results[df_threshold_results['test_f1_score']==df_threshold_results['test_f1_score'].max()]"
   ]
  },
  {
   "cell_type": "code",
   "execution_count": 46,
   "metadata": {},
   "outputs": [
    {
     "data": {
      "text/plain": [
       "0.6190476190476191"
      ]
     },
     "execution_count": 46,
     "metadata": {},
     "output_type": "execute_result"
    }
   ],
   "source": [
    "df_threshold_results[df_threshold_results['test_precision_score']==1]['test_recall_score'].max()"
   ]
  },
  {
   "cell_type": "code",
   "execution_count": 36,
   "metadata": {},
   "outputs": [
    {
     "name": "stdout",
     "output_type": "stream",
     "text": [
      "[[769  20]\n",
      " [  3  18]]\n",
      "recall: 0.8571428571428571\n",
      "precision: 0.47368421052631576\n",
      "accuracy_score: 0.971604938271605\n",
      "Доля обектов отнесеных к классу 1 от тестовой выборки: 5%\n"
     ]
    },
    {
     "name": "stderr",
     "output_type": "stream",
     "text": [
      "e:\\Anaconda\\lib\\site-packages\\sklearn\\neighbors\\_classification.py:228: FutureWarning: Unlike other reduction functions (e.g. `skew`, `kurtosis`), the default behavior of `mode` typically preserves the axis it acts along. In SciPy 1.11.0, this behavior will change: the default value of `keepdims` will become False, the `axis` over which the statistic is taken will be eliminated, and the value None will no longer be accepted. Set `keepdims` to True or False to avoid this warning.\n",
      "  mode, _ = stats.mode(_y[neigh_ind, k], axis=1)\n"
     ]
    }
   ],
   "source": [
    "from sklearn.neighbors import KNeighborsClassifier\n",
    "from sklearn.metrics import accuracy_score\n",
    "model = KNeighborsClassifier(n_neighbors=4)#вручную либо есть  n_neighbors=2 с rec 0.8 и prec 0.51\n",
    "model.fit(x_train, y_train)\n",
    "y_pred = model.predict(x_test)\n",
    "matrix = confusion_matrix(y_test, y_pred)\n",
    "print(matrix)\n",
    "print(\"recall: \"+str(recall_score(y_test, y_pred)))\n",
    "print(\"precision: \"+str(precision_score(y_test, y_pred)))\n",
    "print(\"accuracy_score: \"+str(accuracy_score(y_test, y_pred)))\n",
    "print(\"Доля обектов отнесеных к классу 1 от тестовой выборки: \"+str(round((sum(matrix[:, 1])/x_test.shape[0])*100))+'%')"
   ]
  },
  {
   "attachments": {},
   "cell_type": "markdown",
   "metadata": {},
   "source": [
    "Кросвалидация нормализованых данных"
   ]
  },
  {
   "cell_type": "code",
   "execution_count": 1,
   "metadata": {},
   "outputs": [
    {
     "ename": "NameError",
     "evalue": "name 'df' is not defined",
     "output_type": "error",
     "traceback": [
      "\u001b[1;31m---------------------------------------------------------------------------\u001b[0m",
      "\u001b[1;31mNameError\u001b[0m                                 Traceback (most recent call last)",
      "\u001b[1;32m~\\AppData\\Local\\Temp\\ipykernel_6636\\2174094176.py\u001b[0m in \u001b[0;36m<module>\u001b[1;34m\u001b[0m\n\u001b[0;32m      3\u001b[0m \u001b[0mscoring\u001b[0m \u001b[1;33m=\u001b[0m \u001b[1;33m[\u001b[0m\u001b[1;34m'precision_macro'\u001b[0m\u001b[1;33m,\u001b[0m \u001b[1;34m'recall_macro'\u001b[0m\u001b[1;33m]\u001b[0m\u001b[1;33m\u001b[0m\u001b[1;33m\u001b[0m\u001b[0m\n\u001b[0;32m      4\u001b[0m \u001b[0mclf\u001b[0m \u001b[1;33m=\u001b[0m \u001b[0mCatBoostClassifier\u001b[0m\u001b[1;33m(\u001b[0m\u001b[0mn_estimators\u001b[0m\u001b[1;33m=\u001b[0m\u001b[1;36m40\u001b[0m\u001b[1;33m,\u001b[0m \u001b[0mdepth\u001b[0m\u001b[1;33m=\u001b[0m\u001b[1;36m5\u001b[0m\u001b[1;33m,\u001b[0m \u001b[0mlearning_rate\u001b[0m\u001b[1;33m=\u001b[0m\u001b[1;36m1\u001b[0m\u001b[1;33m,\u001b[0m \u001b[0mloss_function\u001b[0m\u001b[1;33m=\u001b[0m\u001b[1;34m'Logloss'\u001b[0m\u001b[1;33m,\u001b[0m \u001b[0mverbose\u001b[0m\u001b[1;33m=\u001b[0m\u001b[1;32mFalse\u001b[0m\u001b[1;33m)\u001b[0m\u001b[1;33m\u001b[0m\u001b[1;33m\u001b[0m\u001b[0m\n\u001b[1;32m----> 5\u001b[1;33m \u001b[0mscores\u001b[0m \u001b[1;33m=\u001b[0m \u001b[0mcross_validate\u001b[0m\u001b[1;33m(\u001b[0m\u001b[0mclf\u001b[0m\u001b[1;33m,\u001b[0m \u001b[0mdf\u001b[0m\u001b[1;33m.\u001b[0m\u001b[0miloc\u001b[0m\u001b[1;33m[\u001b[0m\u001b[1;33m:\u001b[0m\u001b[1;33m,\u001b[0m \u001b[1;36m1\u001b[0m\u001b[1;33m:\u001b[0m\u001b[1;33m]\u001b[0m\u001b[1;33m,\u001b[0m \u001b[0mdf\u001b[0m\u001b[1;33m.\u001b[0m\u001b[0miloc\u001b[0m\u001b[1;33m[\u001b[0m\u001b[1;33m:\u001b[0m\u001b[1;33m,\u001b[0m \u001b[1;36m0\u001b[0m\u001b[1;33m]\u001b[0m\u001b[1;33m,\u001b[0m \u001b[0mscoring\u001b[0m\u001b[1;33m=\u001b[0m\u001b[0mscoring\u001b[0m\u001b[1;33m)\u001b[0m\u001b[1;33m\u001b[0m\u001b[1;33m\u001b[0m\u001b[0m\n\u001b[0m",
      "\u001b[1;31mNameError\u001b[0m: name 'df' is not defined"
     ]
    }
   ],
   "source": [
    "from sklearn.model_selection import cross_validate\n",
    "from catboost import CatBoostClassifier\n",
    "scoring = ['precision_macro', 'recall_macro']\n",
    "clf = CatBoostClassifier(n_estimators=40, depth=5, learning_rate=1, loss_function='Logloss', verbose=False)\n",
    "scores = cross_validate(clf, df.iloc[:, 1:], df.iloc[:, 0], scoring=scoring)"
   ]
  },
  {
   "cell_type": "code",
   "execution_count": 7,
   "metadata": {},
   "outputs": [
    {
     "data": {
      "text/plain": [
       "{'fit_time': array([0.96897101, 0.26123357, 0.3108983 , 0.22330284, 0.30663276]),\n",
       " 'score_time': array([0.1008184 , 0.00399876, 0.00399685, 0.00399804, 0.0039978 ]),\n",
       " 'test_precision_macro': array([0.8844697 , 0.99373434, 0.99373434, 0.99373434, 0.99373434]),\n",
       " 'test_recall_macro': array([0.83079848, 0.76190476, 0.76190476, 0.76190476, 0.76190476])}"
      ]
     },
     "execution_count": 7,
     "metadata": {},
     "output_type": "execute_result"
    }
   ],
   "source": [
    "scores"
   ]
  },
  {
   "cell_type": "code",
   "execution_count": 8,
   "metadata": {},
   "outputs": [
    {
     "data": {
      "text/plain": [
       "0.7756835053413"
      ]
     },
     "execution_count": 8,
     "metadata": {},
     "output_type": "execute_result"
    }
   ],
   "source": [
    "scores['test_recall_macro'].mean()"
   ]
  },
  {
   "cell_type": "code",
   "execution_count": 9,
   "metadata": {},
   "outputs": [
    {
     "data": {
      "text/plain": [
       "0.9718814080656184"
      ]
     },
     "execution_count": 9,
     "metadata": {},
     "output_type": "execute_result"
    }
   ],
   "source": [
    "scores['test_precision_macro'].mean()"
   ]
  },
  {
   "attachments": {},
   "cell_type": "markdown",
   "metadata": {},
   "source": [
    "Кроссвалидация не нормализованных данных"
   ]
  },
  {
   "cell_type": "code",
   "execution_count": 3,
   "metadata": {},
   "outputs": [],
   "source": [
    "df = pd.read_csv(\"evgeni_set.csv\")\n",
    "scoring = ['precision_macro', 'recall_macro']\n",
    "clf = CatBoostClassifier(n_estimators=40, depth=5, learning_rate=1, loss_function='Logloss', verbose=False)\n",
    "scores = cross_validate(clf, df.iloc[:, 1:], df.iloc[:, 0], scoring=scoring)"
   ]
  },
  {
   "cell_type": "code",
   "execution_count": 5,
   "metadata": {},
   "outputs": [
    {
     "data": {
      "text/plain": [
       "0.7756835053413"
      ]
     },
     "execution_count": 5,
     "metadata": {},
     "output_type": "execute_result"
    }
   ],
   "source": [
    "scores['test_recall_macro'].mean()"
   ]
  },
  {
   "cell_type": "code",
   "execution_count": 4,
   "metadata": {},
   "outputs": [
    {
     "data": {
      "text/plain": [
       "0.9718814080656184"
      ]
     },
     "execution_count": 4,
     "metadata": {},
     "output_type": "execute_result"
    }
   ],
   "source": [
    "scores['test_precision_macro'].mean()"
   ]
  },
  {
   "attachments": {},
   "cell_type": "markdown",
   "metadata": {},
   "source": [
    "Собственно разницы нет потомучто нормализация и масштабирование важны для линейных моделей, а для деревянных и бустингов она что есть, что ее нет"
   ]
  },
  {
   "cell_type": "code",
   "execution_count": 9,
   "metadata": {},
   "outputs": [],
   "source": [
    "#Сохраню конечную модель\n",
    "model = CatBoostClassifier(n_estimators=40, depth=5, learning_rate=1, loss_function='Logloss', verbose=False)\n",
    "model.fit(df.iloc[:, 1:], df.iloc[:, 0])\n",
    "\n",
    "import pickle\n",
    "pickle.dump(model, open('catboost_model.sav', 'wb'))"
   ]
  }
 ],
 "metadata": {
  "kernelspec": {
   "display_name": "base",
   "language": "python",
   "name": "python3"
  },
  "language_info": {
   "codemirror_mode": {
    "name": "ipython",
    "version": 3
   },
   "file_extension": ".py",
   "mimetype": "text/x-python",
   "name": "python",
   "nbconvert_exporter": "python",
   "pygments_lexer": "ipython3",
   "version": "3.9.13"
  },
  "orig_nbformat": 4
 },
 "nbformat": 4,
 "nbformat_minor": 2
}
