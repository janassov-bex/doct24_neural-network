{
 "cells": [
  {
   "cell_type": "code",
   "execution_count": 1,
   "metadata": {},
   "outputs": [],
   "source": [
    "import os\n",
    "import numpy as np\n",
    "os.environ['TF_CPP_MIN_LOG_LEVEL'] = '2'\n",
    "\n",
    "import tensorflow as tf\n",
    "from tensorflow import keras\n",
    "from tensorflow.keras import layers\n",
    "tf.random.set_seed(1)\n",
    "\n",
    "\n",
    "inputs = keras.Input(shape=(128, 128, 3), name=\"img\")\n",
    "x = layers.Conv2D(128, 3, activation=\"relu\")(inputs)\n",
    "x = layers.Conv2D(256, 3, activation=\"relu\")(x)\n",
    "block_1_output = layers.MaxPooling2D(3)(x)\n",
    "\n",
    "x = layers.Conv2D(256, 3, activation=\"relu\", padding=\"same\")(block_1_output)\n",
    "x = layers.Conv2D(256, 3, activation=\"relu\", padding=\"same\")(x)\n",
    "block_2_output = layers.add([x, block_1_output])\n",
    "\n",
    "x = layers.Conv2D(256, 3, activation=\"relu\", padding=\"same\")(block_2_output)\n",
    "x = layers.Conv2D(256, 3, activation=\"relu\", padding=\"same\")(x)\n",
    "block_3_output = layers.add([x, block_2_output])\n",
    "\n",
    "x = layers.Conv2D(256, 3, activation=\"relu\")(block_3_output)\n",
    "x = layers.GlobalAveragePooling2D()(x)\n",
    "x = layers.Dense(1024, activation=\"relu\")(x)\n",
    "x = layers.Dropout(0.5)(x)\n",
    "x = layers.Dense(512, activation=\"relu\")(x)\n",
    "x = layers.Dense(256, activation=\"relu\")(x)\n",
    "x = layers.Dense(128, activation=\"relu\")(x)\n",
    "x = layers.Dense(64, activation=\"relu\")(x)\n",
    "x = layers.Dense(32, activation=\"relu\")(x)\n",
    "outputs = layers.Dense(2, activation='sigmoid')(x) #softmax если более 2 классов\n",
    "\n",
    "model = keras.Model(inputs, outputs, name=\"toy_resnet\")\n",
    "\n",
    "model.compile(optimizer='adam',\n",
    "             loss='categorical_crossentropy',\n",
    "             metrics=['accuracy'])\n"
   ]
  },
  {
   "cell_type": "code",
   "execution_count": 5,
   "metadata": {},
   "outputs": [
    {
     "name": "stdout",
     "output_type": "stream",
     "text": [
      "Model: \"toy_resnet\"\n",
      "__________________________________________________________________________________________________\n",
      " Layer (type)                   Output Shape         Param #     Connected to                     \n",
      "==================================================================================================\n",
      " img (InputLayer)               [(None, 128, 128, 3  0           []                               \n",
      "                                )]                                                                \n",
      "                                                                                                  \n",
      " conv2d_7 (Conv2D)              (None, 126, 126, 12  3584        ['img[0][0]']                    \n",
      "                                8)                                                                \n",
      "                                                                                                  \n",
      " conv2d_8 (Conv2D)              (None, 124, 124, 25  295168      ['conv2d_7[0][0]']               \n",
      "                                6)                                                                \n",
      "                                                                                                  \n",
      " max_pooling2d_1 (MaxPooling2D)  (None, 41, 41, 256)  0          ['conv2d_8[0][0]']               \n",
      "                                                                                                  \n",
      " conv2d_9 (Conv2D)              (None, 41, 41, 256)  590080      ['max_pooling2d_1[0][0]']        \n",
      "                                                                                                  \n",
      " conv2d_10 (Conv2D)             (None, 41, 41, 256)  590080      ['conv2d_9[0][0]']               \n",
      "                                                                                                  \n",
      " add_2 (Add)                    (None, 41, 41, 256)  0           ['conv2d_10[0][0]',              \n",
      "                                                                  'max_pooling2d_1[0][0]']        \n",
      "                                                                                                  \n",
      " conv2d_11 (Conv2D)             (None, 41, 41, 256)  590080      ['add_2[0][0]']                  \n",
      "                                                                                                  \n",
      " conv2d_12 (Conv2D)             (None, 41, 41, 256)  590080      ['conv2d_11[0][0]']              \n",
      "                                                                                                  \n",
      " add_3 (Add)                    (None, 41, 41, 256)  0           ['conv2d_12[0][0]',              \n",
      "                                                                  'add_2[0][0]']                  \n",
      "                                                                                                  \n",
      " conv2d_13 (Conv2D)             (None, 39, 39, 256)  590080      ['add_3[0][0]']                  \n",
      "                                                                                                  \n",
      " global_average_pooling2d_1 (Gl  (None, 256)         0           ['conv2d_13[0][0]']              \n",
      " obalAveragePooling2D)                                                                            \n",
      "                                                                                                  \n",
      " dense_7 (Dense)                (None, 1024)         263168      ['global_average_pooling2d_1[0][0\n",
      "                                                                 ]']                              \n",
      "                                                                                                  \n",
      " dropout_1 (Dropout)            (None, 1024)         0           ['dense_7[0][0]']                \n",
      "                                                                                                  \n",
      " dense_8 (Dense)                (None, 512)          524800      ['dropout_1[0][0]']              \n",
      "                                                                                                  \n",
      " dense_9 (Dense)                (None, 256)          131328      ['dense_8[0][0]']                \n",
      "                                                                                                  \n",
      " dense_10 (Dense)               (None, 128)          32896       ['dense_9[0][0]']                \n",
      "                                                                                                  \n",
      " dense_11 (Dense)               (None, 64)           8256        ['dense_10[0][0]']               \n",
      "                                                                                                  \n",
      " dense_12 (Dense)               (None, 32)           2080        ['dense_11[0][0]']               \n",
      "                                                                                                  \n",
      " dense_13 (Dense)               (None, 2)            66          ['dense_12[0][0]']               \n",
      "                                                                                                  \n",
      "==================================================================================================\n",
      "Total params: 4,211,746\n",
      "Trainable params: 4,211,746\n",
      "Non-trainable params: 0\n",
      "__________________________________________________________________________________________________\n"
     ]
    }
   ],
   "source": [
    "model.summary()"
   ]
  },
  {
   "cell_type": "code",
   "execution_count": 2,
   "metadata": {},
   "outputs": [],
   "source": [
    "x_train= np.load('x_train.npy')\n",
    "y_train = np.load('y_train.npy')\n",
    "x_test= np.load('x_test.npy')\n",
    "y_test = np.load('y_test.npy')\n",
    "x_train = x_train / 255\n",
    "x_test = x_test / 255\n",
    "\n",
    "y_train = keras.utils.to_categorical(y_train, 2)\n",
    "y_test = keras.utils.to_categorical(y_test, 2)"
   ]
  },
  {
   "cell_type": "code",
   "execution_count": 7,
   "metadata": {},
   "outputs": [
    {
     "name": "stdout",
     "output_type": "stream",
     "text": [
      "Epoch 1/25\n",
      "131/131 [==============================] - 4297s 33s/step - loss: 0.6480 - accuracy: 0.6747 - val_loss: 0.3335 - val_accuracy: 1.0000\n",
      "Epoch 2/25\n",
      "131/131 [==============================] - 4242s 32s/step - loss: 0.4946 - accuracy: 0.7184 - val_loss: 0.2310 - val_accuracy: 0.7682\n",
      "Epoch 3/25\n",
      "131/131 [==============================] - 4257s 33s/step - loss: 0.3511 - accuracy: 0.8449 - val_loss: 0.1269 - val_accuracy: 0.9023\n",
      "Epoch 4/25\n",
      "131/131 [==============================] - 4254s 32s/step - loss: 0.2979 - accuracy: 0.8876 - val_loss: 0.2380 - val_accuracy: 0.8582\n",
      "Epoch 5/25\n",
      "131/131 [==============================] - 4274s 33s/step - loss: 0.2287 - accuracy: 0.9166 - val_loss: 0.1038 - val_accuracy: 0.9483\n",
      "Epoch 6/25\n",
      "131/131 [==============================] - 4259s 33s/step - loss: 0.1879 - accuracy: 0.9298 - val_loss: 0.1699 - val_accuracy: 0.8966\n",
      "Epoch 7/25\n",
      "131/131 [==============================] - 4271s 33s/step - loss: 0.1876 - accuracy: 0.9291 - val_loss: 0.2171 - val_accuracy: 0.9013\n",
      "Epoch 8/25\n",
      "131/131 [==============================] - 4283s 33s/step - loss: 0.1657 - accuracy: 0.9372 - val_loss: 0.1241 - val_accuracy: 0.9234\n",
      "Epoch 9/25\n",
      "131/131 [==============================] - 4306s 33s/step - loss: 0.1568 - accuracy: 0.9410 - val_loss: 0.1908 - val_accuracy: 0.8879\n",
      "Epoch 10/25\n",
      "131/131 [==============================] - 4288s 33s/step - loss: 0.1486 - accuracy: 0.9398 - val_loss: 0.3257 - val_accuracy: 0.8649\n",
      "Epoch 11/25\n",
      "131/131 [==============================] - 4310s 33s/step - loss: 0.1666 - accuracy: 0.9394 - val_loss: 0.4851 - val_accuracy: 0.8381\n",
      "Epoch 12/25\n",
      "131/131 [==============================] - 4287s 33s/step - loss: 0.1378 - accuracy: 0.9468 - val_loss: 0.1765 - val_accuracy: 0.9186\n",
      "Epoch 13/25\n",
      "131/131 [==============================] - 4220s 32s/step - loss: 0.1255 - accuracy: 0.9530 - val_loss: 0.1108 - val_accuracy: 0.9358\n",
      "Epoch 14/25\n",
      "131/131 [==============================] - 4301s 33s/step - loss: 0.1159 - accuracy: 0.9593 - val_loss: 0.1205 - val_accuracy: 0.9320\n",
      "Epoch 15/25\n",
      "131/131 [==============================] - 4234s 32s/step - loss: 0.1091 - accuracy: 0.9566 - val_loss: 0.0984 - val_accuracy: 0.9521\n",
      "Epoch 16/25\n",
      "131/131 [==============================] - 4265s 33s/step - loss: 0.0956 - accuracy: 0.9662 - val_loss: 0.0931 - val_accuracy: 0.9531\n",
      "Epoch 17/25\n",
      "131/131 [==============================] - 4326s 33s/step - loss: 0.1062 - accuracy: 0.9571 - val_loss: 0.1266 - val_accuracy: 0.9330\n",
      "Epoch 18/25\n",
      "131/131 [==============================] - 4313s 33s/step - loss: 0.1178 - accuracy: 0.9549 - val_loss: 0.1371 - val_accuracy: 0.9320\n",
      "Epoch 19/25\n",
      "131/131 [==============================] - 4314s 33s/step - loss: 0.0935 - accuracy: 0.9667 - val_loss: 0.1380 - val_accuracy: 0.9243\n",
      "Epoch 20/25\n",
      "131/131 [==============================] - 4259s 33s/step - loss: 0.0794 - accuracy: 0.9691 - val_loss: 0.0873 - val_accuracy: 0.9598\n",
      "Epoch 21/25\n",
      "131/131 [==============================] - 4254s 32s/step - loss: 0.0902 - accuracy: 0.9672 - val_loss: 0.2061 - val_accuracy: 0.9234\n",
      "Epoch 22/25\n",
      "131/131 [==============================] - 4277s 33s/step - loss: 0.0627 - accuracy: 0.9789 - val_loss: 0.2997 - val_accuracy: 0.9128\n",
      "Epoch 23/25\n",
      "131/131 [==============================] - 4317s 33s/step - loss: 0.0675 - accuracy: 0.9756 - val_loss: 0.0973 - val_accuracy: 0.9483\n",
      "Epoch 24/25\n",
      "131/131 [==============================] - 4290s 33s/step - loss: 0.0638 - accuracy: 0.9765 - val_loss: 0.2758 - val_accuracy: 0.9033\n",
      "Epoch 25/25\n",
      "131/131 [==============================] - 4357s 33s/step - loss: 0.0549 - accuracy: 0.9794 - val_loss: 0.1485 - val_accuracy: 0.9483\n"
     ]
    },
    {
     "data": {
      "text/plain": [
       "<keras.callbacks.History at 0x2152b582580>"
      ]
     },
     "execution_count": 7,
     "metadata": {},
     "output_type": "execute_result"
    }
   ],
   "source": [
    "from tensorflow.keras.callbacks import EarlyStopping\n",
    "callback = EarlyStopping(monitor='loss', patience=3, min_delta=0.0002)\n",
    "model.fit(x_train, y_train, batch_size=32, epochs=25, validation_split=0.2, callbacks=[callback])"
   ]
  },
  {
   "cell_type": "code",
   "execution_count": 8,
   "metadata": {},
   "outputs": [
    {
     "name": "stdout",
     "output_type": "stream",
     "text": [
      "20/20 [==============================] - 257s 13s/step - loss: 4.0743 - accuracy: 0.7436\n",
      "[4.0742716789245605, 0.7435897588729858]\n"
     ]
    }
   ],
   "source": [
    "print(model.evaluate(x_test, y_test))"
   ]
  },
  {
   "attachments": {},
   "cell_type": "markdown",
   "metadata": {},
   "source": [
    "Подбор порога"
   ]
  },
  {
   "cell_type": "code",
   "execution_count": 9,
   "metadata": {},
   "outputs": [
    {
     "name": "stdout",
     "output_type": "stream",
     "text": [
      "20/20 [==============================] - 261s 13s/step\n"
     ]
    }
   ],
   "source": [
    "from sklearn.metrics import accuracy_score\n",
    "y_pred = model.predict(x_test)"
   ]
  },
  {
   "cell_type": "code",
   "execution_count": 10,
   "metadata": {},
   "outputs": [
    {
     "name": "stderr",
     "output_type": "stream",
     "text": [
      "100%|██████████| 624/624 [00:01<00:00, 492.45it/s]\n"
     ]
    }
   ],
   "source": [
    "from tqdm import tqdm\n",
    "results = {'threshold':[], 'accuracy_score':[]}\n",
    "iters = y_pred[:, 1].copy()\n",
    "iters.sort()\n",
    "\n",
    "for i in tqdm(iters):\n",
    "    predict_mine = []\n",
    "    for i2 in y_pred:\n",
    "        if i2[1]>i:\n",
    "            predict_mine.append([0.0,1.0])\n",
    "        else:\n",
    "            predict_mine.append([1.0, 0.0])\n",
    "            \n",
    "    results['threshold'].append(i)\n",
    "    results['accuracy_score'].append(accuracy_score(y_test, predict_mine))"
   ]
  },
  {
   "cell_type": "code",
   "execution_count": 11,
   "metadata": {},
   "outputs": [
    {
     "data": {
      "text/plain": [
       "Text(0, 0.5, 'accuracy_score')"
      ]
     },
     "execution_count": 11,
     "metadata": {},
     "output_type": "execute_result"
    },
    {
     "data": {
      "image/png": "[encoded data removed]",
      "text/plain": [
       "<Figure size 640x480 with 1 Axes>"
      ]
     },
     "metadata": {},
     "output_type": "display_data"
    }
   ],
   "source": [
    "import matplotlib.pyplot as plt\n",
    "plt.plot(results['threshold'], results['accuracy_score'])\n",
    "plt.xlabel('threshold')\n",
    "plt.ylabel('accuracy_score')"
   ]
  },
  {
   "cell_type": "code",
   "execution_count": 12,
   "metadata": {},
   "outputs": [
    {
     "name": "stdout",
     "output_type": "stream",
     "text": [
      "Лучший порог:0.9892129898071289 Лучшая точность:0.8108974358974359\n"
     ]
    }
   ],
   "source": [
    "best_acc = max(results['accuracy_score'])\n",
    "best_threshold = results['threshold'][results['accuracy_score'].index(best_acc)]\n",
    "print(f'Лучший порог:{best_threshold} Лучшая точность:{best_acc}')"
   ]
  },
  {
   "cell_type": "code",
   "execution_count": 26,
   "metadata": {},
   "outputs": [
    {
     "name": "stdout",
     "output_type": "stream",
     "text": [
      "              precision    recall  f1-score   support\n",
      "\n",
      "         0.0       0.87      0.37      0.52       234\n",
      "         1.0       0.72      0.97      0.82       390\n",
      "\n",
      "    accuracy                           0.74       624\n",
      "   macro avg       0.79      0.67      0.67       624\n",
      "weighted avg       0.78      0.74      0.71       624\n",
      "\n"
     ]
    }
   ],
   "source": [
    "from sklearn.metrics import classification_report, confusion_matrix\n",
    "print(classification_report(y_test[:, 1], np.where(y_pred[:, 1] > 0.5, 1, 0)))"
   ]
  },
  {
   "cell_type": "code",
   "execution_count": 27,
   "metadata": {},
   "outputs": [
    {
     "data": {
      "text/plain": [
       "array([[ 87, 147],\n",
       "       [ 13, 377]], dtype=int64)"
      ]
     },
     "execution_count": 27,
     "metadata": {},
     "output_type": "execute_result"
    }
   ],
   "source": [
    "confusion_matrix(y_test[:, 1], np.where(y_pred[:, 1] > 0.5, 1, 0))"
   ]
  },
  {
   "cell_type": "code",
   "execution_count": 34,
   "metadata": {},
   "outputs": [
    {
     "data": {
      "text/plain": [
       "{0.0: 1341, 1.0: 3875}"
      ]
     },
     "execution_count": 34,
     "metadata": {},
     "output_type": "execute_result"
    }
   ],
   "source": [
    "unique, counts = np.unique(y_train[:, 1], return_counts=True)\n",
    "dict(zip(unique, counts))"
   ]
  },
  {
   "attachments": {},
   "cell_type": "markdown",
   "metadata": {},
   "source": [
    "либо модель получилась переобученой либо нужен undersamling или oversampling"
   ]
  },
  {
   "cell_type": "code",
   "execution_count": 13,
   "metadata": {},
   "outputs": [
    {
     "name": "stderr",
     "output_type": "stream",
     "text": [
      "WARNING:absl:Found untraced functions such as _jit_compiled_convolution_op, _jit_compiled_convolution_op, _jit_compiled_convolution_op, _jit_compiled_convolution_op, _jit_compiled_convolution_op while saving (showing 5 of 7). These functions will not be directly callable after loading.\n"
     ]
    },
    {
     "name": "stdout",
     "output_type": "stream",
     "text": [
      "INFO:tensorflow:Assets written to: model_pneumonia_v1\\assets\n"
     ]
    },
    {
     "name": "stderr",
     "output_type": "stream",
     "text": [
      "INFO:tensorflow:Assets written to: model_pneumonia_v1\\assets\n"
     ]
    }
   ],
   "source": [
    "model.save('model_pneumonia_v1')"
   ]
  },
  {
   "attachments": {},
   "cell_type": "markdown",
   "metadata": {},
   "source": [
    "Попробую обучить на 5 эпохах"
   ]
  },
  {
   "cell_type": "code",
   "execution_count": 3,
   "metadata": {},
   "outputs": [
    {
     "name": "stdout",
     "output_type": "stream",
     "text": [
      "Epoch 1/5\n",
      "131/131 [==============================] - 3775s 29s/step - loss: 0.6527 - accuracy: 0.6683 - val_loss: 0.3212 - val_accuracy: 1.0000\n",
      "Epoch 2/5\n",
      "131/131 [==============================] - 3735s 29s/step - loss: 0.5733 - accuracy: 0.6824 - val_loss: 0.3294 - val_accuracy: 1.0000\n",
      "Epoch 3/5\n",
      "131/131 [==============================] - 3733s 29s/step - loss: 0.4453 - accuracy: 0.7620 - val_loss: 0.1215 - val_accuracy: 0.9042\n",
      "Epoch 4/5\n",
      "131/131 [==============================] - 3738s 29s/step - loss: 0.2714 - accuracy: 0.8883 - val_loss: 0.1463 - val_accuracy: 0.9004\n",
      "Epoch 5/5\n",
      "131/131 [==============================] - 3735s 29s/step - loss: 0.2234 - accuracy: 0.9144 - val_loss: 0.0908 - val_accuracy: 0.9387\n"
     ]
    },
    {
     "data": {
      "text/plain": [
       "<keras.callbacks.History at 0x1cef6d5ad60>"
      ]
     },
     "execution_count": 3,
     "metadata": {},
     "output_type": "execute_result"
    }
   ],
   "source": [
    "#перезапустил первый блок\n",
    "model.fit(x_train, y_train, batch_size=32, epochs=5, validation_split=0.2)"
   ]
  },
  {
   "cell_type": "code",
   "execution_count": 4,
   "metadata": {},
   "outputs": [
    {
     "name": "stdout",
     "output_type": "stream",
     "text": [
      "20/20 [==============================] - 225s 11s/step - loss: 1.2956 - accuracy: 0.6907\n",
      "[1.2956082820892334, 0.6907051205635071]\n"
     ]
    }
   ],
   "source": [
    "print(model.evaluate(x_test, y_test))"
   ]
  },
  {
   "cell_type": "code",
   "execution_count": 5,
   "metadata": {},
   "outputs": [
    {
     "name": "stdout",
     "output_type": "stream",
     "text": [
      "Epoch 1/3\n",
      "131/131 [==============================] - 3725s 28s/step - loss: 0.1956 - accuracy: 0.9245 - val_loss: 0.1326 - val_accuracy: 0.9262\n",
      "Epoch 2/3\n",
      "131/131 [==============================] - 3726s 28s/step - loss: 0.2290 - accuracy: 0.9060 - val_loss: 0.1867 - val_accuracy: 0.8966\n",
      "Epoch 3/3\n",
      "131/131 [==============================] - 3760s 29s/step - loss: 0.1766 - accuracy: 0.9331 - val_loss: 0.1777 - val_accuracy: 0.9052\n"
     ]
    },
    {
     "data": {
      "text/plain": [
       "<keras.callbacks.History at 0x1cefa253f10>"
      ]
     },
     "execution_count": 5,
     "metadata": {},
     "output_type": "execute_result"
    }
   ],
   "source": [
    "model.fit(x_train, y_train, batch_size=32, epochs=3, validation_split=0.2)"
   ]
  },
  {
   "cell_type": "code",
   "execution_count": 6,
   "metadata": {},
   "outputs": [
    {
     "name": "stdout",
     "output_type": "stream",
     "text": [
      "20/20 [==============================] - 225s 11s/step - loss: 1.1080 - accuracy: 0.7676\n",
      "[1.1079622507095337, 0.7676281929016113]\n"
     ]
    }
   ],
   "source": [
    "print(model.evaluate(x_test, y_test))"
   ]
  },
  {
   "cell_type": "code",
   "execution_count": 48,
   "metadata": {},
   "outputs": [],
   "source": [
    "from typing import List\n",
    "def my_threshold(y_test, y_pred, metrics: List[str]):\n",
    "    \"\"\"\n",
    "    metrics - список мметрик типа ['r2_score', 'f1_score' и.т.п]\n",
    "    \"\"\"\n",
    "\n",
    "    from tqdm import tqdm\n",
    "    c=0\n",
    "\n",
    "    results = {'threshold':[]}\n",
    "    for i in metrics:\n",
    "        results[f'{i}'] = []\n",
    "    iters = y_pred[:, 1].copy()\n",
    "    iters.sort()\n",
    "\n",
    "    for i in tqdm(iters):\n",
    "        predict_mine = []\n",
    "        for i2 in y_pred:\n",
    "            if i2[1]>i:\n",
    "                predict_mine.append([0.0, 1.0])\n",
    "            else:\n",
    "                predict_mine.append([1.0, 0.0])\n",
    "                \n",
    "        results['threshold'].append(i)\n",
    "        for i in metrics:\n",
    "            c+=1\n",
    "            exec(f'a{c} = {i}(y_test, predict_mine)')\n",
    "            exec(f'results[\"{i}\"].append(a{c})')\n",
    "    \n",
    "    return results\n"
   ]
  },
  {
   "cell_type": "code",
   "execution_count": null,
   "metadata": {},
   "outputs": [],
   "source": [
    "y_pred = model.predict(x_test)"
   ]
  },
  {
   "cell_type": "code",
   "execution_count": 49,
   "metadata": {},
   "outputs": [
    {
     "name": "stderr",
     "output_type": "stream",
     "text": [
      "100%|██████████| 624/624 [00:01<00:00, 535.77it/s]\n"
     ]
    },
    {
     "data": {
      "text/plain": [
       "Text(0, 0.5, 'accuracy_score')"
      ]
     },
     "execution_count": 49,
     "metadata": {},
     "output_type": "execute_result"
    },
    {
     "data": {
      "image/png": "[encoded data removed]",
      "text/plain": [
       "<Figure size 640x480 with 1 Axes>"
      ]
     },
     "metadata": {},
     "output_type": "display_data"
    }
   ],
   "source": [
    "from sklearn.metrics import accuracy_score\n",
    "res = my_threshold(y_test, y_pred, ['accuracy_score'])\n",
    "\n",
    "import matplotlib.pyplot as plt\n",
    "plt.plot(res['threshold'], res['accuracy_score'])\n",
    "plt.xlabel('threshold')\n",
    "plt.ylabel('accuracy_score')"
   ]
  },
  {
   "cell_type": "code",
   "execution_count": 46,
   "metadata": {},
   "outputs": [
    {
     "name": "stdout",
     "output_type": "stream",
     "text": [
      "Лучший порог:0.6788942217826843 Лучший accuracy_score:0.7868589743589743\n"
     ]
    }
   ],
   "source": [
    "best_acc = max(res['accuracy_score'])\n",
    "best_threshold = res['threshold'][res['accuracy_score'].index(best_acc)]\n",
    "print(f'Лучший порог:{best_threshold} Лучший accuracy_score:{best_acc}')"
   ]
  },
  {
   "cell_type": "code",
   "execution_count": 51,
   "metadata": {},
   "outputs": [
    {
     "name": "stdout",
     "output_type": "stream",
     "text": [
      "              precision    recall  f1-score   support\n",
      "\n",
      "         0.0       0.88      0.44      0.58       234\n",
      "         1.0       0.74      0.96      0.84       390\n",
      "\n",
      "    accuracy                           0.77       624\n",
      "   macro avg       0.81      0.70      0.71       624\n",
      "weighted avg       0.79      0.77      0.74       624\n",
      "\n"
     ]
    }
   ],
   "source": [
    "from sklearn.metrics import classification_report, confusion_matrix\n",
    "print(classification_report(y_test[:, 1], np.where(y_pred[:, 1] > 0.5, 1, 0)))"
   ]
  },
  {
   "cell_type": "code",
   "execution_count": 52,
   "metadata": {},
   "outputs": [
    {
     "data": {
      "text/plain": [
       "array([[102, 132],\n",
       "       [ 14, 376]], dtype=int64)"
      ]
     },
     "execution_count": 52,
     "metadata": {},
     "output_type": "execute_result"
    }
   ],
   "source": [
    "confusion_matrix(y_test[:, 1], np.where(y_pred[:, 1] > 0.5, 1, 0))"
   ]
  },
  {
   "cell_type": "code",
   "execution_count": 55,
   "metadata": {},
   "outputs": [
    {
     "name": "stderr",
     "output_type": "stream",
     "text": [
      "WARNING:absl:Found untraced functions such as _jit_compiled_convolution_op, _jit_compiled_convolution_op, _jit_compiled_convolution_op, _jit_compiled_convolution_op, _jit_compiled_convolution_op while saving (showing 5 of 7). These functions will not be directly callable after loading.\n"
     ]
    },
    {
     "name": "stdout",
     "output_type": "stream",
     "text": [
      "INFO:tensorflow:Assets written to: model_pneumonia_v2\\assets\n"
     ]
    },
    {
     "name": "stderr",
     "output_type": "stream",
     "text": [
      "INFO:tensorflow:Assets written to: model_pneumonia_v2\\assets\n"
     ]
    }
   ],
   "source": [
    "model.save('model_pneumonia_v2')"
   ]
  }
 ],
 "metadata": {
  "kernelspec": {
   "display_name": "machinelearning",
   "language": "python",
   "name": "python3"
  },
  "language_info": {
   "codemirror_mode": {
    "name": "ipython",
    "version": 3
   },
   "file_extension": ".py",
   "mimetype": "text/x-python",
   "name": "python",
   "nbconvert_exporter": "python",
   "pygments_lexer": "ipython3",
   "version": "3.9.16"
  },
  "orig_nbformat": 4
 },
 "nbformat": 4,
 "nbformat_minor": 2
}
