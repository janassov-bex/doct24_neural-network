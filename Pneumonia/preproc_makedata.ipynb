{
 "cells": [
  {
   "attachments": {},
   "cell_type": "markdown",
   "metadata": {},
   "source": [
    "Создание сетов x_train, x_test, y_train, y_test из изображений"
   ]
  },
  {
   "cell_type": "code",
   "execution_count": 1,
   "metadata": {},
   "outputs": [],
   "source": [
    "def make_train_test_0_1(path_train_0, path_train_1, path_test_0, path_test_1, size_x_size=128): \n",
    "    \"\"\"\n",
    "    Функция возвращает x_train, x_test, y_train, y_test используя пути с изображениями path_train_0, path_train_1, path_test_0, path_test_1\n",
    "    Для бинарной класификации\n",
    "    Функция может быть не универсальной(может не решить вашу задачу из-за плохих путей)\n",
    "    \"\"\"\n",
    "    if not all([path_train_0.count('\\\\'), path_train_1.count('\\\\'), path_test_0.count('\\\\'), path_test_1.count('\\\\')]):\n",
    "        print(\"Неправильный формат! Пути должны быть с использованием \\\\ например: '\\\\chest_xray\\\\test\\\\PNEUMONIA'\")\n",
    "        return 0\n",
    "    \n",
    "    import cv2\n",
    "    import os\n",
    "    import numpy as np\n",
    "    from tqdm import tqdm\n",
    "\n",
    "    path = os.getcwd()\n",
    "    train_0 = os.listdir(path+path_train_0)\n",
    "    train_1 = os.listdir(path+path_train_1)\n",
    "    test_0 = os.listdir(path+path_test_0)\n",
    "    test_1 = os.listdir(path+path_test_1)\n",
    "\n",
    "    counter = 0\n",
    "    #Выбранна установка единого разрешения size_x_sizexsize_x_size, тут просто символично указан размер\n",
    "    x_train= np.zeros([1, size_x_size, size_x_size, 3])\n",
    "    y_train = np.zeros([1, 1])\n",
    "\n",
    "    print('------make train 1/2------')\n",
    "    for photo in tqdm(train_0):\n",
    "        packer = cv2.imread(path_train_0.replace('\\\\', '/')[1:]+'/'+photo)\n",
    "        packer = cv2.resize(packer, (size_x_size, size_x_size))\n",
    "        packer = packer[np.newaxis, :]\n",
    "        if counter == 0:\n",
    "            y_train = np.array([[0]])\n",
    "            x_train = packer\n",
    "            counter += 1            \n",
    "        else:\n",
    "            x_train = np.concatenate([x_train, packer], axis=0)\n",
    "            y_train = np.concatenate([y_train, np.array([[0]])], axis=0)\n",
    "    \n",
    "    print('------make train 2/2------')\n",
    "    for photo in tqdm(train_1):\n",
    "        packer = cv2.imread(path_train_1.replace('\\\\', '/')[1:]+'/'+photo)\n",
    "        packer = cv2.resize(packer, (size_x_size, size_x_size))\n",
    "        packer = packer[np.newaxis, :]\n",
    "        if counter == 0:\n",
    "            y_train = np.array([[1]])\n",
    "            x_train = packer\n",
    "            counter += 1            \n",
    "        else:\n",
    "            x_train = np.concatenate([x_train, packer], axis=0)\n",
    "            y_train = np.concatenate([y_train, np.array([[1]])], axis=0)\n",
    "\n",
    "    counter = 0\n",
    "    x_test= np.zeros([1, size_x_size, size_x_size, 3])\n",
    "    y_test = np.zeros([1, 1])\n",
    "\n",
    "    print('------make test 1/2------')\n",
    "    for photo in tqdm(test_0):\n",
    "        packer = cv2.imread(path_test_0.replace('\\\\', '/')[1:]+'/'+photo)\n",
    "        packer = cv2.resize(packer, (size_x_size, size_x_size))\n",
    "        packer = packer[np.newaxis, :]\n",
    "        if counter == 0:\n",
    "            y_test = np.array([[0]])\n",
    "            x_test = packer\n",
    "            counter += 1            \n",
    "        else:\n",
    "            x_test = np.concatenate([x_test, packer], axis=0)\n",
    "            y_test = np.concatenate([y_test, np.array([[0]])], axis=0)\n",
    "\n",
    "    print('------make test 2/2------')\n",
    "    for photo in tqdm(test_1):\n",
    "        packer = cv2.imread(path_test_1.replace('\\\\', '/')[1:]+'/'+photo)\n",
    "        packer = cv2.resize(packer, (size_x_size, size_x_size))\n",
    "        packer = packer[np.newaxis, :]\n",
    "        if counter == 0:\n",
    "            y_test = np.array([[1]])\n",
    "            x_test = packer\n",
    "            counter += 1            \n",
    "        else:\n",
    "            x_test = np.concatenate([x_test, packer], axis=0)\n",
    "            y_test = np.concatenate([y_test, np.array([[1]])], axis=0)\n",
    "    \n",
    "\n",
    "    return x_train, x_test, y_train, y_test\n",
    "    "
   ]
  },
  {
   "cell_type": "code",
   "execution_count": 2,
   "metadata": {},
   "outputs": [
    {
     "name": "stdout",
     "output_type": "stream",
     "text": [
      "------make train 1/2------\n"
     ]
    },
    {
     "name": "stderr",
     "output_type": "stream",
     "text": [
      "100%|██████████| 1341/1341 [01:03<00:00, 21.10it/s]\n"
     ]
    },
    {
     "name": "stdout",
     "output_type": "stream",
     "text": [
      "------make train 2/2------\n"
     ]
    },
    {
     "name": "stderr",
     "output_type": "stream",
     "text": [
      "100%|██████████| 3875/3875 [05:00<00:00, 12.90it/s]\n"
     ]
    },
    {
     "name": "stdout",
     "output_type": "stream",
     "text": [
      "------make test 1/2------\n"
     ]
    },
    {
     "name": "stderr",
     "output_type": "stream",
     "text": [
      "100%|██████████| 234/234 [00:06<00:00, 37.84it/s]\n"
     ]
    },
    {
     "name": "stdout",
     "output_type": "stream",
     "text": [
      "------make test 2/2------\n"
     ]
    },
    {
     "name": "stderr",
     "output_type": "stream",
     "text": [
      "100%|██████████| 390/390 [00:07<00:00, 52.07it/s]\n"
     ]
    }
   ],
   "source": [
    "my_path_train_0 = '\\\\chest_xray\\\\train\\\\NORMAL'\n",
    "my_path_train_1 = '\\\\chest_xray\\\\train\\\\PNEUMONIA'\n",
    "my_path_test_0 = '\\\\chest_xray\\\\test\\\\NORMAL'\n",
    "my_path_test_1 = '\\\\chest_xray\\\\test\\\\PNEUMONIA'\n",
    "\n",
    "\n",
    "x_train, x_test, y_train, y_test =  make_train_test_0_1(my_path_train_0, my_path_train_1, my_path_test_0, my_path_test_1, 128)"
   ]
  },
  {
   "cell_type": "code",
   "execution_count": 3,
   "metadata": {},
   "outputs": [
    {
     "data": {
      "text/plain": [
       "(5216, 128, 128, 3)"
      ]
     },
     "execution_count": 3,
     "metadata": {},
     "output_type": "execute_result"
    }
   ],
   "source": [
    "x_train.shape"
   ]
  },
  {
   "cell_type": "code",
   "execution_count": 15,
   "metadata": {},
   "outputs": [
    {
     "data": {
      "text/plain": [
       "(5216, 1)"
      ]
     },
     "execution_count": 15,
     "metadata": {},
     "output_type": "execute_result"
    }
   ],
   "source": [
    "y_train.shape"
   ]
  },
  {
   "cell_type": "code",
   "execution_count": 16,
   "metadata": {},
   "outputs": [
    {
     "data": {
      "text/plain": [
       "(624, 128, 128, 3)"
      ]
     },
     "execution_count": 16,
     "metadata": {},
     "output_type": "execute_result"
    }
   ],
   "source": [
    "x_test.shape"
   ]
  },
  {
   "cell_type": "code",
   "execution_count": 17,
   "metadata": {},
   "outputs": [
    {
     "data": {
      "text/plain": [
       "(624, 1)"
      ]
     },
     "execution_count": 17,
     "metadata": {},
     "output_type": "execute_result"
    }
   ],
   "source": [
    "y_test.shape"
   ]
  },
  {
   "cell_type": "code",
   "execution_count": 13,
   "metadata": {},
   "outputs": [],
   "source": [
    "# сохранение\n",
    "import numpy as np\n",
    "with open('x_train.npy', 'wb') as f:\n",
    "    np.save(f, x_train)\n",
    "\n",
    "with open('y_train.npy', 'wb') as f:\n",
    "    np.save(f, y_train)\n",
    "\n",
    "# сохранение\n",
    "with open('x_test.npy', 'wb') as f:\n",
    "    np.save(f, x_test)\n",
    "\n",
    "with open('y_test.npy', 'wb') as f:\n",
    "    np.save(f, y_test)"
   ]
  },
  {
   "attachments": {},
   "cell_type": "markdown",
   "metadata": {},
   "source": [
    "Добавил новый сет"
   ]
  },
  {
   "cell_type": "code",
   "execution_count": 7,
   "metadata": {},
   "outputs": [
    {
     "name": "stderr",
     "output_type": "stream",
     "text": [
      "100%|██████████| 3500/3500 [02:21<00:00, 24.80it/s]\n"
     ]
    }
   ],
   "source": [
    "import cv2\n",
    "import os\n",
    "import numpy as np\n",
    "from tqdm import tqdm\n",
    "\n",
    "counter = 0\n",
    "new_x_train= np.zeros([1, 128, 128, 3])\n",
    "new_y_train = np.zeros([1, 1])\n",
    "for photo in tqdm(os.listdir(os.getcwd()+'\\\\chest_xray\\\\Normal_other_set')):\n",
    "        packer = cv2.imread('\\\\chest_xray\\\\Normal_other_set'.replace('\\\\', '/')[1:]+'/'+photo)\n",
    "        packer = cv2.resize(packer, (128, 128))\n",
    "        packer = packer[np.newaxis, :]\n",
    "        if counter == 0:\n",
    "            new_y_train = np.array([[0]])\n",
    "            new_x_train = packer\n",
    "            counter += 1            \n",
    "        else:\n",
    "            new_x_train = np.concatenate([new_x_train, packer], axis=0)\n",
    "            new_y_train = np.concatenate([new_y_train, np.array([[0]])], axis=0)"
   ]
  },
  {
   "cell_type": "code",
   "execution_count": 34,
   "metadata": {},
   "outputs": [],
   "source": [
    "old_x_train = np.load('x_train.npy')\n",
    "old_y_train = np.load('y_train.npy')\n",
    "x_test= np.load('x_test.npy')"
   ]
  },
  {
   "attachments": {},
   "cell_type": "markdown",
   "metadata": {},
   "source": [
    "Проверка есть ли в новом сете одинаковые изоброжения"
   ]
  },
  {
   "cell_type": "code",
   "execution_count": 32,
   "metadata": {},
   "outputs": [],
   "source": [
    "def equally_test(a, b):\n",
    "    a = a.reshape(a.shape[0], -1)\n",
    "    b = b.reshape(b.shape[0], -1)\n",
    "    rows1 = a.view([('', a.dtype)] * a.shape[1]) \n",
    "    rows2 = b.view([('', b.dtype)] * b.shape[1])\n",
    "\n",
    "    intersection = np.intersect1d(rows1, rows2)\n",
    "\n",
    "    if intersection.size > 0:\n",
    "        print(f\"Найдены схожие векторы в матрицах. Есть одинаковые изображения в количестве {len(intersection)}\")\n",
    "    else:\n",
    "        print(\"Схожих векторов в матрицах не найдено. Нет одинаковых изображений\")\n"
   ]
  },
  {
   "cell_type": "code",
   "execution_count": 33,
   "metadata": {},
   "outputs": [
    {
     "name": "stdout",
     "output_type": "stream",
     "text": [
      "Схожих векторов в матрицах не найдено. Нет одинаковых изображений\n"
     ]
    }
   ],
   "source": [
    "equally_test(new_x_train[:2534], old_x_train)"
   ]
  },
  {
   "cell_type": "code",
   "execution_count": 35,
   "metadata": {},
   "outputs": [
    {
     "name": "stdout",
     "output_type": "stream",
     "text": [
      "Схожих векторов в матрицах не найдено. Нет одинаковых изображений\n"
     ]
    }
   ],
   "source": [
    "equally_test(new_x_train[:2534], x_test)"
   ]
  },
  {
   "cell_type": "code",
   "execution_count": 47,
   "metadata": {},
   "outputs": [],
   "source": [
    "x_train =  np.concatenate([new_x_train[:2534], old_x_train], axis=0)\n",
    "y_train =  np.concatenate([new_y_train[:2534], old_y_train], axis=0)\n"
   ]
  },
  {
   "cell_type": "code",
   "execution_count": 48,
   "metadata": {},
   "outputs": [],
   "source": [
    "with open('x_train.npy', 'wb') as f:\n",
    "    np.save(f, x_train)\n",
    "\n",
    "with open('y_train.npy', 'wb') as f:\n",
    "    np.save(f, y_train)"
   ]
  }
 ],
 "metadata": {
  "kernelspec": {
   "display_name": "machinelearning",
   "language": "python",
   "name": "python3"
  },
  "language_info": {
   "codemirror_mode": {
    "name": "ipython",
    "version": 3
   },
   "file_extension": ".py",
   "mimetype": "text/x-python",
   "name": "python",
   "nbconvert_exporter": "python",
   "pygments_lexer": "ipython3",
   "version": "3.9.16"
  },
  "orig_nbformat": 4
 },
 "nbformat": 4,
 "nbformat_minor": 2
}
