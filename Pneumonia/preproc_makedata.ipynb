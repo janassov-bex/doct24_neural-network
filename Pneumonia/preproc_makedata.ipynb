{
 "cells": [
  {
   "attachments": {},
   "cell_type": "markdown",
   "metadata": {},
   "source": [
    "Создание сетов x_train, x_test, y_train, y_test из изображений"
   ]
  },
  {
   "cell_type": "code",
   "execution_count": 34,
   "metadata": {},
   "outputs": [],
   "source": [
    "def make_train_test_0_1(path_train_0, path_train_1, path_test_0, path_test_1): \n",
    "    \"\"\"\n",
    "    Функция возвращает x_train, x_test, y_train, y_test используя пути с изображениями path_train_0, path_train_1, path_test_0, path_test_1\n",
    "    Для бинарной класификации\n",
    "    Функция может быть не универсальной(может не решить вашу задачу из-за плохих путей)\n",
    "    \"\"\"\n",
    "    if not all([path_train_0.count('\\\\'), path_train_1.count('\\\\'), path_test_0.count('\\\\'), path_test_1.count('\\\\')]):\n",
    "        print(\"Неправильный формат! Пути должны быть с использованием \\\\ например: '\\\\chest_xray\\\\test\\\\PNEUMONIA'\")\n",
    "        return 0\n",
    "    \n",
    "    import cv2\n",
    "    import os\n",
    "    import numpy as np\n",
    "    from tqdm import tqdm\n",
    "\n",
    "    path = os.getcwd()\n",
    "    train_0 = os.listdir(path+path_train_0)\n",
    "    train_1 = os.listdir(path+path_train_1)\n",
    "    test_0 = os.listdir(path+path_test_0)\n",
    "    test_1 = os.listdir(path+path_test_1)\n",
    "\n",
    "    counter = 0\n",
    "    #Выбранна установка единого разрешения 128x128, тут просто символично указан размер\n",
    "    x_train= np.zeros([1, 128, 128, 3])\n",
    "    y_train = np.zeros([1, 1])\n",
    "\n",
    "    print('------make train 1/2------')\n",
    "    for photo in tqdm(train_0):\n",
    "        packer = cv2.imread(path_train_0.replace('\\\\', '/')[1:]+'/'+photo)\n",
    "        packer = cv2.resize(packer, (128, 128))\n",
    "        packer = packer[np.newaxis, :]\n",
    "        if counter == 0:\n",
    "            y_train = np.array([[0]])\n",
    "            x_train = packer\n",
    "            counter += 1            \n",
    "        else:\n",
    "            x_train = np.concatenate([x_train, packer], axis=0)\n",
    "            y_train = np.concatenate([y_train, np.array([[0]])], axis=0)\n",
    "    \n",
    "    print('------make train 2/2------')\n",
    "    for photo in tqdm(train_1):\n",
    "        packer = cv2.imread(path_train_1.replace('\\\\', '/')[1:]+'/'+photo)\n",
    "        packer = cv2.resize(packer, (128, 128))\n",
    "        packer = packer[np.newaxis, :]\n",
    "        if counter == 0:\n",
    "            y_train = np.array([[1]])\n",
    "            x_train = packer\n",
    "            counter += 1            \n",
    "        else:\n",
    "            x_train = np.concatenate([x_train, packer], axis=0)\n",
    "            y_train = np.concatenate([y_train, np.array([[1]])], axis=0)\n",
    "\n",
    "    counter = 0\n",
    "    x_test= np.zeros([1, 128, 128, 3])\n",
    "    y_test = np.zeros([1, 1])\n",
    "\n",
    "    print('------make test 1/2------')\n",
    "    for photo in tqdm(test_0):\n",
    "        packer = cv2.imread(path_test_0.replace('\\\\', '/')[1:]+'/'+photo)\n",
    "        packer = cv2.resize(packer, (128, 128))\n",
    "        packer = packer[np.newaxis, :]\n",
    "        if counter == 0:\n",
    "            y_test = np.array([[0]])\n",
    "            x_test = packer\n",
    "            counter += 1            \n",
    "        else:\n",
    "            x_test = np.concatenate([x_test, packer], axis=0)\n",
    "            y_test = np.concatenate([y_test, np.array([[0]])], axis=0)\n",
    "\n",
    "    print('------make test 2/2------')\n",
    "    for photo in tqdm(test_1):\n",
    "        packer = cv2.imread(path_test_1.replace('\\\\', '/')[1:]+'/'+photo)\n",
    "        packer = cv2.resize(packer, (128, 128))\n",
    "        packer = packer[np.newaxis, :]\n",
    "        if counter == 0:\n",
    "            y_test = np.array([[1]])\n",
    "            x_test = packer\n",
    "            counter += 1            \n",
    "        else:\n",
    "            x_test = np.concatenate([x_test, packer], axis=0)\n",
    "            y_test = np.concatenate([y_test, np.array([[1]])], axis=0)\n",
    "\n",
    "    return x_train, x_test, y_train, y_test\n",
    "    "
   ]
  },
  {
   "cell_type": "code",
   "execution_count": 38,
   "metadata": {},
   "outputs": [
    {
     "name": "stdout",
     "output_type": "stream",
     "text": [
      "------make train 1/2------\n"
     ]
    },
    {
     "name": "stderr",
     "output_type": "stream",
     "text": [
      "100%|██████████| 1341/1341 [01:01<00:00, 21.81it/s]\n"
     ]
    },
    {
     "name": "stdout",
     "output_type": "stream",
     "text": [
      "------make train 2/2------\n"
     ]
    },
    {
     "name": "stderr",
     "output_type": "stream",
     "text": [
      "100%|██████████| 3875/3875 [04:52<00:00, 13.23it/s]\n"
     ]
    },
    {
     "name": "stdout",
     "output_type": "stream",
     "text": [
      "------make test 1/2------\n"
     ]
    },
    {
     "name": "stderr",
     "output_type": "stream",
     "text": [
      "100%|██████████| 234/234 [00:05<00:00, 43.48it/s]\n"
     ]
    },
    {
     "name": "stdout",
     "output_type": "stream",
     "text": [
      "------make test 2/2------\n"
     ]
    },
    {
     "name": "stderr",
     "output_type": "stream",
     "text": [
      "100%|██████████| 390/390 [00:05<00:00, 65.11it/s]\n"
     ]
    }
   ],
   "source": [
    "my_path_train_0 = '\\\\chest_xray\\\\train\\\\NORMAL'\n",
    "my_path_train_1 = '\\\\chest_xray\\\\train\\\\PNEUMONIA'\n",
    "my_path_test_0 = '\\\\chest_xray\\\\test\\\\NORMAL'\n",
    "my_path_test_1 = '\\\\chest_xray\\\\test\\\\PNEUMONIA'\n",
    "x_train, x_test, y_train, y_test =  make_train_test_0_1(my_path_train_0, my_path_train_1, my_path_test_0, my_path_test_1)"
   ]
  },
  {
   "cell_type": "code",
   "execution_count": 39,
   "metadata": {},
   "outputs": [
    {
     "data": {
      "text/plain": [
       "(5216, 128, 128, 3)"
      ]
     },
     "execution_count": 39,
     "metadata": {},
     "output_type": "execute_result"
    }
   ],
   "source": [
    "x_train.shape"
   ]
  },
  {
   "cell_type": "code",
   "execution_count": 40,
   "metadata": {},
   "outputs": [
    {
     "data": {
      "text/plain": [
       "(5216, 1)"
      ]
     },
     "execution_count": 40,
     "metadata": {},
     "output_type": "execute_result"
    }
   ],
   "source": [
    "y_train.shape"
   ]
  },
  {
   "cell_type": "code",
   "execution_count": 41,
   "metadata": {},
   "outputs": [
    {
     "data": {
      "text/plain": [
       "(624, 128, 128, 3)"
      ]
     },
     "execution_count": 41,
     "metadata": {},
     "output_type": "execute_result"
    }
   ],
   "source": [
    "x_test.shape"
   ]
  },
  {
   "cell_type": "code",
   "execution_count": 42,
   "metadata": {},
   "outputs": [
    {
     "data": {
      "text/plain": [
       "(624, 1)"
      ]
     },
     "execution_count": 42,
     "metadata": {},
     "output_type": "execute_result"
    }
   ],
   "source": [
    "y_test.shape"
   ]
  },
  {
   "cell_type": "code",
   "execution_count": 43,
   "metadata": {},
   "outputs": [],
   "source": [
    "# сохранение\n",
    "with open('x_train.npy', 'wb') as f:\n",
    "    np.save(f, x_train)\n",
    "\n",
    "with open('y_train.npy', 'wb') as f:\n",
    "    np.save(f, y_train)\n",
    "\n",
    "# сохранение\n",
    "with open('x_test.npy', 'wb') as f:\n",
    "    np.save(f, x_test)\n",
    "\n",
    "with open('y_test.npy', 'wb') as f:\n",
    "    np.save(f, y_test)"
   ]
  }
 ],
 "metadata": {
  "kernelspec": {
   "display_name": "machinelearning",
   "language": "python",
   "name": "python3"
  },
  "language_info": {
   "codemirror_mode": {
    "name": "ipython",
    "version": 3
   },
   "file_extension": ".py",
   "mimetype": "text/x-python",
   "name": "python",
   "nbconvert_exporter": "python",
   "pygments_lexer": "ipython3",
   "version": "3.9.16"
  },
  "orig_nbformat": 4
 },
 "nbformat": 4,
 "nbformat_minor": 2
}
