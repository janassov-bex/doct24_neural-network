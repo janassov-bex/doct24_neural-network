{
 "cells": [
  {
   "cell_type": "code",
   "execution_count": 1,
   "metadata": {},
   "outputs": [],
   "source": [
    "import cv2\n",
    "import os\n",
    "import numpy as np"
   ]
  },
  {
   "attachments": {},
   "cell_type": "markdown",
   "metadata": {},
   "source": [
    "Создание сета с легкими"
   ]
  },
  {
   "cell_type": "code",
   "execution_count": 2,
   "metadata": {},
   "outputs": [
    {
     "name": "stderr",
     "output_type": "stream",
     "text": [
      "100%|██████████| 4/4 [00:08<00:00,  2.01s/it]\n"
     ]
    }
   ],
   "source": [
    "path = os.getcwd()\n",
    "train = os.listdir(path+'\\\\Lungs\\\\train')\n",
    "valid = os.listdir(path+'\\\\Lungs\\\\valid')\n",
    "\n",
    "counter = 0\n",
    "x_lung= np.zeros([1, 128, 128, 3])#Выбранна установка единого разрешения 128x128, тут просто символично указан размер\n",
    "y_lung = np.zeros([1, 1])\n",
    "from tqdm import tqdm\n",
    "for dir in tqdm(range(0, 4)):\n",
    "    photos = os.listdir(path+'\\\\Lungs\\\\train\\\\'+train[dir])\n",
    "    for photo in photos:\n",
    "        packer = cv2.imread('Lungs/train/'+train[dir]+'/'+photo)\n",
    "        packer = cv2.resize(packer, (128, 128))\n",
    "        packer = packer[np.newaxis, :]\n",
    "        if counter == 0:\n",
    "            y_lung = np.array([[0]])\n",
    "            x_lung = packer\n",
    "            counter += 1            \n",
    "        else:\n",
    "            x_lung = np.concatenate([x_lung, packer], axis=0)\n",
    "            y_lung = np.concatenate([y_lung, np.array([[0]])], axis=0)\n",
    "    \n",
    "    photos = os.listdir(path+'\\\\Lungs\\\\valid\\\\'+valid[dir])\n",
    "    for photo in photos:\n",
    "        packer = cv2.imread('Lungs/valid/'+valid[dir]+'/'+photo)\n",
    "        packer = cv2.resize(packer, (128, 128))\n",
    "        packer = packer[np.newaxis, :]\n",
    "        if counter == 0:\n",
    "            y_lung = np.array([[0]])\n",
    "            x_lung = packer\n",
    "            counter += 1            \n",
    "        else:\n",
    "            x_lung = np.concatenate([x_lung, packer], axis=0)\n",
    "            y_lung = np.concatenate([y_lung, np.array([[0]])], axis=0)\n",
    "\n",
    "    "
   ]
  },
  {
   "attachments": {},
   "cell_type": "markdown",
   "metadata": {},
   "source": [
    "Создание сета c мозгами"
   ]
  },
  {
   "cell_type": "code",
   "execution_count": 3,
   "metadata": {},
   "outputs": [],
   "source": [
    "path = os.getcwd()\n",
    "train = os.listdir(path+'\\\\Brains\\\\images\\\\trainA')\n",
    "valid = os.listdir(path+'\\\\Brains\\\\images\\\\testA')\n",
    "\n",
    "counter = 0\n",
    "x_brain= np.ones([1, 128, 128, 3])#Выбранна установка единого разрешения 128x128, тут просто символично указан размер\n",
    "y_brain = np.ones([1, 1])\n",
    "for photo in train:\n",
    "    packer = cv2.imread('Brains/images/trainA/'+photo)\n",
    "    packer = cv2.resize(packer, (128, 128))\n",
    "    packer = packer[np.newaxis, :]\n",
    "    if counter == 0:\n",
    "        y_brain = np.array([[1]])\n",
    "        x_brain = packer\n",
    "        counter += 1            \n",
    "    else:\n",
    "        x_brain = np.concatenate([x_brain, packer], axis=0)\n",
    "        y_brain = np.concatenate([y_brain, np.array([[1]])], axis=0)\n",
    "\n",
    "for photo in valid:\n",
    "    packer = cv2.imread('Brains/images/testA/'+photo)\n",
    "    packer = cv2.resize(packer, (128, 128))\n",
    "    packer = packer[np.newaxis, :]\n",
    "    if counter == 0:\n",
    "        y_brain = np.array([[1]])\n",
    "        x_brain = packer\n",
    "        counter += 1            \n",
    "    else:\n",
    "        x_brain = np.concatenate([x_brain, packer], axis=0)\n",
    "        y_brain = np.concatenate([y_brain, np.array([[1]])], axis=0)"
   ]
  },
  {
   "cell_type": "code",
   "execution_count": 4,
   "metadata": {},
   "outputs": [
    {
     "data": {
      "text/plain": [
       "(685, 128, 128, 3)"
      ]
     },
     "execution_count": 4,
     "metadata": {},
     "output_type": "execute_result"
    }
   ],
   "source": [
    "x_lung.shape"
   ]
  },
  {
   "cell_type": "code",
   "execution_count": 5,
   "metadata": {},
   "outputs": [
    {
     "data": {
      "text/plain": [
       "(685, 1)"
      ]
     },
     "execution_count": 5,
     "metadata": {},
     "output_type": "execute_result"
    }
   ],
   "source": [
    "y_lung.shape"
   ]
  },
  {
   "cell_type": "code",
   "execution_count": 6,
   "metadata": {},
   "outputs": [
    {
     "data": {
      "text/plain": [
       "(2486, 128, 128, 3)"
      ]
     },
     "execution_count": 6,
     "metadata": {},
     "output_type": "execute_result"
    }
   ],
   "source": [
    "x_brain.shape"
   ]
  },
  {
   "cell_type": "code",
   "execution_count": 7,
   "metadata": {},
   "outputs": [
    {
     "data": {
      "text/plain": [
       "(2486, 1)"
      ]
     },
     "execution_count": 7,
     "metadata": {},
     "output_type": "execute_result"
    }
   ],
   "source": [
    "y_brain.shape"
   ]
  },
  {
   "cell_type": "code",
   "execution_count": 8,
   "metadata": {},
   "outputs": [],
   "source": [
    "#покачто без овер и андер сэмплингов\n",
    "x_all = np.concatenate([x_brain, x_lung], axis=0)\n",
    "y_all = np.concatenate([y_brain, y_lung], axis=0)"
   ]
  },
  {
   "cell_type": "code",
   "execution_count": 9,
   "metadata": {},
   "outputs": [],
   "source": [
    "# сохранение\n",
    "with open('x_all.npy', 'wb') as f:\n",
    "    np.save(f, x_all)\n",
    "\n",
    "with open('y_all.npy', 'wb') as f:\n",
    "    np.save(f, y_all)"
   ]
  }
 ],
 "metadata": {
  "kernelspec": {
   "display_name": "machinelearning",
   "language": "python",
   "name": "python3"
  },
  "language_info": {
   "codemirror_mode": {
    "name": "ipython",
    "version": 3
   },
   "file_extension": ".py",
   "mimetype": "text/x-python",
   "name": "python",
   "nbconvert_exporter": "python",
   "pygments_lexer": "ipython3",
   "version": "3.9.16"
  },
  "orig_nbformat": 4
 },
 "nbformat": 4,
 "nbformat_minor": 2
}
